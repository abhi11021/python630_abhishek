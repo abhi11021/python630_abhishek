{
 "cells": [
  {
   "cell_type": "code",
   "execution_count": 1,
   "id": "cb3ab16c-1ba2-4e09-b3d0-eac09a1aed9a",
   "metadata": {},
   "outputs": [],
   "source": [
    "#Lo0p\n",
    "#for loop\n",
    "#while loop"
   ]
  },
  {
   "cell_type": "code",
   "execution_count": 2,
   "id": "791b6eaa-6deb-4e0d-8649-48404a238de9",
   "metadata": {},
   "outputs": [],
   "source": [
    "# range (5)  # 0,1,2,3,4\n",
    "# range (1,5) # 1,2,3,4\n",
    "# range (0,5,2) # 0,2,4 \n"
   ]
  },
  {
   "cell_type": "code",
   "execution_count": 3,
   "id": "5d171bca-de99-463a-8edf-03ebae08d160",
   "metadata": {},
   "outputs": [
    {
     "name": "stdout",
     "output_type": "stream",
     "text": [
      "0\n",
      "1\n",
      "2\n",
      "3\n",
      "4\n"
     ]
    }
   ],
   "source": [
    "for i in range (5):\n",
    "    print (i)"
   ]
  },
  {
   "cell_type": "code",
   "execution_count": 7,
   "id": "b62c6b88-c59a-4a47-bb75-31a78312557e",
   "metadata": {},
   "outputs": [
    {
     "name": "stdout",
     "output_type": "stream",
     "text": [
      "1 Hello world\n",
      "2 Hello world\n",
      "3 Hello world\n",
      "4 Hello world\n"
     ]
    }
   ],
   "source": [
    "for i in range (1,5):\n",
    "    print (i,\"Hello world\")"
   ]
  },
  {
   "cell_type": "code",
   "execution_count": null,
   "id": "b0e7ac39-c1f9-4c2e-8b47-7a8ee8df68c6",
   "metadata": {},
   "outputs": [],
   "source": []
  },
  {
   "cell_type": "code",
   "execution_count": 8,
   "id": "9016c808-aab7-44b2-89c7-74d5a7fd6acf",
   "metadata": {},
   "outputs": [
    {
     "name": "stdout",
     "output_type": "stream",
     "text": [
      "0 hello world\n",
      "2 hello world\n",
      "4 hello world\n"
     ]
    }
   ],
   "source": [
    "for i in range (0,5,2):\n",
    "    print (i,\"hello world\")\n",
    "    "
   ]
  },
  {
   "cell_type": "code",
   "execution_count": null,
   "id": "6a19778b-2399-4d3f-8fd6-f7788e1fc6ef",
   "metadata": {},
   "outputs": [],
   "source": []
  },
  {
   "cell_type": "code",
   "execution_count": 9,
   "id": "8e94c205-dd1f-48f4-937b-ac94856703b3",
   "metadata": {},
   "outputs": [
    {
     "name": "stdout",
     "output_type": "stream",
     "text": [
      "1 Hi\n",
      "3 Hi\n"
     ]
    }
   ],
   "source": [
    "for i in range (1,5,2):\n",
    "    print (i,\"Hi\")"
   ]
  },
  {
   "cell_type": "code",
   "execution_count": 13,
   "id": "a55e2ea0-9ade-4b4a-ae94-fedb54586264",
   "metadata": {},
   "outputs": [
    {
     "name": "stdout",
     "output_type": "stream",
     "text": [
      "5\n",
      "10\n",
      "15\n",
      "20\n",
      "25\n",
      "30\n",
      "35\n",
      "40\n",
      "45\n",
      "50\n"
     ]
    }
   ],
   "source": [
    "for i in range (1,11):\n",
    "    print (5*i)\n"
   ]
  },
  {
   "cell_type": "code",
   "execution_count": 15,
   "id": "3529c8b9-bb9c-44f8-bb26-7dbcd0c50c97",
   "metadata": {},
   "outputs": [
    {
     "name": "stdin",
     "output_type": "stream",
     "text": [
      "enter a= 4\n"
     ]
    },
    {
     "name": "stdout",
     "output_type": "stream",
     "text": [
      "4 * 1 = 4\n",
      "4 * 2 = 8\n",
      "4 * 3 = 12\n",
      "4 * 4 = 16\n",
      "4 * 5 = 20\n",
      "4 * 6 = 24\n",
      "4 * 7 = 28\n",
      "4 * 8 = 32\n",
      "4 * 9 = 36\n",
      "4 * 10 = 40\n"
     ]
    }
   ],
   "source": [
    "a=int(input(\"enter a=\"))\n",
    "for i in range (1,11):\n",
    "    print (a,\"*\",i,\"=\",a*i)"
   ]
  },
  {
   "cell_type": "code",
   "execution_count": 16,
   "id": "d53b088f-2f1f-40d5-b702-c0ac255fc76f",
   "metadata": {},
   "outputs": [
    {
     "name": "stdin",
     "output_type": "stream",
     "text": [
      "Enter a=  5\n"
     ]
    },
    {
     "name": "stdout",
     "output_type": "stream",
     "text": [
      "5\n"
     ]
    },
    {
     "name": "stdin",
     "output_type": "stream",
     "text": [
      "Enter a=  10\n"
     ]
    },
    {
     "name": "stdout",
     "output_type": "stream",
     "text": [
      "10\n"
     ]
    },
    {
     "name": "stdin",
     "output_type": "stream",
     "text": [
      "Enter a=  2\n"
     ]
    },
    {
     "name": "stdout",
     "output_type": "stream",
     "text": [
      "2\n"
     ]
    },
    {
     "name": "stdin",
     "output_type": "stream",
     "text": [
      "Enter a=  2\n"
     ]
    },
    {
     "name": "stdout",
     "output_type": "stream",
     "text": [
      "2\n"
     ]
    },
    {
     "name": "stdin",
     "output_type": "stream",
     "text": [
      "Enter a=  2\n"
     ]
    },
    {
     "name": "stdout",
     "output_type": "stream",
     "text": [
      "2\n"
     ]
    }
   ],
   "source": [
    "for i in range (5):\n",
    "    a=int(input (\"Enter a= \"))\n",
    "    print(a)"
   ]
  },
  {
   "cell_type": "code",
   "execution_count": 17,
   "id": "9444c802-2e89-41cd-b090-1db578ec2f62",
   "metadata": {},
   "outputs": [
    {
     "name": "stdin",
     "output_type": "stream",
     "text": [
      "Enter a=  1000\n"
     ]
    },
    {
     "name": "stdout",
     "output_type": "stream",
     "text": [
      "1000\n"
     ]
    },
    {
     "name": "stdin",
     "output_type": "stream",
     "text": [
      "Enter a=  1000\n"
     ]
    },
    {
     "name": "stdout",
     "output_type": "stream",
     "text": [
      "2000\n"
     ]
    },
    {
     "name": "stdin",
     "output_type": "stream",
     "text": [
      "Enter a=  2000\n"
     ]
    },
    {
     "name": "stdout",
     "output_type": "stream",
     "text": [
      "4000\n"
     ]
    },
    {
     "name": "stdin",
     "output_type": "stream",
     "text": [
      "Enter a=  2000\n"
     ]
    },
    {
     "name": "stdout",
     "output_type": "stream",
     "text": [
      "6000\n"
     ]
    },
    {
     "name": "stdin",
     "output_type": "stream",
     "text": [
      "Enter a=  5000\n"
     ]
    },
    {
     "name": "stdout",
     "output_type": "stream",
     "text": [
      "11000\n"
     ]
    }
   ],
   "source": [
    "s=0\n",
    "for i in range (5):\n",
    "    a=int(input (\"Enter a= \"))\n",
    "    s=s+a\n",
    "    print(s)"
   ]
  },
  {
   "cell_type": "raw",
   "id": "e772c904-c7be-4c51-88ec-7d3c298e88e5",
   "metadata": {},
   "source": [
    "s=0\n",
    "n=int(input(\"Enter n=\"))\n",
    "for i in range (n):\n",
    "    a=int(input (\"Enter a= \"))\n",
    "    s=s+a\n",
    "    print(s)"
   ]
  },
  {
   "cell_type": "code",
   "execution_count": 30,
   "id": "8d15eab6-fc04-48c9-8724-5bc0790017c7",
   "metadata": {},
   "outputs": [
    {
     "name": "stdin",
     "output_type": "stream",
     "text": [
      "Enter the value n =  2\n",
      "Enter name=  Ram\n",
      "Enter phone=  123\n",
      "Enter name=  Shyam\n",
      "Enter phone=  4321\n"
     ]
    },
    {
     "name": "stdout",
     "output_type": "stream",
     "text": [
      "Ram-- 123\n",
      "Shyam-- 4321\n",
      "\n"
     ]
    }
   ],
   "source": [
    "s= \"\"\n",
    "n=int(input(\"Enter the value n = \"))\n",
    "for i in range(n):\n",
    "    name=input (\"Enter name= \" )\n",
    "    phone=input(\"Enter phone= \")\n",
    "    s=s+name + \"-- \" +phone+ \"\\n\"\n",
    "print(s)\n",
    "    "
   ]
  },
  {
   "cell_type": "code",
   "execution_count": 33,
   "id": "bf520925-83a9-4fd9-ba6f-9381ded27054",
   "metadata": {},
   "outputs": [],
   "source": [
    "# 4 ! = 1*2*3*4\n",
    "# 5 = 1+2+3+4+5"
   ]
  },
  {
   "cell_type": "code",
   "execution_count": 41,
   "id": "bed70dd2-ac68-4e09-9056-9ca80c01c3ef",
   "metadata": {},
   "outputs": [
    {
     "name": "stdin",
     "output_type": "stream",
     "text": [
      "Enter the value n =  5\n"
     ]
    },
    {
     "name": "stdout",
     "output_type": "stream",
     "text": [
      "s=  1\n",
      "s=  3\n",
      "s=  6\n",
      "s=  10\n",
      "s=  15\n"
     ]
    }
   ],
   "source": [
    "s=0 \n",
    "n=int(input(\"Enter the value n = \"))\n",
    "for i in range (1, n+1):\n",
    "    s=s+i\n",
    "    print(\"s= \",s)\n"
   ]
  },
  {
   "cell_type": "raw",
   "id": "0f01b17d-1261-425d-985b-d936bdcb17e5",
   "metadata": {},
   "source": []
  },
  {
   "cell_type": "code",
   "execution_count": 48,
   "id": "e5d2f065-144d-4cf0-b6ae-8a494c1b621c",
   "metadata": {},
   "outputs": [
    {
     "name": "stdin",
     "output_type": "stream",
     "text": [
      "Enter the value n =  5\n"
     ]
    },
    {
     "name": "stdout",
     "output_type": "stream",
     "text": [
      "s=  1\n",
      "s=  2\n",
      "s=  6\n",
      "s=  24\n",
      "s=  120\n"
     ]
    }
   ],
   "source": [
    "s=1\n",
    "n=int(input(\"Enter the value n = \"))\n",
    "for i in range (1,n+1):\n",
    "    s=s*i\n",
    "    print(\"s= \",s)\n"
   ]
  },
  {
   "cell_type": "code",
   "execution_count": 50,
   "id": "0a04b3d4-fef2-4d23-a953-afeaf8b6136c",
   "metadata": {},
   "outputs": [
    {
     "name": "stdout",
     "output_type": "stream",
     "text": [
      "\n",
      "O\n",
      "OO\n",
      "OOO\n",
      "OOOO\n"
     ]
    }
   ],
   "source": [
    "for i in range (5):\n",
    "    print (i*\"O\")"
   ]
  },
  {
   "cell_type": "code",
   "execution_count": 51,
   "id": "577767c8-05ff-49e5-b1cc-4cab90f71969",
   "metadata": {},
   "outputs": [
    {
     "name": "stdout",
     "output_type": "stream",
     "text": [
      "\n",
      "*\n",
      "**\n",
      "***\n",
      "****\n"
     ]
    }
   ],
   "source": [
    "for i in range (5):\n",
    "    print (i*\"*\")"
   ]
  },
  {
   "cell_type": "code",
   "execution_count": 54,
   "id": "7ddb0e83-99b1-43fb-a2c0-5b68d4082b61",
   "metadata": {},
   "outputs": [
    {
     "name": "stdout",
     "output_type": "stream",
     "text": [
      "      \n",
      "     *\n",
      "    ***\n",
      "   *****\n",
      "  *******\n"
     ]
    }
   ],
   "source": [
    "for i in range (5):\n",
    "    print(\" \"*(5-i),(2*i-1)*'*')"
   ]
  },
  {
   "cell_type": "code",
   "execution_count": 64,
   "id": "a6fd3e9e-7df2-499f-a41d-8d98be077902",
   "metadata": {},
   "outputs": [
    {
     "name": "stdout",
     "output_type": "stream",
     "text": [
      "      \n",
      "     *\n",
      "    ***\n",
      "   *****\n",
      "  *******\n",
      "*     \n",
      "***    \n",
      "*****   \n",
      "*******  \n"
     ]
    }
   ],
   "source": [
    "for i in range (5):\n",
    "    print(\" \"*(5-i),(2*i-1)*'*')\n",
    "for i in range(1,5):\n",
    "    print((2*i-1)*'*',\" \"*(5-i))"
   ]
  },
  {
   "cell_type": "code",
   "execution_count": null,
   "id": "1476a544-5c10-4d99-a216-9435738bf4e7",
   "metadata": {},
   "outputs": [],
   "source": []
  },
  {
   "cell_type": "code",
   "execution_count": null,
   "id": "f6782fc6-7a53-41e9-bd4c-2180ef0f2955",
   "metadata": {},
   "outputs": [],
   "source": []
  },
  {
   "cell_type": "code",
   "execution_count": 60,
   "id": "5bdab93f-6d99-4f99-92f0-b3a5df55a32a",
   "metadata": {},
   "outputs": [
    {
     "name": "stdout",
     "output_type": "stream",
     "text": [
      "      \n",
      "     *\n",
      "    ***\n",
      "   *****\n",
      "  *******\n",
      "    **\n",
      "    **\n",
      "    **\n",
      "    **\n"
     ]
    }
   ],
   "source": [
    "for i in range (5):\n",
    "    print(\" \"*(5-i),(2*i-1)*'*')\n",
    "for i in range(1,5):\n",
    "    print (\" \"*3,\"*\"*2)"
   ]
  },
  {
   "cell_type": "code",
   "execution_count": 1,
   "id": "c1c391f6-25ee-4fbb-a552-48147a1523bd",
   "metadata": {},
   "outputs": [],
   "source": [
    "# loop in string \n"
   ]
  },
  {
   "cell_type": "code",
   "execution_count": 2,
   "id": "6acff0d1-5a09-4578-a00c-e0ca75941f1d",
   "metadata": {},
   "outputs": [
    {
     "name": "stdout",
     "output_type": "stream",
     "text": [
      "h\n",
      "e\n",
      "l\n",
      "l\n",
      "o\n"
     ]
    }
   ],
   "source": [
    "a= \"hello\"\n",
    "for i in a:\n",
    "    print(i)"
   ]
  },
  {
   "cell_type": "code",
   "execution_count": 3,
   "id": "e1ac1faf-f422-4ec2-bf41-1e6f03563485",
   "metadata": {},
   "outputs": [
    {
     "name": "stdout",
     "output_type": "stream",
     "text": [
      "h e l l o "
     ]
    }
   ],
   "source": [
    "a= \"hello\"\n",
    "for i in a:\n",
    "    print(i,end=\" \")"
   ]
  },
  {
   "cell_type": "code",
   "execution_count": 4,
   "id": "9b928e5f-75f2-4d8d-9475-836fc90e7d3d",
   "metadata": {},
   "outputs": [
    {
     "name": "stdout",
     "output_type": "stream",
     "text": [
      "hello world. I am Python"
     ]
    }
   ],
   "source": [
    "a= \"hello world. I am Python\"\n",
    "for i in a:\n",
    "    print(i,end = \"\")\n"
   ]
  },
  {
   "cell_type": "code",
   "execution_count": 9,
   "id": "1ab0bc49-6e20-4e07-8502-6bcd8da04115",
   "metadata": {},
   "outputs": [
    {
     "name": "stdout",
     "output_type": "stream",
     "text": [
      "h e l l o   w o r l d     I   a m   P y t h o n "
     ]
    }
   ],
   "source": [
    "a= \"hello world ! I am Python\"\n",
    "for i in a:\n",
    "    if i != \".\" and i != \"!\":\n",
    "        print(i,end = \" \")"
   ]
  },
  {
   "cell_type": "code",
   "execution_count": 11,
   "id": "0f8a7c1d-c487-4139-80a9-a71391913b2b",
   "metadata": {},
   "outputs": [
    {
     "name": "stdout",
     "output_type": "stream",
     "text": [
      "hello world \n",
      "\n",
      " I am Python"
     ]
    }
   ],
   "source": [
    "a= \"hello world ! I am Python\"\n",
    "for i in a:\n",
    "    if  i != \"!\":\n",
    "        print(i,end = \"\")\n",
    "    else:\n",
    "        print(\"\\n\")"
   ]
  },
  {
   "cell_type": "code",
   "execution_count": null,
   "id": "0df14262-80a7-4e99-817d-458b4ed9e9ee",
   "metadata": {},
   "outputs": [],
   "source": [
    "# Control statement \n",
    "#Break\n",
    "#Continue\n"
   ]
  },
  {
   "cell_type": "code",
   "execution_count": 14,
   "id": "4f1ce389-f8ab-44ef-a707-56e8cba7e421",
   "metadata": {},
   "outputs": [
    {
     "name": "stdout",
     "output_type": "stream",
     "text": [
      "01234"
     ]
    }
   ],
   "source": [
    "for i in range(10):\n",
    "    if i==5:\n",
    "        break                  # discontinues once i reaches 5 \n",
    "    print (i,end =\"\")\n",
    "  \n"
   ]
  },
  {
   "cell_type": "code",
   "execution_count": 15,
   "id": "f1b792f5-b55d-415f-b67c-540729a791f7",
   "metadata": {},
   "outputs": [
    {
     "name": "stdout",
     "output_type": "stream",
     "text": [
      "012346789"
     ]
    }
   ],
   "source": [
    "for i in range(10):\n",
    "    if i==5:\n",
    "        continue                  #skips 5 / print , return to loop for further prints\n",
    "    print (i,end =\"\")"
   ]
  },
  {
   "cell_type": "code",
   "execution_count": null,
   "id": "e45bf0c9-20cf-4aab-ada8-a0c2228101ed",
   "metadata": {},
   "outputs": [],
   "source": []
  },
  {
   "cell_type": "code",
   "execution_count": null,
   "id": "b2ded49b-0caf-4c29-999f-4fce87342784",
   "metadata": {},
   "outputs": [],
   "source": []
  },
  {
   "cell_type": "code",
   "execution_count": 2,
   "id": "13e5dbc5-b5e8-4a11-bd3f-95b55146f37e",
   "metadata": {},
   "outputs": [
    {
     "name": "stdout",
     "output_type": "stream",
     "text": [
      "hello world"
     ]
    }
   ],
   "source": [
    "a= \"hello world. I am Python\"\n",
    "for i in a:\n",
    "    if  i != \".\":\n",
    "        print(i,end = \"\")\n",
    "    else:\n",
    "        break "
   ]
  },
  {
   "cell_type": "code",
   "execution_count": null,
   "id": "5c06da16-b48b-4fa8-8134-072cde40ba73",
   "metadata": {},
   "outputs": [],
   "source": []
  },
  {
   "cell_type": "code",
   "execution_count": null,
   "id": "cb9d9fe3-a691-4b30-a5c0-49088f8f7bd5",
   "metadata": {},
   "outputs": [],
   "source": []
  },
  {
   "cell_type": "code",
   "execution_count": 20,
   "id": "a60a5a25-cbc0-43ed-bf48-609de59ba70a",
   "metadata": {},
   "outputs": [
    {
     "name": "stdout",
     "output_type": "stream",
     "text": [
      "10 9 8 7 6 5 4 3 2 "
     ]
    }
   ],
   "source": [
    "for i in range(10,1,-1):     # loop always goes in increment form ,so -1 in added in 10 .. and continues.\n",
    "    \n",
    "    print (i,end=\" \")"
   ]
  },
  {
   "cell_type": "code",
   "execution_count": null,
   "id": "f1791107-a608-4b16-b596-622f1c328409",
   "metadata": {},
   "outputs": [],
   "source": []
  },
  {
   "cell_type": "code",
   "execution_count": null,
   "id": "98aa7dfb-2fe9-4892-8df6-16dae1faa043",
   "metadata": {},
   "outputs": [],
   "source": [
    "\n",
    "# While loop\n",
    "# while <condiiton>:\n",
    "#     <operaiton>\n",
    "#     <>\n"
   ]
  },
  {
   "cell_type": "code",
   "execution_count": 3,
   "id": "6042a5c8-4efe-462d-8d4d-40efca76c967",
   "metadata": {},
   "outputs": [
    {
     "name": "stdout",
     "output_type": "stream",
     "text": [
      "Hello world\n",
      "Hello world\n",
      "Hello world\n",
      "Hello world\n",
      "Hello world\n",
      "Hello world\n"
     ]
    }
   ],
   "source": [
    "i = 0                           #Initialiazation\n",
    "while i <= 5: \n",
    "    print (\"Hello world\")        #Operation\n",
    "    i=i+1                        #Increment / Decrement  \n",
    "    "
   ]
  },
  {
   "cell_type": "code",
   "execution_count": null,
   "id": "575a7c45-2725-4a93-82f7-0f2edc5884b3",
   "metadata": {},
   "outputs": [],
   "source": []
  },
  {
   "cell_type": "code",
   "execution_count": 4,
   "id": "8b3cd90c-01d9-40e5-92fa-28c2fb179328",
   "metadata": {},
   "outputs": [
    {
     "name": "stdout",
     "output_type": "stream",
     "text": [
      "0 Hello world\n",
      "1 Hello world\n",
      "2 Hello world\n",
      "3 Hello world\n",
      "4 Hello world\n",
      "5 Hello world\n"
     ]
    }
   ],
   "source": [
    "i = 0                           #Initialiazation\n",
    "while i <= 5: \n",
    "    print (i,\"Hello world\")        #Operation\n",
    "    i=i+1                        #Increment / Decrement  \n",
    "    "
   ]
  },
  {
   "cell_type": "code",
   "execution_count": null,
   "id": "154e50f5-5de2-42ee-bdcb-989bdf86f7d4",
   "metadata": {},
   "outputs": [],
   "source": []
  },
  {
   "cell_type": "code",
   "execution_count": 9,
   "id": "9aef28a2-53a4-4e60-937b-a48b1340bb08",
   "metadata": {},
   "outputs": [
    {
     "name": "stdin",
     "output_type": "stream",
     "text": [
      "enter a= 7\n"
     ]
    },
    {
     "name": "stdout",
     "output_type": "stream",
     "text": [
      "7 * 1 = 7\n",
      "7 * 2 = 14\n",
      "7 * 3 = 21\n",
      "7 * 4 = 28\n",
      "7 * 5 = 35\n",
      "7 * 6 = 42\n",
      "7 * 7 = 49\n",
      "7 * 8 = 56\n",
      "7 * 9 = 63\n",
      "7 * 10 = 70\n"
     ]
    }
   ],
   "source": [
    "i= 1\n",
    "a=int(input(\"enter a=\"))\n",
    "while i<=10:\n",
    "    print (a,\"*\",i,\"=\",a*i)\n",
    "    i=i+1\n",
    "    "
   ]
  },
  {
   "cell_type": "code",
   "execution_count": null,
   "id": "dda56a1e-db5c-444e-89f1-9b557ae27087",
   "metadata": {},
   "outputs": [],
   "source": []
  },
  {
   "cell_type": "code",
   "execution_count": 4,
   "id": "bc9d363f-829c-46e7-8842-09f670db13dc",
   "metadata": {},
   "outputs": [
    {
     "name": "stdin",
     "output_type": "stream",
     "text": [
      "Enter the value n =  3\n",
      "Enter name=  Abhi\n",
      "Enter phone=  123\n",
      "Enter name=  Arti\n",
      "Enter phone=  234\n",
      "Enter name=  Archu\n",
      "Enter phone=  456\n"
     ]
    },
    {
     "name": "stdout",
     "output_type": "stream",
     "text": [
      "Abhi-- 123\n",
      "Arti-- 234\n",
      "Archu-- 456\n",
      "\n"
     ]
    }
   ],
   "source": [
    "i=0\n",
    "s= \"\"\n",
    "n=int(input(\"Enter the value n = \"))\n",
    "while i<n:\n",
    "    name=input (\"Enter name= \" )\n",
    "    phone=input(\"Enter phone= \")\n",
    "    s=s+name + \"-- \" +phone+ \"\\n\"\n",
    "    i=i+1\n",
    "print(s)"
   ]
  },
  {
   "cell_type": "code",
   "execution_count": null,
   "id": "12ff9540-e801-4c61-84c5-b67b0e2c69c4",
   "metadata": {},
   "outputs": [],
   "source": []
  },
  {
   "cell_type": "code",
   "execution_count": null,
   "id": "09f39e5e-03fe-4060-be2f-ce506859815d",
   "metadata": {},
   "outputs": [],
   "source": []
  },
  {
   "cell_type": "code",
   "execution_count": null,
   "id": "467a17ac-f860-442a-b5ba-94bc7b21029a",
   "metadata": {},
   "outputs": [],
   "source": []
  },
  {
   "cell_type": "code",
   "execution_count": 5,
   "id": "94ec25ed-daaa-4c41-9a1e-2fbb173d301d",
   "metadata": {},
   "outputs": [
    {
     "name": "stdin",
     "output_type": "stream",
     "text": [
      "Enter the value n =  5\n"
     ]
    },
    {
     "name": "stdout",
     "output_type": "stream",
     "text": [
      "1\n",
      "2\n",
      "6\n",
      "24\n",
      "120\n"
     ]
    }
   ],
   "source": [
    "i= 1\n",
    "s= 1\n",
    "n=int(input(\"Enter the value n = \"))\n",
    "while i<=n:\n",
    "    s=s*i\n",
    "    i=i+1\n",
    "    print (s)\n"
   ]
  },
  {
   "cell_type": "code",
   "execution_count": null,
   "id": "556b7341-1651-4e27-9e56-45663fc44457",
   "metadata": {},
   "outputs": [],
   "source": []
  },
  {
   "cell_type": "code",
   "execution_count": 9,
   "id": "3fd3a0c6-e975-4952-823a-8c6dbd3f5786",
   "metadata": {},
   "outputs": [
    {
     "name": "stdout",
     "output_type": "stream",
     "text": [
      "0 1 2 3 4 "
     ]
    }
   ],
   "source": [
    "i=0 \n",
    "while i <=10:\n",
    "    if i==5:\n",
    "        break                  #skips 5 , return to loop for further prints\n",
    "    print (i,end =\" \")\n",
    "    i=i+1"
   ]
  },
  {
   "cell_type": "code",
   "execution_count": null,
   "id": "2273798d-b046-4cb3-a039-a6c1209d040a",
   "metadata": {},
   "outputs": [],
   "source": []
  },
  {
   "cell_type": "code",
   "execution_count": 10,
   "id": "80481310-5101-4b82-aba9-4ae90d6e7e7d",
   "metadata": {},
   "outputs": [
    {
     "name": "stdout",
     "output_type": "stream",
     "text": [
      "0 1 2 3 4 6 7 8 9 10 "
     ]
    }
   ],
   "source": [
    "i=0 \n",
    "while i <=10:\n",
    "    if i==5:\n",
    "        i=i+1                     # To increment the vaue of i when i==5 , so that it will not go ito inifinite loop.\n",
    "        continue                  #Its contiue with the loop without going donw with further command.\n",
    "    print (i,end =\" \")\n",
    "    i=i+1"
   ]
  },
  {
   "cell_type": "code",
   "execution_count": null,
   "id": "a4ae9c26-0ed4-4168-833f-1b371dcd96ec",
   "metadata": {},
   "outputs": [],
   "source": []
  },
  {
   "cell_type": "code",
   "execution_count": 11,
   "id": "edb00b16-1782-44b3-b4b7-7a38dae32f86",
   "metadata": {},
   "outputs": [
    {
     "name": "stdout",
     "output_type": "stream",
     "text": [
      "0 0\n",
      "0 1\n",
      "0 2\n",
      "1 0\n",
      "1 1\n",
      "1 2\n",
      "2 0\n",
      "2 1\n",
      "2 2\n"
     ]
    }
   ],
   "source": [
    "#Nested Loop\n",
    "for i in range(3):\n",
    "    for j in range (3):\n",
    "        print(i,j)\n",
    "    "
   ]
  },
  {
   "cell_type": "code",
   "execution_count": 13,
   "id": "b176ca23-fba3-4b27-950f-ad11b243a7f9",
   "metadata": {},
   "outputs": [
    {
     "name": "stdout",
     "output_type": "stream",
     "text": [
      "0 0 0\n",
      "0 0 1\n",
      "0 1 0\n",
      "0 1 1\n",
      "1 0 0\n",
      "1 0 1\n",
      "1 1 0\n",
      "1 1 1\n"
     ]
    }
   ],
   "source": [
    "#Nested Loop\n",
    "for i in range(2):\n",
    "    for j in range (2):\n",
    "        for k in range (2):\n",
    "            print(i,j,k)"
   ]
  },
  {
   "cell_type": "code",
   "execution_count": null,
   "id": "95b27b93-b173-4f01-bc8f-1b7ba93adab3",
   "metadata": {},
   "outputs": [],
   "source": []
  },
  {
   "cell_type": "code",
   "execution_count": 14,
   "id": "81186789-d192-4709-9293-94c725183cd1",
   "metadata": {},
   "outputs": [],
   "source": [
    "# Write a program to detect if the given number is prime or composite. \n",
    "# use for else loop\n",
    "\n"
   ]
  },
  {
   "cell_type": "code",
   "execution_count": 75,
   "id": "9b0bdce1-1dd5-430d-abeb-2f53e4cca76c",
   "metadata": {},
   "outputs": [
    {
     "name": "stdin",
     "output_type": "stream",
     "text": [
      "enter a number =  1\n"
     ]
    },
    {
     "name": "stdout",
     "output_type": "stream",
     "text": [
      "1 is a prime number\n"
     ]
    }
   ],
   "source": [
    "n=int(input (\"enter a number = \" ))\n",
    "if n <=0:\n",
    "    print(\"Invalid number\")\n",
    "elif n>0:\n",
    "    for i in range(2,n):\n",
    "        if (n%i == 0):\n",
    "            print (n , \"is a composite number\")\n",
    "            break\n",
    "     \n",
    "    else:\n",
    "        print (n , \"is a prime number\")\n",
    "\n",
    "\n"
   ]
  },
  {
   "cell_type": "code",
   "execution_count": null,
   "id": "1f5ce399-cb9c-4fa0-b221-cefaf7c69eb7",
   "metadata": {},
   "outputs": [],
   "source": []
  },
  {
   "cell_type": "code",
   "execution_count": null,
   "id": "89aa0521-02df-4f66-bdb3-a48f6c421409",
   "metadata": {},
   "outputs": [],
   "source": []
  },
  {
   "cell_type": "code",
   "execution_count": null,
   "id": "c4844776-eee7-4ff3-a99f-a32fecc3196f",
   "metadata": {},
   "outputs": [],
   "source": []
  },
  {
   "cell_type": "code",
   "execution_count": null,
   "id": "55deb3f9-905b-4070-b9e8-b49cf49528f3",
   "metadata": {},
   "outputs": [],
   "source": []
  },
  {
   "cell_type": "code",
   "execution_count": null,
   "id": "058487a2-eeda-4f0a-9b31-ab5c76e2fe6f",
   "metadata": {},
   "outputs": [],
   "source": []
  },
  {
   "cell_type": "code",
   "execution_count": null,
   "id": "1e059153-23ac-4f0e-a792-3f89f243e669",
   "metadata": {},
   "outputs": [],
   "source": []
  },
  {
   "cell_type": "code",
   "execution_count": null,
   "id": "a6cfab06-6218-4081-9bdc-03f7d6ec5c73",
   "metadata": {},
   "outputs": [],
   "source": []
  },
  {
   "cell_type": "code",
   "execution_count": null,
   "id": "5c779282-8a15-4214-9318-3c718c46d864",
   "metadata": {},
   "outputs": [],
   "source": []
  },
  {
   "cell_type": "code",
   "execution_count": null,
   "id": "530ade1b-b861-4d13-ac04-073f91810505",
   "metadata": {},
   "outputs": [],
   "source": []
  },
  {
   "cell_type": "code",
   "execution_count": null,
   "id": "8bceb366-fa21-4f87-bb77-c1116849b820",
   "metadata": {},
   "outputs": [],
   "source": []
  },
  {
   "cell_type": "code",
   "execution_count": null,
   "id": "e90ffb91-ebd4-4e57-bfdf-dc5818f06836",
   "metadata": {},
   "outputs": [],
   "source": []
  },
  {
   "cell_type": "code",
   "execution_count": null,
   "id": "47219b23-1ea7-4b5e-a9e5-1da098a3cd7b",
   "metadata": {},
   "outputs": [],
   "source": []
  },
  {
   "cell_type": "code",
   "execution_count": null,
   "id": "18fb8d30-52f4-4e49-a911-739f58eab64a",
   "metadata": {},
   "outputs": [],
   "source": []
  },
  {
   "cell_type": "code",
   "execution_count": null,
   "id": "7b918398-a35d-4f78-a275-397f8ad68b02",
   "metadata": {},
   "outputs": [],
   "source": []
  },
  {
   "cell_type": "code",
   "execution_count": null,
   "id": "33029b58-e5a1-4a8b-adb7-7dbdebb900d9",
   "metadata": {},
   "outputs": [],
   "source": []
  },
  {
   "cell_type": "code",
   "execution_count": null,
   "id": "dd41bd75-9176-46b5-9872-1c4f5196639a",
   "metadata": {},
   "outputs": [],
   "source": []
  },
  {
   "cell_type": "code",
   "execution_count": null,
   "id": "e402b407-75b8-4a8d-85f7-ad9210ba612a",
   "metadata": {},
   "outputs": [],
   "source": []
  },
  {
   "cell_type": "code",
   "execution_count": null,
   "id": "3bf14eba-1c8c-4802-a8eb-60a78422dd9c",
   "metadata": {},
   "outputs": [],
   "source": []
  },
  {
   "cell_type": "code",
   "execution_count": null,
   "id": "684a0a77-052d-49b5-bbf3-aa5f336bfdbf",
   "metadata": {},
   "outputs": [],
   "source": []
  },
  {
   "cell_type": "code",
   "execution_count": null,
   "id": "b3a0d20d-ef2e-4030-b9ef-070b09cb5a47",
   "metadata": {},
   "outputs": [],
   "source": []
  },
  {
   "cell_type": "code",
   "execution_count": null,
   "id": "495fdeb7-ee5d-4bb3-83c1-69de89b9eeff",
   "metadata": {},
   "outputs": [],
   "source": []
  },
  {
   "cell_type": "code",
   "execution_count": null,
   "id": "776ff28f-25d3-49ba-8a47-4051f26f3477",
   "metadata": {},
   "outputs": [],
   "source": []
  },
  {
   "cell_type": "code",
   "execution_count": 53,
   "id": "2522279f-9240-4eba-922e-e5405982534a",
   "metadata": {},
   "outputs": [
    {
     "name": "stdin",
     "output_type": "stream",
     "text": [
      "enter a number =  32\n"
     ]
    },
    {
     "name": "stdout",
     "output_type": "stream",
     "text": [
      "32 is a composite number\n"
     ]
    }
   ],
   "source": [
    "a=False\n",
    "n=int(input (\"enter a number = \" ))\n",
    "for i in range(2,n):\n",
    "    if (n%i == 0):\n",
    "       print (n , \"is a composite number\")\n",
    "       a=True\n",
    "       break\n",
    "if a!=True:\n",
    "    print (n , \"is a prime number\")"
   ]
  },
  {
   "cell_type": "code",
   "execution_count": null,
   "id": "1e77f5fc-d8d3-4391-87ec-1929a82c7e39",
   "metadata": {},
   "outputs": [],
   "source": []
  },
  {
   "cell_type": "code",
   "execution_count": null,
   "id": "5f1140a2-2f73-4ca9-b7b0-dc83e01f9736",
   "metadata": {},
   "outputs": [],
   "source": []
  },
  {
   "cell_type": "code",
   "execution_count": null,
   "id": "5ed04fbe-378a-48ac-a07b-fd5ed7b1c7e3",
   "metadata": {},
   "outputs": [],
   "source": []
  },
  {
   "cell_type": "code",
   "execution_count": null,
   "id": "0c3b0ddd-3c6b-4ffb-a86a-2fe07417f9e3",
   "metadata": {},
   "outputs": [],
   "source": []
  },
  {
   "cell_type": "code",
   "execution_count": null,
   "id": "d79df545-0e21-4acf-8a49-5ecc5231fb17",
   "metadata": {},
   "outputs": [],
   "source": []
  },
  {
   "cell_type": "code",
   "execution_count": null,
   "id": "f04e3134-fc32-448f-8f38-2fec01a9fb68",
   "metadata": {},
   "outputs": [],
   "source": []
  },
  {
   "cell_type": "code",
   "execution_count": null,
   "id": "049a7d4c-ea69-425a-bd65-3fcb3713ebe6",
   "metadata": {},
   "outputs": [],
   "source": []
  },
  {
   "cell_type": "code",
   "execution_count": null,
   "id": "24d9970c-b0dc-46a6-b285-07acec7c9345",
   "metadata": {},
   "outputs": [],
   "source": []
  },
  {
   "cell_type": "code",
   "execution_count": null,
   "id": "33b89bf0-f0e2-4abf-b937-c51475b40e01",
   "metadata": {},
   "outputs": [],
   "source": []
  },
  {
   "cell_type": "code",
   "execution_count": null,
   "id": "41090874-2e8f-4712-8102-be09360c88f6",
   "metadata": {},
   "outputs": [],
   "source": []
  },
  {
   "cell_type": "code",
   "execution_count": null,
   "id": "3a25054e-ede9-4b79-b624-99bb06db2242",
   "metadata": {},
   "outputs": [],
   "source": []
  },
  {
   "cell_type": "code",
   "execution_count": null,
   "id": "74039726-4119-40f2-98a7-50f98a99d072",
   "metadata": {},
   "outputs": [],
   "source": []
  },
  {
   "cell_type": "code",
   "execution_count": null,
   "id": "5807cfaa-8f43-4d5c-88fc-4b385c19f44d",
   "metadata": {},
   "outputs": [],
   "source": []
  },
  {
   "cell_type": "code",
   "execution_count": null,
   "id": "bd9cd773-9cac-496e-a414-48684918acc3",
   "metadata": {},
   "outputs": [],
   "source": []
  },
  {
   "cell_type": "code",
   "execution_count": null,
   "id": "26b56d7b-daa7-461a-af3a-376006049cf4",
   "metadata": {},
   "outputs": [],
   "source": []
  },
  {
   "cell_type": "code",
   "execution_count": null,
   "id": "afb052f1-8450-4d50-9edd-b8c74e2a41f3",
   "metadata": {},
   "outputs": [],
   "source": []
  },
  {
   "cell_type": "code",
   "execution_count": null,
   "id": "e12aaca0-dbb0-42b9-9681-25622928cd50",
   "metadata": {},
   "outputs": [],
   "source": []
  },
  {
   "cell_type": "code",
   "execution_count": null,
   "id": "ec8bb001-4133-48eb-839a-6cff4910e79b",
   "metadata": {},
   "outputs": [],
   "source": []
  },
  {
   "cell_type": "code",
   "execution_count": null,
   "id": "4a4b2c4d-9218-4113-b78c-f0d2e4242fba",
   "metadata": {},
   "outputs": [],
   "source": []
  },
  {
   "cell_type": "code",
   "execution_count": null,
   "id": "17e8f5ac-8e1a-4414-9fd6-a194842a9521",
   "metadata": {},
   "outputs": [],
   "source": []
  },
  {
   "cell_type": "code",
   "execution_count": null,
   "id": "7ed6297d-16b5-40f0-9963-267f58aa0814",
   "metadata": {},
   "outputs": [],
   "source": []
  },
  {
   "cell_type": "code",
   "execution_count": null,
   "id": "e162ea3f-8650-4807-bad7-394ed1453f87",
   "metadata": {},
   "outputs": [],
   "source": []
  },
  {
   "cell_type": "code",
   "execution_count": null,
   "id": "83fef93a-1244-41de-81f8-a5482ba17b00",
   "metadata": {},
   "outputs": [],
   "source": []
  },
  {
   "cell_type": "code",
   "execution_count": null,
   "id": "02ff7bac-788e-450a-a13f-8d70b8398511",
   "metadata": {},
   "outputs": [],
   "source": []
  },
  {
   "cell_type": "code",
   "execution_count": null,
   "id": "bfc0c530-6410-4d9f-9422-d15245a041eb",
   "metadata": {},
   "outputs": [],
   "source": []
  },
  {
   "cell_type": "code",
   "execution_count": null,
   "id": "698124d4-6cd7-4ad0-bcff-f41ab03bd5b4",
   "metadata": {},
   "outputs": [],
   "source": []
  },
  {
   "cell_type": "code",
   "execution_count": null,
   "id": "234ff9e9-ab9a-47cb-8477-23424a9ae5dd",
   "metadata": {},
   "outputs": [],
   "source": []
  },
  {
   "cell_type": "code",
   "execution_count": null,
   "id": "4c7a1c51-0516-441e-8e5b-8c752971ca71",
   "metadata": {},
   "outputs": [],
   "source": []
  },
  {
   "cell_type": "code",
   "execution_count": null,
   "id": "1d675a81-01f9-46df-99a7-30a982fd5d74",
   "metadata": {},
   "outputs": [],
   "source": []
  },
  {
   "cell_type": "code",
   "execution_count": null,
   "id": "1fcb7ae7-1f23-479b-aea9-ab76b639a15f",
   "metadata": {},
   "outputs": [],
   "source": []
  },
  {
   "cell_type": "code",
   "execution_count": null,
   "id": "eb928099-80d0-4e28-aa6a-a7944f6a9e3f",
   "metadata": {},
   "outputs": [],
   "source": []
  },
  {
   "cell_type": "code",
   "execution_count": null,
   "id": "e1ba58db-f9fb-40f7-8028-e71863930e10",
   "metadata": {},
   "outputs": [],
   "source": []
  },
  {
   "cell_type": "code",
   "execution_count": null,
   "id": "977309a2-ecd8-44e7-a1f0-1918ff322251",
   "metadata": {},
   "outputs": [],
   "source": []
  },
  {
   "cell_type": "code",
   "execution_count": null,
   "id": "e3ead2c5-8cb7-4930-80ff-03cd4d2f59dc",
   "metadata": {},
   "outputs": [],
   "source": []
  },
  {
   "cell_type": "code",
   "execution_count": null,
   "id": "2b5d2fc0-8040-43c2-82aa-010bdf8a27ba",
   "metadata": {},
   "outputs": [],
   "source": []
  },
  {
   "cell_type": "code",
   "execution_count": null,
   "id": "a30e3919-09e8-4e7c-9136-75ca981e7cf3",
   "metadata": {},
   "outputs": [],
   "source": []
  },
  {
   "cell_type": "code",
   "execution_count": null,
   "id": "4bf33ee6-a330-4379-b10f-e9fcea2e9fd2",
   "metadata": {},
   "outputs": [],
   "source": []
  },
  {
   "cell_type": "code",
   "execution_count": null,
   "id": "387877cb-e18f-4ac2-99d8-337b24ab5b35",
   "metadata": {},
   "outputs": [],
   "source": []
  },
  {
   "cell_type": "code",
   "execution_count": null,
   "id": "4f3f5779-ccde-4844-9143-dee82b06ac21",
   "metadata": {},
   "outputs": [],
   "source": []
  },
  {
   "cell_type": "code",
   "execution_count": null,
   "id": "0221e9ca-94e8-434e-839c-8184ec1934c8",
   "metadata": {},
   "outputs": [],
   "source": []
  },
  {
   "cell_type": "code",
   "execution_count": null,
   "id": "a64b8803-6547-4a07-a860-9dc23c85c96c",
   "metadata": {},
   "outputs": [],
   "source": []
  },
  {
   "cell_type": "code",
   "execution_count": null,
   "id": "16560b2c-614f-45bc-927b-45467650183c",
   "metadata": {},
   "outputs": [],
   "source": []
  },
  {
   "cell_type": "code",
   "execution_count": null,
   "id": "764a3392-15ec-4ab0-a0f5-89873a24ada0",
   "metadata": {},
   "outputs": [],
   "source": []
  },
  {
   "cell_type": "code",
   "execution_count": null,
   "id": "c7bf1d51-3b53-4ad1-a3a3-148fcba93302",
   "metadata": {},
   "outputs": [],
   "source": []
  },
  {
   "cell_type": "code",
   "execution_count": null,
   "id": "d2a53f07-f72d-4561-b19b-f103351deafc",
   "metadata": {},
   "outputs": [],
   "source": []
  },
  {
   "cell_type": "code",
   "execution_count": null,
   "id": "baad0b1a-e492-4c5f-a5c0-1632fd76b795",
   "metadata": {},
   "outputs": [],
   "source": []
  },
  {
   "cell_type": "code",
   "execution_count": null,
   "id": "2db86ad6-ca58-48df-81fe-5c3f4fa3de62",
   "metadata": {},
   "outputs": [],
   "source": []
  },
  {
   "cell_type": "code",
   "execution_count": null,
   "id": "0d8355c1-1ea8-471f-8989-f73c46657723",
   "metadata": {},
   "outputs": [],
   "source": []
  },
  {
   "cell_type": "code",
   "execution_count": null,
   "id": "2cd30236-30e0-4a61-8ea7-8fec283e1d5d",
   "metadata": {},
   "outputs": [],
   "source": []
  },
  {
   "cell_type": "code",
   "execution_count": null,
   "id": "e0445cf1-9ebd-43c2-b1c7-39d4438ffc6a",
   "metadata": {},
   "outputs": [],
   "source": []
  },
  {
   "cell_type": "code",
   "execution_count": null,
   "id": "c92e7e7b-88b7-441b-949d-d82fa2cdaac1",
   "metadata": {},
   "outputs": [],
   "source": []
  },
  {
   "cell_type": "code",
   "execution_count": null,
   "id": "bb9f975e-1235-44b0-962c-22cf5aae1f83",
   "metadata": {},
   "outputs": [],
   "source": []
  },
  {
   "cell_type": "code",
   "execution_count": null,
   "id": "710ca7ab-f946-49d9-bc7f-abbe2dc2438e",
   "metadata": {},
   "outputs": [],
   "source": []
  },
  {
   "cell_type": "code",
   "execution_count": null,
   "id": "e81b3279-14bc-4ec8-9fce-a9136a2b3f89",
   "metadata": {},
   "outputs": [],
   "source": []
  },
  {
   "cell_type": "code",
   "execution_count": null,
   "id": "42d604b4-7417-437c-aabb-2c9ddc01c9c0",
   "metadata": {},
   "outputs": [],
   "source": []
  },
  {
   "cell_type": "code",
   "execution_count": null,
   "id": "df7f5fb0-0dde-48f5-81e0-b8218dd389ba",
   "metadata": {},
   "outputs": [],
   "source": []
  },
  {
   "cell_type": "code",
   "execution_count": null,
   "id": "0ca5aecc-8892-4070-9678-73cec41009b0",
   "metadata": {},
   "outputs": [],
   "source": []
  },
  {
   "cell_type": "code",
   "execution_count": null,
   "id": "d108afc9-caa1-4434-b88c-f93691cfe5cf",
   "metadata": {},
   "outputs": [],
   "source": []
  },
  {
   "cell_type": "code",
   "execution_count": null,
   "id": "08b36f2a-9385-4dc3-8bb4-794a21501215",
   "metadata": {},
   "outputs": [],
   "source": []
  },
  {
   "cell_type": "code",
   "execution_count": null,
   "id": "3b6906c4-dcd0-4561-96b6-86b9f2861c6f",
   "metadata": {},
   "outputs": [],
   "source": []
  },
  {
   "cell_type": "code",
   "execution_count": null,
   "id": "5161744d-1d20-47cb-954d-185d8a2eedbd",
   "metadata": {},
   "outputs": [],
   "source": []
  },
  {
   "cell_type": "code",
   "execution_count": null,
   "id": "b3c8ea62-7737-4d51-a335-c512a7cfc280",
   "metadata": {},
   "outputs": [],
   "source": []
  },
  {
   "cell_type": "code",
   "execution_count": null,
   "id": "09a58992-24ba-4e2a-bf32-8a1c34266c9f",
   "metadata": {},
   "outputs": [],
   "source": []
  },
  {
   "cell_type": "code",
   "execution_count": null,
   "id": "a9220a35-7252-4309-a94d-137157a4f31b",
   "metadata": {},
   "outputs": [],
   "source": []
  },
  {
   "cell_type": "code",
   "execution_count": null,
   "id": "ef1d1e91-bdfe-4be1-991b-8d3443d822d6",
   "metadata": {},
   "outputs": [],
   "source": []
  },
  {
   "cell_type": "code",
   "execution_count": null,
   "id": "3a955681-8e66-474d-8b2d-6be9a6972115",
   "metadata": {},
   "outputs": [],
   "source": []
  },
  {
   "cell_type": "code",
   "execution_count": null,
   "id": "38ee0e57-3eef-457f-a5ea-f48b5618dd9b",
   "metadata": {},
   "outputs": [],
   "source": []
  },
  {
   "cell_type": "code",
   "execution_count": null,
   "id": "c008217d-f92a-4496-8783-b5de03276081",
   "metadata": {},
   "outputs": [],
   "source": []
  },
  {
   "cell_type": "code",
   "execution_count": null,
   "id": "abd02ad9-3db2-4e63-8e7e-a70e36c716f1",
   "metadata": {},
   "outputs": [],
   "source": []
  },
  {
   "cell_type": "code",
   "execution_count": null,
   "id": "1b5bde2c-7c24-4880-b9cb-1c5eaa03cb60",
   "metadata": {},
   "outputs": [],
   "source": []
  },
  {
   "cell_type": "code",
   "execution_count": null,
   "id": "42100c3a-da76-4aba-9ce4-89682cd2c697",
   "metadata": {},
   "outputs": [],
   "source": []
  },
  {
   "cell_type": "code",
   "execution_count": null,
   "id": "0685063c-586b-4862-b235-f75050606e5f",
   "metadata": {},
   "outputs": [],
   "source": []
  },
  {
   "cell_type": "code",
   "execution_count": null,
   "id": "5eb0f565-5dd0-42e2-b26e-332ebe4c44ef",
   "metadata": {},
   "outputs": [],
   "source": []
  },
  {
   "cell_type": "code",
   "execution_count": null,
   "id": "c71b7626-1715-441b-b0a7-64f640c7d219",
   "metadata": {},
   "outputs": [],
   "source": []
  },
  {
   "cell_type": "code",
   "execution_count": null,
   "id": "5aa8b4da-365e-4529-963d-deb798a953b5",
   "metadata": {},
   "outputs": [],
   "source": []
  },
  {
   "cell_type": "code",
   "execution_count": null,
   "id": "b5db7d9a-1a62-4827-a57d-cd226e990258",
   "metadata": {},
   "outputs": [],
   "source": []
  },
  {
   "cell_type": "code",
   "execution_count": null,
   "id": "95a8aed7-98a8-4f73-8b87-bb4c8d5899d6",
   "metadata": {},
   "outputs": [],
   "source": []
  },
  {
   "cell_type": "code",
   "execution_count": null,
   "id": "9cfd4c40-50b6-4eff-923e-20aa577a782b",
   "metadata": {},
   "outputs": [],
   "source": []
  },
  {
   "cell_type": "code",
   "execution_count": null,
   "id": "55ee2f34-9b9a-4c44-bae3-806881ea10bf",
   "metadata": {},
   "outputs": [],
   "source": []
  },
  {
   "cell_type": "code",
   "execution_count": null,
   "id": "b1e20fca-b107-42d3-b85b-b248b443edfa",
   "metadata": {},
   "outputs": [],
   "source": []
  },
  {
   "cell_type": "code",
   "execution_count": null,
   "id": "eb54f79d-69ca-47b9-b99e-b052a126aad8",
   "metadata": {},
   "outputs": [],
   "source": []
  },
  {
   "cell_type": "code",
   "execution_count": null,
   "id": "e6dbdf26-39de-4f7d-9b76-776e33024e34",
   "metadata": {},
   "outputs": [],
   "source": []
  },
  {
   "cell_type": "code",
   "execution_count": null,
   "id": "0fd8f1ba-5c03-4b68-bd1b-89ad01f34ca4",
   "metadata": {},
   "outputs": [],
   "source": []
  },
  {
   "cell_type": "code",
   "execution_count": null,
   "id": "2045cbba-4545-4735-8b3f-e47ba0802c8f",
   "metadata": {},
   "outputs": [],
   "source": []
  },
  {
   "cell_type": "code",
   "execution_count": null,
   "id": "0c02367a-a4ff-4582-96d3-0a2be973ee15",
   "metadata": {},
   "outputs": [],
   "source": []
  },
  {
   "cell_type": "code",
   "execution_count": null,
   "id": "f3a2f9cd-af43-45ee-8f68-06409e8d4a9c",
   "metadata": {},
   "outputs": [],
   "source": []
  },
  {
   "cell_type": "code",
   "execution_count": null,
   "id": "5f57ed3d-f2bb-4982-a74e-462534a3dd53",
   "metadata": {},
   "outputs": [],
   "source": []
  },
  {
   "cell_type": "code",
   "execution_count": null,
   "id": "03a9c88e-183d-46d1-8e03-330f416b2551",
   "metadata": {},
   "outputs": [],
   "source": []
  },
  {
   "cell_type": "code",
   "execution_count": null,
   "id": "c6f957e0-f63c-411d-9484-38a77b65a961",
   "metadata": {},
   "outputs": [],
   "source": []
  },
  {
   "cell_type": "code",
   "execution_count": null,
   "id": "d643fe59-ff23-4305-a2b5-e4513d3c60ff",
   "metadata": {},
   "outputs": [],
   "source": []
  },
  {
   "cell_type": "code",
   "execution_count": null,
   "id": "f37becb4-870d-465d-8ffb-fa0c84d2133a",
   "metadata": {},
   "outputs": [],
   "source": []
  },
  {
   "cell_type": "code",
   "execution_count": null,
   "id": "f54fe1f9-8da2-48f9-92a2-321bad4c4378",
   "metadata": {},
   "outputs": [],
   "source": []
  },
  {
   "cell_type": "code",
   "execution_count": null,
   "id": "c854df14-aa73-4e12-96c7-e56bc69676b6",
   "metadata": {},
   "outputs": [],
   "source": []
  },
  {
   "cell_type": "code",
   "execution_count": null,
   "id": "07330d1a-2956-4df6-bd2d-6670ec2702ef",
   "metadata": {},
   "outputs": [],
   "source": []
  },
  {
   "cell_type": "code",
   "execution_count": null,
   "id": "300d67aa-c0fe-40cf-882f-080412623443",
   "metadata": {},
   "outputs": [],
   "source": []
  },
  {
   "cell_type": "code",
   "execution_count": null,
   "id": "09e4c1d8-8d3e-4435-86a6-a8e101a0db84",
   "metadata": {},
   "outputs": [],
   "source": []
  },
  {
   "cell_type": "code",
   "execution_count": null,
   "id": "718aeeba-d772-47aa-ae2e-82121a3b2384",
   "metadata": {},
   "outputs": [],
   "source": []
  },
  {
   "cell_type": "code",
   "execution_count": null,
   "id": "3b4b7231-8c70-4a48-a8a9-40a59a9f133c",
   "metadata": {},
   "outputs": [],
   "source": []
  },
  {
   "cell_type": "code",
   "execution_count": null,
   "id": "944341ed-b462-40d3-9dcc-1ee069269a89",
   "metadata": {},
   "outputs": [],
   "source": []
  },
  {
   "cell_type": "code",
   "execution_count": null,
   "id": "da53a1e1-90c7-41dc-9da0-dd778d07b561",
   "metadata": {},
   "outputs": [],
   "source": []
  },
  {
   "cell_type": "code",
   "execution_count": null,
   "id": "aa9781f2-de2b-4239-a3f9-653e6b35a794",
   "metadata": {},
   "outputs": [],
   "source": []
  },
  {
   "cell_type": "code",
   "execution_count": null,
   "id": "12e2939e-d1c1-43b0-a73c-364253a7d030",
   "metadata": {},
   "outputs": [],
   "source": []
  },
  {
   "cell_type": "code",
   "execution_count": null,
   "id": "1cb991bf-afe4-4400-b4c5-09e62d4de802",
   "metadata": {},
   "outputs": [],
   "source": []
  }
 ],
 "metadata": {
  "kernelspec": {
   "display_name": "Python 3 (ipykernel)",
   "language": "python",
   "name": "python3"
  },
  "language_info": {
   "codemirror_mode": {
    "name": "ipython",
    "version": 3
   },
   "file_extension": ".py",
   "mimetype": "text/x-python",
   "name": "python",
   "nbconvert_exporter": "python",
   "pygments_lexer": "ipython3",
   "version": "3.12.7"
  }
 },
 "nbformat": 4,
 "nbformat_minor": 5
}
