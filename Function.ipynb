{
 "cells": [
  {
   "cell_type": "code",
   "execution_count": 1,
   "id": "cd6dfe96-837f-41c8-9c30-444e37a53f90",
   "metadata": {},
   "outputs": [],
   "source": [
    "# Predefined \n",
    "# int() float() str() list() tuple() dict() set() print() type()"
   ]
  },
  {
   "cell_type": "code",
   "execution_count": 2,
   "id": "c59f00a6-6c8f-4eaf-aa3d-a78dd2fffb45",
   "metadata": {},
   "outputs": [],
   "source": [
    "# def <function_name>():  #define funciton name\n",
    "#     <operation>\n",
    "\n",
    "# <function_name>()         #call function\n",
    "    "
   ]
  },
  {
   "cell_type": "code",
   "execution_count": 4,
   "id": "fdf658ca-067e-4a64-9097-48da180ebdb5",
   "metadata": {},
   "outputs": [
    {
     "name": "stdout",
     "output_type": "stream",
     "text": [
      "Hello world\n"
     ]
    }
   ],
   "source": [
    "def hello():\n",
    "    print(\"Hello world\")\n",
    "hello()"
   ]
  },
  {
   "cell_type": "code",
   "execution_count": 6,
   "id": "4bd8b112-e924-48fe-ae6a-237ac1d8bbba",
   "metadata": {},
   "outputs": [
    {
     "name": "stdin",
     "output_type": "stream",
     "text": [
      "Enter p= 10000\n",
      "enter t= 5.5\n",
      "enter r= 10.5\n"
     ]
    },
    {
     "name": "stdout",
     "output_type": "stream",
     "text": [
      "577500.0\n"
     ]
    }
   ],
   "source": [
    "#Function wthout argument\n",
    "def cal():\n",
    "    p=int(input(\"Enter p=\"))        #local variable\n",
    "    t=float(input(\"enter t=\"))      #local variable\n",
    "    r=float(input(\"enter r=\"))      #local variable\n",
    "    i=p*t*r\n",
    "    print(i)\n",
    "cal()\n"
   ]
  },
  {
   "cell_type": "code",
   "execution_count": 8,
   "id": "f5a9cb8e-5248-4627-a3b1-ab1bfe24e730",
   "metadata": {},
   "outputs": [
    {
     "name": "stdin",
     "output_type": "stream",
     "text": [
      "Enter p= 10\n",
      "enter t= 10\n",
      "enter r= 10\n"
     ]
    },
    {
     "name": "stdout",
     "output_type": "stream",
     "text": [
      "1000.0\n"
     ]
    }
   ],
   "source": [
    "p=int(input(\"Enter p=\")) #global variable\n",
    "t=float(input(\"enter t=\")) #global variable\n",
    "r=float(input(\"enter r=\")) #global variable\n",
    "def cal():\n",
    "    i=p*t*r\n",
    "    print(i)\n",
    "cal()\n"
   ]
  },
  {
   "cell_type": "code",
   "execution_count": 9,
   "id": "6776a71f-293b-4a4f-9ac8-5ff2e3be2bd6",
   "metadata": {},
   "outputs": [],
   "source": [
    "#Argument and Parameter "
   ]
  },
  {
   "cell_type": "code",
   "execution_count": 12,
   "id": "a5cba610-86aa-4bf8-ada5-df3904e23e38",
   "metadata": {},
   "outputs": [
    {
     "name": "stdin",
     "output_type": "stream",
     "text": [
      "Enter name Ram\n",
      "Enter age 34\n",
      "Enter add Kathmandu\n"
     ]
    },
    {
     "name": "stdout",
     "output_type": "stream",
     "text": [
      "Hello word I am Ram I am from Kathmandu  I am 34\n"
     ]
    }
   ],
   "source": [
    "#Function with argument\n",
    "def info(name,ag,add): #parameter \n",
    "    print(\"Hello word I am\",name,\"I am from\" , add ,\" I am\" ,age)\n",
    "\n",
    "name=input(\"Enter name\")\n",
    "age=input(\"Enter age\")\n",
    "add=input(\"Enter add\")\n",
    "info(name,age,add)  #Carrying argument "
   ]
  },
  {
   "cell_type": "code",
   "execution_count": 20,
   "id": "a0c981eb-0027-4c7c-a69d-3c169760b0ab",
   "metadata": {},
   "outputs": [
    {
     "name": "stdout",
     "output_type": "stream",
     "text": [
      "Pyhthon\n",
      "C\n",
      "C++\n",
      "C+++\n"
     ]
    }
   ],
   "source": [
    "def language(lan=\"Pyhthon\"):\n",
    "    print(lan)\n",
    "\n",
    "language()\n",
    "language(\"C\")\n",
    "language(\"C++\")\n",
    "language(\"C+++\")\n"
   ]
  },
  {
   "cell_type": "code",
   "execution_count": 22,
   "id": "0dfa5b90-1879-4a21-b196-4f5dbb7531f7",
   "metadata": {},
   "outputs": [
    {
     "name": "stdout",
     "output_type": "stream",
     "text": [
      "Hello word I am Ram I am from nepal  I am 45\n"
     ]
    }
   ],
   "source": [
    "def info(name,age,add=\"nepal\"):     #Default value as be defined \n",
    "    print(\"Hello word I am\",name,\"I am from\" , add ,\" I am\" ,age)\n",
    "\n",
    "name=\"Ram\"\n",
    "age=45\n",
    "info(name,age)     #Default value will be automatically considerd"
   ]
  },
  {
   "cell_type": "code",
   "execution_count": 23,
   "id": "508ab735-0225-4a72-9134-2ee78c9eb152",
   "metadata": {},
   "outputs": [
    {
     "name": "stdout",
     "output_type": "stream",
     "text": [
      "Hello word I am Ram I am from Kathmandu  I am 45\n"
     ]
    }
   ],
   "source": [
    "def info(name,age,add=\"nepal\"):          #Default value as be defined \n",
    "    print(\"Hello word I am\",name,\"I am from\" , add ,\" I am\" ,age)\n",
    "\n",
    "name=\"Ram\"\n",
    "age=45\n",
    "add=\"Kathmandu\"\n",
    "info(name,age,add)"
   ]
  },
  {
   "cell_type": "code",
   "execution_count": 3,
   "id": "e518d820-0e7a-4535-972a-364ed64d9f5f",
   "metadata": {},
   "outputs": [
    {
     "name": "stdout",
     "output_type": "stream",
     "text": [
      "Hello word I am Ram.I am from 45 I am 45\n"
     ]
    }
   ],
   "source": [
    "def info(k):\n",
    "    print(f\"Hello word I am {k['name']}.I am from {k['add']} I am {k['age']}\")\n",
    "\n",
    "name=\"Ram\"\n",
    "age=45\n",
    "add=\"Kathmandu\"\n",
    "d= {'name':name,'age':age,'add':age}\n",
    "info(d)"
   ]
  },
  {
   "cell_type": "code",
   "execution_count": null,
   "id": "12d0a218-cfe4-4a77-aeeb-ad7fc97e1bec",
   "metadata": {},
   "outputs": [],
   "source": []
  },
  {
   "cell_type": "code",
   "execution_count": null,
   "id": "e420349e-4c5b-4fed-af1b-781613c630fe",
   "metadata": {},
   "outputs": [],
   "source": []
  },
  {
   "cell_type": "code",
   "execution_count": null,
   "id": "4f4d703c-ec70-4f14-9ce2-c3d631b9e320",
   "metadata": {},
   "outputs": [],
   "source": []
  },
  {
   "cell_type": "code",
   "execution_count": null,
   "id": "4c88898b-042c-4b31-ae98-762b92110eca",
   "metadata": {},
   "outputs": [],
   "source": []
  },
  {
   "cell_type": "code",
   "execution_count": null,
   "id": "0e943986-b3cb-4c92-a417-53984326e36e",
   "metadata": {},
   "outputs": [],
   "source": []
  },
  {
   "cell_type": "code",
   "execution_count": 3,
   "id": "36b4f05e-bb78-4dbd-9916-f39fb6dca27e",
   "metadata": {},
   "outputs": [
    {
     "name": "stdout",
     "output_type": "stream",
     "text": [
      "hello world\n"
     ]
    }
   ],
   "source": [
    "def hello():\n",
    "    x=\"hello world\"\n",
    "    return x\n",
    "\n",
    "print(hello())"
   ]
  },
  {
   "cell_type": "code",
   "execution_count": 4,
   "id": "dd35d9cc-efdb-4ee2-ab7b-3f2d0edf736c",
   "metadata": {},
   "outputs": [
    {
     "data": {
      "text/plain": [
       "'hello world'"
      ]
     },
     "execution_count": 4,
     "metadata": {},
     "output_type": "execute_result"
    }
   ],
   "source": [
    "def hello():\n",
    "    x=\"hello world\"\n",
    "    return x\n",
    "\n",
    "hello()"
   ]
  },
  {
   "cell_type": "code",
   "execution_count": 8,
   "id": "ada9b59f-c63e-4574-a615-2f74dcd71edc",
   "metadata": {},
   "outputs": [
    {
     "name": "stdout",
     "output_type": "stream",
     "text": [
      "hello world I am Pyhton\n"
     ]
    }
   ],
   "source": [
    "def hello():\n",
    "    x=\"hello world\"\n",
    "    return x\n",
    "\n",
    "y=hello()\n",
    "info=y+ \" I am Pyhton\"\n",
    "print(info)"
   ]
  },
  {
   "cell_type": "code",
   "execution_count": 23,
   "id": "2d0920a9-8591-4bbb-b54f-2a9068cda2cb",
   "metadata": {},
   "outputs": [
    {
     "name": "stdin",
     "output_type": "stream",
     "text": [
      "Enter l =  10\n",
      "Enter l =  5\n",
      "enter h=  2\n"
     ]
    },
    {
     "name": "stdout",
     "output_type": "stream",
     "text": [
      "The volume =  100\n"
     ]
    }
   ],
   "source": [
    "#Funtion with argument and return type\n",
    "def area(l,b):\n",
    "    a=l*b\n",
    "    return a\n",
    "\n",
    "l= int(input(\"Enter l = \" ))\n",
    "b= int(input(\"Enter l = \" ))\n",
    "h=int(input(\"enter h= \"))\n",
    "ar= area(l,b)\n",
    "v= ar*h\n",
    "print(\"The volume = \",v)\n"
   ]
  },
  {
   "cell_type": "code",
   "execution_count": null,
   "id": "13f4d39e-2184-4793-8976-fcedacc1c71e",
   "metadata": {},
   "outputs": [],
   "source": []
  },
  {
   "cell_type": "code",
   "execution_count": null,
   "id": "2769ec40-4728-40c6-8399-4238d6bbbc3a",
   "metadata": {},
   "outputs": [],
   "source": []
  },
  {
   "cell_type": "code",
   "execution_count": null,
   "id": "0920a099-a28c-4012-b6df-4292146b4350",
   "metadata": {},
   "outputs": [],
   "source": []
  },
  {
   "cell_type": "code",
   "execution_count": null,
   "id": "0b762ce9-1b5a-4ba3-b4d4-7bc9e71360ce",
   "metadata": {},
   "outputs": [],
   "source": []
  },
  {
   "cell_type": "code",
   "execution_count": 20,
   "id": "75da6a3f-d4df-401e-9ff1-d8ab92a4fcac",
   "metadata": {},
   "outputs": [
    {
     "name": "stdin",
     "output_type": "stream",
     "text": [
      "enter a=  10\n",
      "enter b=  3\n",
      "Enter + or - or * or /  +\n"
     ]
    },
    {
     "name": "stdout",
     "output_type": "stream",
     "text": [
      "13\n"
     ]
    }
   ],
   "source": [
    "def add(a,b):\n",
    "    return a+b\n",
    "def sub(a,b):\n",
    "    return a-b\n",
    "def mul(a,b):\n",
    "    return a*b\n",
    "def div(a,b):\n",
    "    return a/b\n",
    "\n",
    "def cal(a,b,o):\n",
    "\n",
    "    if o==\"+\":\n",
    "        print(add(a,b))\n",
    "    elif o==\"-\":\n",
    "        print(sub(a,b))\n",
    "    elif o==\"*\":\n",
    "        print(mul(a,b))\n",
    "    else:\n",
    "        print(div(a,b))\n",
    "\n",
    "a=int(input(\"enter a= \"))\n",
    "b=int(input(\"enter b= \"))\n",
    "o=input(\"Enter + or - or * or / \")\n",
    "\n",
    "\n",
    "cal(a,b,o)\n",
    "\n",
    "    \n",
    "    \n",
    "\n"
   ]
  },
  {
   "cell_type": "code",
   "execution_count": null,
   "id": "90d9f246-6722-40f3-8dd4-334dd726bccc",
   "metadata": {},
   "outputs": [],
   "source": []
  },
  {
   "cell_type": "code",
   "execution_count": null,
   "id": "6af8ba25-af68-40e5-ac70-f7ec370b2d1d",
   "metadata": {},
   "outputs": [],
   "source": [
    "#recursive function"
   ]
  },
  {
   "cell_type": "code",
   "execution_count": 24,
   "id": "71fba3a1-2ccc-4624-baca-9b847cdddf22",
   "metadata": {},
   "outputs": [
    {
     "name": "stdout",
     "output_type": "stream",
     "text": [
      "Hello world\n",
      "Hello world\n"
     ]
    }
   ],
   "source": [
    "def hello():\n",
    "    print(\"Hello world\")\n",
    "hello()\n",
    "hello()"
   ]
  },
  {
   "cell_type": "code",
   "execution_count": null,
   "id": "07421201-ad3a-4873-9b0f-645755d06334",
   "metadata": {},
   "outputs": [],
   "source": [
    "# def hello():\n",
    "#     print(\"Hello world\")\n",
    "#     hello()\n",
    "# hello()"
   ]
  },
  {
   "cell_type": "code",
   "execution_count": 26,
   "id": "f572270b-d6b2-40eb-836a-9426ad0bd5b4",
   "metadata": {},
   "outputs": [
    {
     "name": "stdout",
     "output_type": "stream",
     "text": [
      "Hello world\n"
     ]
    },
    {
     "name": "stdin",
     "output_type": "stream",
     "text": [
      "Enter y for more print. y\n"
     ]
    },
    {
     "name": "stdout",
     "output_type": "stream",
     "text": [
      "Hello world\n"
     ]
    },
    {
     "name": "stdin",
     "output_type": "stream",
     "text": [
      "Enter y for more print. y\n"
     ]
    },
    {
     "name": "stdout",
     "output_type": "stream",
     "text": [
      "Hello world\n"
     ]
    },
    {
     "name": "stdin",
     "output_type": "stream",
     "text": [
      "Enter y for more print. y\n"
     ]
    },
    {
     "name": "stdout",
     "output_type": "stream",
     "text": [
      "Hello world\n"
     ]
    },
    {
     "name": "stdin",
     "output_type": "stream",
     "text": [
      "Enter y for more print. y\n"
     ]
    },
    {
     "name": "stdout",
     "output_type": "stream",
     "text": [
      "Hello world\n"
     ]
    },
    {
     "name": "stdin",
     "output_type": "stream",
     "text": [
      "Enter y for more print. x\n"
     ]
    }
   ],
   "source": [
    "def hello():\n",
    "    print(\"Hello world\")\n",
    "    x=input(\"Enter y for more print.\")\n",
    "    if x==\"y\":\n",
    "        hello()\n",
    "hello()"
   ]
  },
  {
   "cell_type": "code",
   "execution_count": null,
   "id": "edae65aa-476b-4195-8425-d0cebdf60fc3",
   "metadata": {},
   "outputs": [],
   "source": []
  },
  {
   "cell_type": "code",
   "execution_count": null,
   "id": "1c5dcb23-c321-44a8-8d8b-6373bd749aeb",
   "metadata": {},
   "outputs": [],
   "source": [
    "# lambda function\n",
    "#lambda <argument>:<operation>\n"
   ]
  },
  {
   "cell_type": "code",
   "execution_count": 27,
   "id": "d9a1dc4f-85c6-42ac-8cee-7a2cd86a0c6c",
   "metadata": {},
   "outputs": [
    {
     "data": {
      "text/plain": [
       "4"
      ]
     },
     "execution_count": 27,
     "metadata": {},
     "output_type": "execute_result"
    }
   ],
   "source": [
    "x = lambda a:a*a\n",
    "x(2)\n"
   ]
  },
  {
   "cell_type": "code",
   "execution_count": 32,
   "id": "57048559-dd02-4db1-baf1-db14e25fc9ca",
   "metadata": {},
   "outputs": [
    {
     "name": "stdin",
     "output_type": "stream",
     "text": [
      "enter l =  100\n",
      "enter b =  20\n"
     ]
    },
    {
     "name": "stdout",
     "output_type": "stream",
     "text": [
      "1000\n"
     ]
    }
   ],
   "source": [
    "x=lambda l,b:l*a\n",
    "l= int(input(\"enter l = \"))\n",
    "b= int(input(\"enter b = \"))\n",
    "print(x(l,b))"
   ]
  },
  {
   "cell_type": "code",
   "execution_count": null,
   "id": "9998b9f6-3868-4ade-9ede-77d064cf945d",
   "metadata": {},
   "outputs": [],
   "source": []
  },
  {
   "cell_type": "code",
   "execution_count": null,
   "id": "d987867d-f721-4d63-980e-b63a80d30b64",
   "metadata": {},
   "outputs": [],
   "source": []
  },
  {
   "cell_type": "code",
   "execution_count": 33,
   "id": "6340b38c-8d70-4d8b-a3fd-2ede323d3684",
   "metadata": {},
   "outputs": [],
   "source": [
    "# filter () map()\n"
   ]
  },
  {
   "cell_type": "code",
   "execution_count": null,
   "id": "890a963f-e84f-459b-968f-b3776e8c1e4a",
   "metadata": {},
   "outputs": [],
   "source": []
  },
  {
   "cell_type": "code",
   "execution_count": null,
   "id": "147dbfd6-7653-4773-beec-139196f50390",
   "metadata": {},
   "outputs": [],
   "source": [
    "# filter ()\n",
    "# lambda (filter (<argument> : <expression>, list ))"
   ]
  },
  {
   "cell_type": "code",
   "execution_count": 34,
   "id": "dfd269d2-2c33-4ad1-b71f-b96e04189257",
   "metadata": {},
   "outputs": [
    {
     "data": {
      "text/plain": [
       "[234, 0, 456, 98, 324, 6]"
      ]
     },
     "execution_count": 34,
     "metadata": {},
     "output_type": "execute_result"
    }
   ],
   "source": [
    "l=[234,565,67,657,0,456,657,89,98,123,324,453,6]\n",
    "list (filter (lambda x:x%2==0,l))"
   ]
  },
  {
   "cell_type": "code",
   "execution_count": 35,
   "id": "82102fc2-26dd-478b-b1b6-79f1d6be75c2",
   "metadata": {},
   "outputs": [
    {
     "data": {
      "text/plain": [
       "['Apple', 'Ant']"
      ]
     },
     "execution_count": 35,
     "metadata": {},
     "output_type": "execute_result"
    }
   ],
   "source": [
    "l= [\"Apple\",\"Ant\",\"Cat\",\"Dog\"]\n",
    "list (filter (lambda x:x[0]==\"A\",l))"
   ]
  },
  {
   "cell_type": "code",
   "execution_count": 36,
   "id": "7442bacf-1fe7-4108-b492-e368bc307d78",
   "metadata": {},
   "outputs": [],
   "source": [
    "#Map ()\n",
    "# List(map(lambda<argument>:<operation>,list))\n"
   ]
  },
  {
   "cell_type": "code",
   "execution_count": 38,
   "id": "25b5c75c-b889-4ded-a987-f1c3eefa2e09",
   "metadata": {},
   "outputs": [
    {
     "data": {
      "text/plain": [
       "[1, 4, 9, 16, 25, 36, 49, 64, 81, 100]"
      ]
     },
     "execution_count": 38,
     "metadata": {},
     "output_type": "execute_result"
    }
   ],
   "source": [
    "l=[1,2,3,4,5,6,7,8,9,10]\n",
    "list (map(lambda x:x**2,l))"
   ]
  },
  {
   "cell_type": "code",
   "execution_count": 39,
   "id": "319851c5-4f17-4968-9b70-962f00405183",
   "metadata": {},
   "outputs": [
    {
     "data": {
      "text/plain": [
       "['apple', 'ball', 'cat', 'dog']"
      ]
     },
     "execution_count": 39,
     "metadata": {},
     "output_type": "execute_result"
    }
   ],
   "source": [
    "a=[\"Apple\",\"Ball\",\"CAT\",\"Dog\"]\n",
    "list(map(lambda x:x.lower(),a))"
   ]
  },
  {
   "cell_type": "code",
   "execution_count": 40,
   "id": "671dd5ac-3b20-4419-b0f9-c876c81c7fd4",
   "metadata": {},
   "outputs": [
    {
     "data": {
      "text/plain": [
       "['CAT', 'Dog']"
      ]
     },
     "execution_count": 40,
     "metadata": {},
     "output_type": "execute_result"
    }
   ],
   "source": [
    "a=[\"Apple\",\"Ball\",\"CAT\",\"Dog\"]\n",
    "list(filter(lambda x:len(x)==3,a))"
   ]
  },
  {
   "cell_type": "code",
   "execution_count": null,
   "id": "86fa8573-9c0d-42ea-a2d0-3c60f3267a0e",
   "metadata": {},
   "outputs": [],
   "source": []
  },
  {
   "cell_type": "code",
   "execution_count": null,
   "id": "174cd36e-2d48-4083-84e3-7a710c3c493c",
   "metadata": {},
   "outputs": [],
   "source": []
  },
  {
   "cell_type": "code",
   "execution_count": null,
   "id": "7f70ffdf-85c8-4d2b-8ceb-663c2727c20d",
   "metadata": {},
   "outputs": [],
   "source": []
  },
  {
   "cell_type": "code",
   "execution_count": null,
   "id": "60ab1a20-6c97-4ceb-94f5-d7e5e6138815",
   "metadata": {},
   "outputs": [],
   "source": []
  },
  {
   "cell_type": "code",
   "execution_count": null,
   "id": "f0248d45-b7b7-45c8-bb13-e664fdc95e4f",
   "metadata": {},
   "outputs": [],
   "source": []
  },
  {
   "cell_type": "code",
   "execution_count": null,
   "id": "4bf748fd-1730-4856-9a8c-fc882e03410c",
   "metadata": {},
   "outputs": [],
   "source": []
  },
  {
   "cell_type": "code",
   "execution_count": null,
   "id": "119cbc90-9a9b-42b3-9811-da1ae7df3c22",
   "metadata": {},
   "outputs": [],
   "source": []
  },
  {
   "cell_type": "code",
   "execution_count": null,
   "id": "62ecad30-9c96-4232-b936-40a5977f39ad",
   "metadata": {},
   "outputs": [],
   "source": []
  },
  {
   "cell_type": "code",
   "execution_count": null,
   "id": "58d3c457-b7b5-44e4-8957-f0dde853fbed",
   "metadata": {},
   "outputs": [],
   "source": []
  },
  {
   "cell_type": "code",
   "execution_count": null,
   "id": "f4858b7a-ab88-4fd6-8169-182ace4e255a",
   "metadata": {},
   "outputs": [],
   "source": []
  },
  {
   "cell_type": "code",
   "execution_count": null,
   "id": "5686d236-3b3c-4269-9ed7-193742cd6b0b",
   "metadata": {},
   "outputs": [],
   "source": []
  },
  {
   "cell_type": "code",
   "execution_count": null,
   "id": "88866453-bcbc-4b82-9f47-0743f703fa0d",
   "metadata": {},
   "outputs": [],
   "source": []
  },
  {
   "cell_type": "code",
   "execution_count": null,
   "id": "4975c4c7-63b4-4685-b2ca-c6fb1afea2ea",
   "metadata": {},
   "outputs": [],
   "source": []
  },
  {
   "cell_type": "code",
   "execution_count": null,
   "id": "66610a4e-996e-440d-ad06-673e19e37b93",
   "metadata": {},
   "outputs": [],
   "source": []
  },
  {
   "cell_type": "code",
   "execution_count": null,
   "id": "677b7c49-f109-4c41-a7e4-dd08267ecebd",
   "metadata": {},
   "outputs": [],
   "source": []
  },
  {
   "cell_type": "code",
   "execution_count": null,
   "id": "45bb0f42-3660-4d4f-b46b-6a2b93104c35",
   "metadata": {},
   "outputs": [],
   "source": []
  },
  {
   "cell_type": "code",
   "execution_count": null,
   "id": "bd49f2df-e8be-4006-b114-bc925f7a7f92",
   "metadata": {},
   "outputs": [],
   "source": []
  },
  {
   "cell_type": "code",
   "execution_count": null,
   "id": "61336f98-baa3-46e1-ba81-1912fca4d0b6",
   "metadata": {},
   "outputs": [],
   "source": []
  },
  {
   "cell_type": "code",
   "execution_count": null,
   "id": "e95d200e-9ebb-4506-bf91-8b59c1b48b83",
   "metadata": {},
   "outputs": [],
   "source": []
  },
  {
   "cell_type": "code",
   "execution_count": null,
   "id": "5723e4c1-8668-4e2a-945a-861fa10fb051",
   "metadata": {},
   "outputs": [],
   "source": []
  },
  {
   "cell_type": "code",
   "execution_count": null,
   "id": "bc0cdc26-1799-4697-af8b-b9176cf60150",
   "metadata": {},
   "outputs": [],
   "source": []
  },
  {
   "cell_type": "code",
   "execution_count": null,
   "id": "bc569b40-8916-4a57-80d3-61f7d7ac86ee",
   "metadata": {},
   "outputs": [],
   "source": []
  },
  {
   "cell_type": "code",
   "execution_count": null,
   "id": "273558c0-0da1-4ffe-a27d-953cf988b14d",
   "metadata": {},
   "outputs": [],
   "source": []
  }
 ],
 "metadata": {
  "kernelspec": {
   "display_name": "Python 3 (ipykernel)",
   "language": "python",
   "name": "python3"
  },
  "language_info": {
   "codemirror_mode": {
    "name": "ipython",
    "version": 3
   },
   "file_extension": ".py",
   "mimetype": "text/x-python",
   "name": "python",
   "nbconvert_exporter": "python",
   "pygments_lexer": "ipython3",
   "version": "3.12.7"
  }
 },
 "nbformat": 4,
 "nbformat_minor": 5
}
