{
 "cells": [
  {
   "cell_type": "code",
   "execution_count": 1,
   "id": "aba29792-da15-4a4e-a19b-94bf876ffb44",
   "metadata": {},
   "outputs": [],
   "source": [
    "#inheritance \n",
    "\n",
    "class A:               #parent class\n",
    "    pass\n",
    "\n",
    "class B(A):            #child class\n",
    "    pass\n",
    "\n",
    "obj=B()\n"
   ]
  },
  {
   "cell_type": "code",
   "execution_count": 19,
   "id": "4a152e91-2a80-41e3-baa0-901cd55378aa",
   "metadata": {},
   "outputs": [
    {
     "name": "stdout",
     "output_type": "stream",
     "text": [
      "Ram 34 Kathmandu\n",
      "hello world I am Ram, I am from Kathmandu. I am 34\n"
     ]
    }
   ],
   "source": [
    "class Data:\n",
    "    def __init__(self,name,age,add):\n",
    "        self.name=name\n",
    "        self.age=age\n",
    "        self.add=add\n",
    "    def data(self):\n",
    "        print(self.name,self.age,self.add)\n",
    "\n",
    "class Info(Data):\n",
    "    def info(self):\n",
    "        a=f\"hello world I am {self.name}, I am from {self.add}. I am {self.age}\"\n",
    "        print(a)\n",
    "\n",
    "obj=Info(\"Ram\",34,\"Kathmandu\")\n",
    "obj.data()\n",
    "obj.info()"
   ]
  },
  {
   "cell_type": "code",
   "execution_count": null,
   "id": "9814b400-bb09-4332-89bd-d4302fe9a83c",
   "metadata": {},
   "outputs": [],
   "source": []
  },
  {
   "cell_type": "code",
   "execution_count": 20,
   "id": "1b22184e-d5c8-43c1-9d9d-1c205cb5e298",
   "metadata": {},
   "outputs": [
    {
     "name": "stdout",
     "output_type": "stream",
     "text": [
      "Kathmandu\n",
      "hello world I am Ram, I am from Kathmandu. I am 34\n"
     ]
    }
   ],
   "source": [
    "class Data:\n",
    "    def __init__(self,add):\n",
    "        self.add=add\n",
    "    def data(self):\n",
    "        print(self.add)\n",
    "\n",
    "class Info(Data):\n",
    "    def __init__(self,name,age,add):\n",
    "        self.name=name\n",
    "        self.age=age\n",
    "        Data.__init__(self,add)\n",
    "        \n",
    "    def info(self):\n",
    "        a=f\"hello world I am {self.name}, I am from {self.add}. I am {self.age}\"\n",
    "        print(a)\n",
    "\n",
    "obj=Info(\"Ram\",34,\"Kathmandu\")\n",
    "obj.data()\n",
    "obj.info()"
   ]
  },
  {
   "cell_type": "code",
   "execution_count": null,
   "id": "6e655185-f1fe-4d84-86e7-7e9bf5acc8ae",
   "metadata": {},
   "outputs": [],
   "source": [
    "\n"
   ]
  },
  {
   "cell_type": "code",
   "execution_count": 23,
   "id": "3a034557-0c8b-4cb4-a5b1-1321f85bba75",
   "metadata": {},
   "outputs": [],
   "source": [
    "# Multilevel Inheritance\n",
    "# class A:\n",
    "#     pass\n",
    "# class B(A):\n",
    "#     pass\n",
    "\n",
    "# class C(B):\n",
    "#     pass\n",
    "\n",
    "# obj=C()"
   ]
  },
  {
   "cell_type": "code",
   "execution_count": null,
   "id": "1a602c86-1809-405c-b87a-fa42ff6e4fed",
   "metadata": {},
   "outputs": [],
   "source": []
  },
  {
   "cell_type": "code",
   "execution_count": 26,
   "id": "9ca62f27-0ed5-4327-96dd-049513818111",
   "metadata": {},
   "outputs": [
    {
     "name": "stdout",
     "output_type": "stream",
     "text": [
      "Kathmandu\n",
      "hello world I am Ram, I am from Kathmandu. I am 34\n"
     ]
    }
   ],
   "source": [
    "\n",
    "class MyAge:\n",
    "    def __init__(self,age):\n",
    "        self.age=age\n",
    "    def myage(self):\n",
    "        print(self.myage)\n",
    "\n",
    "class Data(MyAge):\n",
    "    def __init__(self,age,add):\n",
    "        self.add=add\n",
    "        MyAge.__init__(self,age)\n",
    "    def data(self):\n",
    "        print(self.add)\n",
    "\n",
    "class Info(Data):\n",
    "    def __init__(self,name,age,add):\n",
    "        self.name=name\n",
    "        Data.__init__(self,age,add)\n",
    "        \n",
    "    def info(self):\n",
    "        a=f\"hello world I am {self.name}, I am from {self.add}. I am {self.age}\"\n",
    "        print(a)\n",
    "\n",
    "obj=Info(\"Ram\",34,\"Kathmandu\")\n",
    "obj.data()\n",
    "obj.info()"
   ]
  },
  {
   "cell_type": "code",
   "execution_count": null,
   "id": "30a8c568-9c3b-480a-88e3-faeb9acb9fbe",
   "metadata": {},
   "outputs": [],
   "source": []
  },
  {
   "cell_type": "code",
   "execution_count": 30,
   "id": "42a5c1f6-235f-4849-bfc0-47934c9a960f",
   "metadata": {},
   "outputs": [
    {
     "name": "stdout",
     "output_type": "stream",
     "text": [
      "Kathmandu\n",
      "34\n",
      "hello world I am Ram, I am from Kathmandu. I am 34\n"
     ]
    }
   ],
   "source": [
    "class MyAge:\n",
    "    def __init__(self,age):\n",
    "        self.age=age\n",
    "    def myage(self):\n",
    "        print(self.age)\n",
    "\n",
    "class Data:\n",
    "    def __init__(self,add):\n",
    "        self.add=add\n",
    "    def data(self):\n",
    "        print(self.add)\n",
    "\n",
    "class Info(MyAge,Data):\n",
    "    def __init__(self,name,age,add):\n",
    "        self.name=name\n",
    "        Data.__init__(self,add)\n",
    "        MyAge.__init__(self,age)\n",
    "        \n",
    "    def info(self):\n",
    "        a=f\"hello world I am {self.name}, I am from {self.add}. I am {self.age}\"\n",
    "        print(a)\n",
    "\n",
    "obj=Info(\"Ram\",34,\"Kathmandu\")\n",
    "obj.data()\n",
    "obj.myage()\n",
    "obj.info()"
   ]
  },
  {
   "cell_type": "code",
   "execution_count": null,
   "id": "e39394ea-2bb3-4873-a989-9b8d030df1d1",
   "metadata": {},
   "outputs": [],
   "source": []
  },
  {
   "cell_type": "code",
   "execution_count": 1,
   "id": "22140ded-1ac5-4386-9517-e8aa7399be15",
   "metadata": {},
   "outputs": [],
   "source": [
    "#Private Public"
   ]
  },
  {
   "cell_type": "code",
   "execution_count": 3,
   "id": "56104a8d-5acc-4b8d-b668-cd65b0df1195",
   "metadata": {},
   "outputs": [
    {
     "name": "stdout",
     "output_type": "stream",
     "text": [
      "Ram\n",
      "23\n",
      "Kathmandu\n"
     ]
    }
   ],
   "source": [
    "#Public members\n",
    "class Info:\n",
    "    def __init__(self,name,age,add):\n",
    "        self.name=name\n",
    "        self.age=age\n",
    "        self.add=add\n",
    "\n",
    "obj=Info(\"Ram\",23,\"Kathmandu\")\n",
    "print(obj.name)\n",
    "print(obj.age)\n",
    "print(obj.add)\n",
    "        \n"
   ]
  },
  {
   "cell_type": "code",
   "execution_count": null,
   "id": "5f73d65b-4681-4d7b-b3f8-f9e8a89b42d4",
   "metadata": {},
   "outputs": [],
   "source": []
  },
  {
   "cell_type": "code",
   "execution_count": 6,
   "id": "0107008d-6ca4-4b73-8801-4a73635ff8e6",
   "metadata": {},
   "outputs": [
    {
     "ename": "AttributeError",
     "evalue": "'Info' object has no attribute 'name'",
     "output_type": "error",
     "traceback": [
      "\u001b[1;31m---------------------------------------------------------------------------\u001b[0m",
      "\u001b[1;31mAttributeError\u001b[0m                            Traceback (most recent call last)",
      "Cell \u001b[1;32mIn[6], line 9\u001b[0m\n\u001b[0;32m      6\u001b[0m         \u001b[38;5;28mself\u001b[39m\u001b[38;5;241m.\u001b[39m_add\u001b[38;5;241m=\u001b[39madd\n\u001b[0;32m      8\u001b[0m obj\u001b[38;5;241m=\u001b[39mInfo(\u001b[38;5;124m\"\u001b[39m\u001b[38;5;124mRam\u001b[39m\u001b[38;5;124m\"\u001b[39m,\u001b[38;5;241m23\u001b[39m,\u001b[38;5;124m\"\u001b[39m\u001b[38;5;124mKathmandu\u001b[39m\u001b[38;5;124m\"\u001b[39m)\n\u001b[1;32m----> 9\u001b[0m \u001b[38;5;28mprint\u001b[39m(obj\u001b[38;5;241m.\u001b[39mname)           \u001b[38;5;66;03m#Not possible to call protected info.\u001b[39;00m\n\u001b[0;32m     10\u001b[0m \u001b[38;5;28mprint\u001b[39m(obj\u001b[38;5;241m.\u001b[39mage)\n\u001b[0;32m     11\u001b[0m \u001b[38;5;28mprint\u001b[39m(obj\u001b[38;5;241m.\u001b[39madd)\n",
      "\u001b[1;31mAttributeError\u001b[0m: 'Info' object has no attribute 'name'"
     ]
    }
   ],
   "source": [
    "#Protected members\n",
    "class Info:\n",
    "    def __init__(self,name,age,add):\n",
    "        self._name=name          #protected member with underscore \"_\" before names\n",
    "        self._age=age\n",
    "        self._add=add\n",
    "\n",
    "obj=Info(\"Ram\",23,\"Kathmandu\")\n",
    "print(obj.name)           #Not possible to call protected info.\n",
    "print(obj.age)\n",
    "print(obj.add)"
   ]
  },
  {
   "cell_type": "code",
   "execution_count": null,
   "id": "78c73289-6d3e-4648-9ae1-a40ba32ef879",
   "metadata": {},
   "outputs": [],
   "source": []
  },
  {
   "cell_type": "code",
   "execution_count": null,
   "id": "48b2d247-9c5b-42a6-849b-ca94335852df",
   "metadata": {},
   "outputs": [],
   "source": []
  },
  {
   "cell_type": "code",
   "execution_count": 5,
   "id": "c89d5d12-7137-4d83-8539-27a343da55de",
   "metadata": {},
   "outputs": [
    {
     "name": "stdout",
     "output_type": "stream",
     "text": [
      "Ram\n",
      "23\n",
      "Kathmandu\n"
     ]
    }
   ],
   "source": [
    "#Protected members\n",
    "class Info:\n",
    "    def __init__(self,name,age,add):\n",
    "        self._name=name\n",
    "        self._age=age\n",
    "        self._add=add\n",
    "\n",
    "obj=Info(\"Ram\",23,\"Kathmandu\")\n",
    "print(obj._name)\n",
    "print(obj._age)\n",
    "print(obj._add)"
   ]
  },
  {
   "cell_type": "code",
   "execution_count": null,
   "id": "be06133f-bd95-490c-a8f8-a246b5ec99a8",
   "metadata": {},
   "outputs": [],
   "source": []
  },
  {
   "cell_type": "code",
   "execution_count": 7,
   "id": "c01d6e6a-a27b-4f69-baa4-f6c0bf6556f5",
   "metadata": {},
   "outputs": [
    {
     "ename": "AttributeError",
     "evalue": "'Info' object has no attribute 'name'",
     "output_type": "error",
     "traceback": [
      "\u001b[1;31m---------------------------------------------------------------------------\u001b[0m",
      "\u001b[1;31mAttributeError\u001b[0m                            Traceback (most recent call last)",
      "Cell \u001b[1;32mIn[7], line 9\u001b[0m\n\u001b[0;32m      6\u001b[0m         \u001b[38;5;28mself\u001b[39m\u001b[38;5;241m.\u001b[39m__add\u001b[38;5;241m=\u001b[39madd\n\u001b[0;32m      8\u001b[0m obj\u001b[38;5;241m=\u001b[39mInfo(\u001b[38;5;124m\"\u001b[39m\u001b[38;5;124mRam\u001b[39m\u001b[38;5;124m\"\u001b[39m,\u001b[38;5;241m23\u001b[39m,\u001b[38;5;124m\"\u001b[39m\u001b[38;5;124mKathmandu\u001b[39m\u001b[38;5;124m\"\u001b[39m)\n\u001b[1;32m----> 9\u001b[0m \u001b[38;5;28mprint\u001b[39m(obj\u001b[38;5;241m.\u001b[39mname)\n\u001b[0;32m     10\u001b[0m \u001b[38;5;28mprint\u001b[39m(obj\u001b[38;5;241m.\u001b[39mage)\n\u001b[0;32m     11\u001b[0m \u001b[38;5;28mprint\u001b[39m(obj\u001b[38;5;241m.\u001b[39madd)\n",
      "\u001b[1;31mAttributeError\u001b[0m: 'Info' object has no attribute 'name'"
     ]
    }
   ],
   "source": [
    "#Private members\n",
    "class Info:\n",
    "    def __init__(self,name,age,add):\n",
    "        self.__name=name                            #Private members are defined with double underscore \"__\" before names\n",
    "        self.__age=age\n",
    "        self.__add=add\n",
    "\n",
    "obj=Info(\"Ram\",23,\"Kathmandu\")\n",
    "print(obj.name)\n",
    "print(obj.age)\n",
    "print(obj.add)"
   ]
  },
  {
   "cell_type": "code",
   "execution_count": null,
   "id": "9f3ea38e-8890-41de-9827-f546954488aa",
   "metadata": {},
   "outputs": [],
   "source": []
  },
  {
   "cell_type": "code",
   "execution_count": 8,
   "id": "257876c5-2330-4c89-8d99-02215246bbee",
   "metadata": {},
   "outputs": [
    {
     "name": "stdout",
     "output_type": "stream",
     "text": [
      "Kathmandu\n",
      "hello world I am Ram, I am from Kathmandu. I am 34\n"
     ]
    }
   ],
   "source": []
  },
  {
   "cell_type": "code",
   "execution_count": null,
   "id": "3a1242ef-4aee-4c30-a77c-a4a079704d3b",
   "metadata": {},
   "outputs": [],
   "source": []
  },
  {
   "cell_type": "code",
   "execution_count": 11,
   "id": "f3f64172-2c01-4a52-b534-7aa20ed08ff1",
   "metadata": {},
   "outputs": [
    {
     "name": "stdout",
     "output_type": "stream",
     "text": [
      "Ram 34 Kathmandu\n",
      "hello world I am Ram. I am 34\n",
      "Ram\n"
     ]
    }
   ],
   "source": [
    "class Data:\n",
    "    def __init__(self,name,age,add):\n",
    "        self.name=name\n",
    "        self._age=age\n",
    "        self.__add=add\n",
    "    def data(self):\n",
    "        print(self.name,self._age,self.__add)\n",
    " \n",
    "class Info(Data):\n",
    "    def info(self):\n",
    "        a=f\"hello world I am {self.name}. I am {self._age}\"     #since add is private member , it cannot be called here ,so removed\n",
    "        print(a)\n",
    "\n",
    "obj=Info(\"Ram\",34,\"Kathmandu\")\n",
    "obj.data()\n",
    "obj.info()\n",
    "print(obj.name)"
   ]
  },
  {
   "cell_type": "code",
   "execution_count": null,
   "id": "6e78efea-5700-4fb0-9e7f-f557604a3d49",
   "metadata": {},
   "outputs": [],
   "source": []
  },
  {
   "cell_type": "code",
   "execution_count": 16,
   "id": "839de807-b014-4667-8a10-b98a5ce88c46",
   "metadata": {},
   "outputs": [
    {
     "name": "stdout",
     "output_type": "stream",
     "text": [
      "Ram 34 Kathmandu\n",
      "hello world I am Ram. I am 34\n",
      "Kathmandu\n",
      "Ram\n"
     ]
    }
   ],
   "source": [
    "class Data:\n",
    "    def __init__(self,name,age,add):\n",
    "        self.name=name\n",
    "        self._age=age\n",
    "        self.__add=add\n",
    "    def data(self):\n",
    "        print(self.name,self._age,self.__add)\n",
    "    def my_add(self):                       #define function for the private member \"add\"\n",
    "        return self.__add \n",
    "            \n",
    "        \n",
    " \n",
    "class Info(Data):\n",
    "    def info(self):\n",
    "        a=f\"hello world I am {self.name}. I am {self._age}\"\n",
    "        print(a)\n",
    "        print(Data.my_add(self))            #Since add is private member, we called it trrough funciton\n",
    "\n",
    "obj=Info(\"Ram\",34,\"Kathmandu\")\n",
    "obj.data()\n",
    "obj.info()\n",
    "print(obj.name)"
   ]
  },
  {
   "cell_type": "code",
   "execution_count": null,
   "id": "4c1d10e0-b318-4293-b08d-1e98e5c86b0b",
   "metadata": {},
   "outputs": [],
   "source": []
  },
  {
   "cell_type": "code",
   "execution_count": 18,
   "id": "3d39a8a4-2d2c-4742-ae93-26fa69014422",
   "metadata": {},
   "outputs": [
    {
     "name": "stdout",
     "output_type": "stream",
     "text": [
      "Ram 34 Kathmandu\n",
      "hello world I am Ram. I am from Kathmandu I am 34\n",
      "Kathmandu\n",
      "Ram\n"
     ]
    }
   ],
   "source": [
    "class Data:\n",
    "    def __init__(self,name,age,add):\n",
    "        self.name=name\n",
    "        self._age=age\n",
    "        self.__add=add\n",
    "    def data(self):\n",
    "        print(self.name,self._age,self.__add)\n",
    "    def my_add(self):                       #define function for the private member \"add\"\n",
    "        return self.__add \n",
    "            \n",
    "        \n",
    " \n",
    "class Info(Data):\n",
    "    def info(self):\n",
    "        a=f\"hello world I am {self.name}. I am from {Data.my_add(self)} I am {self._age}\"   # Callig the funciton directly in the statement.\n",
    "        print(a)\n",
    "        print(Data.my_add(self))            #Since add is private member, we called it trrough funciton\n",
    "\n",
    "obj=Info(\"Ram\",34,\"Kathmandu\")\n",
    "obj.data()\n",
    "obj.info()\n",
    "print(obj.name)"
   ]
  },
  {
   "cell_type": "code",
   "execution_count": null,
   "id": "48a4e96b-ecdf-499f-949b-01381208b912",
   "metadata": {},
   "outputs": [],
   "source": []
  },
  {
   "cell_type": "code",
   "execution_count": null,
   "id": "19e294bd-932f-4599-b269-72d01ccb5dd8",
   "metadata": {},
   "outputs": [],
   "source": [
    "#Polymerphysim"
   ]
  },
  {
   "cell_type": "code",
   "execution_count": 19,
   "id": "fa0e421d-2b3b-47f3-bdc5-c17ad546789b",
   "metadata": {},
   "outputs": [],
   "source": [
    "# class A:\n",
    "#     <method1>()\n",
    "#     <method2>()\n",
    "\n",
    "# class B:\n",
    "#     <method>()\n",
    "#     <method>()\n",
    "\n",
    "# <define function>   #object as an argumnet\n",
    "# obj1=A()\n",
    "# obj2=B()\n",
    "# funciton(obj1 or obj2)\n",
    "    \n",
    "    "
   ]
  },
  {
   "cell_type": "code",
   "execution_count": null,
   "id": "e6684d99-c011-47c5-a24f-9a6416c89a12",
   "metadata": {},
   "outputs": [],
   "source": []
  },
  {
   "cell_type": "code",
   "execution_count": 22,
   "id": "322d2d4b-b613-4569-b45f-a383e9fc71c7",
   "metadata": {},
   "outputs": [
    {
     "name": "stdout",
     "output_type": "stream",
     "text": [
      "parrot can fly\n",
      "Penguin cannot fly\n"
     ]
    }
   ],
   "source": [
    "class Parrot:\n",
    "    def fly(self):\n",
    "        print(\"parrot can fly\")\n",
    "\n",
    "    def swim(self):\n",
    "        print(\"parrot cannot swim\")\n",
    "\n",
    "class penguin:\n",
    "    def fly(self):\n",
    "        print(\"Penguin cannot fly\")\n",
    "\n",
    "    def swim(self):\n",
    "        print(\"Penguim can swim\")\n",
    "\n",
    "#common interface\n",
    "\n",
    "def flying_test(bird):\n",
    "    bird.fly()\n",
    "\n",
    "#instantiate objects\n",
    "\n",
    "blu=Parrot()\n",
    "peggy=penguin()\n",
    "\n",
    "#passing the object \n",
    "\n",
    "flying_test(blu)           #object as an argument\n",
    "flying_test(peggy)         #object as an argument \n",
    "    \n",
    "        \n",
    "        "
   ]
  },
  {
   "cell_type": "code",
   "execution_count": null,
   "id": "6d2ead7b-e136-4f91-b069-c17ced310ae2",
   "metadata": {},
   "outputs": [],
   "source": []
  },
  {
   "cell_type": "code",
   "execution_count": 24,
   "id": "d92ffcf8-0f6a-4d5b-8837-6a525b7bf2f9",
   "metadata": {},
   "outputs": [
    {
     "name": "stdout",
     "output_type": "stream",
     "text": [
      "parrot can fly\n",
      "parrot cannot swim\n",
      "Penguin cannot fly\n",
      "Penguim can swim\n"
     ]
    }
   ],
   "source": [
    "class Parrot:\n",
    "    def fly(self):\n",
    "        print(\"parrot can fly\")\n",
    "\n",
    "    def swim(self):\n",
    "        print(\"parrot cannot swim\")\n",
    "\n",
    "class penguin:\n",
    "    def fly(self):\n",
    "        print(\"Penguin cannot fly\")\n",
    "\n",
    "    def swim(self):\n",
    "        print(\"Penguim can swim\")\n",
    "\n",
    "#common interface\n",
    "\n",
    "def flying_test(bird):\n",
    "    bird.fly()\n",
    "    bird.swim()\n",
    "\n",
    "#instantiate objects\n",
    "\n",
    "blu=Parrot()\n",
    "peggy=penguin()\n",
    "\n",
    "#passing the object \n",
    "\n",
    "flying_test(blu)           #object as an argument\n",
    "flying_test(peggy)         #object as an argument \n",
    "    "
   ]
  },
  {
   "cell_type": "code",
   "execution_count": null,
   "id": "dad65011-a0c8-4b92-8b57-edef819d8796",
   "metadata": {},
   "outputs": [],
   "source": []
  },
  {
   "cell_type": "code",
   "execution_count": null,
   "id": "8f0a4cc2-1ebe-4fc1-91b1-8a940e30b654",
   "metadata": {},
   "outputs": [],
   "source": []
  },
  {
   "cell_type": "code",
   "execution_count": null,
   "id": "b8d72c3c-f6ab-40dd-aaef-4e3e02f59bd9",
   "metadata": {},
   "outputs": [],
   "source": []
  },
  {
   "cell_type": "code",
   "execution_count": null,
   "id": "73508409-28df-47af-b908-e61d22bef148",
   "metadata": {},
   "outputs": [],
   "source": []
  },
  {
   "cell_type": "code",
   "execution_count": null,
   "id": "bf8d2d44-fb21-43f8-beb2-ced42aea0744",
   "metadata": {},
   "outputs": [],
   "source": []
  },
  {
   "cell_type": "code",
   "execution_count": null,
   "id": "309b8342-fa24-4ed5-818c-e27eba95dc7a",
   "metadata": {},
   "outputs": [],
   "source": []
  },
  {
   "cell_type": "code",
   "execution_count": null,
   "id": "9ce42b0c-90cc-463b-928e-d64e5547d6a0",
   "metadata": {},
   "outputs": [],
   "source": []
  },
  {
   "cell_type": "code",
   "execution_count": null,
   "id": "967662fa-a314-4ced-9897-e039ed4e67c5",
   "metadata": {},
   "outputs": [],
   "source": []
  },
  {
   "cell_type": "code",
   "execution_count": null,
   "id": "6f5664b3-1ea4-495e-a21f-792a42f171d9",
   "metadata": {},
   "outputs": [],
   "source": []
  },
  {
   "cell_type": "code",
   "execution_count": null,
   "id": "fce58daf-9844-4733-9869-aa07a561119e",
   "metadata": {},
   "outputs": [],
   "source": []
  },
  {
   "cell_type": "code",
   "execution_count": null,
   "id": "df78e013-e38c-4424-9249-86a3c53a693f",
   "metadata": {},
   "outputs": [],
   "source": []
  },
  {
   "cell_type": "code",
   "execution_count": null,
   "id": "0317565e-5436-4688-80c7-b5e87dfb2268",
   "metadata": {},
   "outputs": [],
   "source": []
  },
  {
   "cell_type": "code",
   "execution_count": null,
   "id": "add9302b-fecc-4cec-b2b2-9db9d64fa4a8",
   "metadata": {},
   "outputs": [],
   "source": []
  },
  {
   "cell_type": "code",
   "execution_count": null,
   "id": "746c4c0a-13d7-4480-bd10-6d5683d81e20",
   "metadata": {},
   "outputs": [],
   "source": []
  },
  {
   "cell_type": "code",
   "execution_count": null,
   "id": "e8087025-9ed2-48c2-91c2-6d821025bd6e",
   "metadata": {},
   "outputs": [],
   "source": []
  },
  {
   "cell_type": "code",
   "execution_count": null,
   "id": "05c61b4e-aab2-487d-8a4d-d5e11056e1ed",
   "metadata": {},
   "outputs": [],
   "source": []
  },
  {
   "cell_type": "code",
   "execution_count": null,
   "id": "6b2d58a2-7681-4e29-ba6e-556c39dfe171",
   "metadata": {},
   "outputs": [],
   "source": []
  },
  {
   "cell_type": "code",
   "execution_count": null,
   "id": "4c7f3f75-2e1d-47f0-b7c2-42d9a2cc35d3",
   "metadata": {},
   "outputs": [],
   "source": []
  },
  {
   "cell_type": "code",
   "execution_count": null,
   "id": "50f27868-1d0b-44fd-8be0-1a75a5c782aa",
   "metadata": {},
   "outputs": [],
   "source": []
  },
  {
   "cell_type": "code",
   "execution_count": null,
   "id": "c65ffdb7-e4bf-4f8d-8bae-f6e2e6271770",
   "metadata": {},
   "outputs": [],
   "source": []
  },
  {
   "cell_type": "code",
   "execution_count": null,
   "id": "5ac304e7-a7ee-4eae-aeca-a27789e29bc0",
   "metadata": {},
   "outputs": [],
   "source": []
  },
  {
   "cell_type": "code",
   "execution_count": null,
   "id": "620311fb-8023-436d-8746-efffeb0f48c0",
   "metadata": {},
   "outputs": [],
   "source": []
  }
 ],
 "metadata": {
  "kernelspec": {
   "display_name": "Python 3 (ipykernel)",
   "language": "python",
   "name": "python3"
  },
  "language_info": {
   "codemirror_mode": {
    "name": "ipython",
    "version": 3
   },
   "file_extension": ".py",
   "mimetype": "text/x-python",
   "name": "python",
   "nbconvert_exporter": "python",
   "pygments_lexer": "ipython3",
   "version": "3.12.7"
  }
 },
 "nbformat": 4,
 "nbformat_minor": 5
}
