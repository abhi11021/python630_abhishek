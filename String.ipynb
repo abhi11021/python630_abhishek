{
 "cells": [
  {
   "cell_type": "code",
   "execution_count": 2,
   "id": "16ba920f-4ddf-422a-a930-aa22aee0e188",
   "metadata": {},
   "outputs": [
    {
     "name": "stdout",
     "output_type": "stream",
     "text": [
      "<class 'str'>\n",
      "<class 'str'>\n",
      "<class 'str'>\n"
     ]
    }
   ],
   "source": [
    "#String\n",
    "a='hello world'\n",
    "b=\"Hello world\"\n",
    "c='''Hello world'''\n",
    "print(type(a))\n",
    "print(type(b))\n",
    "print(type(c))"
   ]
  },
  {
   "cell_type": "code",
   "execution_count": null,
   "id": "c2a9b6f7-8d8d-4537-8d77-79d4d7b4aa24",
   "metadata": {},
   "outputs": [],
   "source": []
  },
  {
   "cell_type": "code",
   "execution_count": 4,
   "id": "f9042331-4b71-457c-bdd1-be5adacb851a",
   "metadata": {},
   "outputs": [
    {
     "name": "stdout",
     "output_type": "stream",
     "text": [
      "hello world\n"
     ]
    }
   ],
   "source": [
    "a=\"hello \"\n",
    "b=\"world\"\n",
    "c=a+b\n",
    "print(c)\n"
   ]
  },
  {
   "cell_type": "code",
   "execution_count": null,
   "id": "9b2ab2a9-eb24-42a1-b011-0bdef64a9f25",
   "metadata": {},
   "outputs": [],
   "source": []
  },
  {
   "cell_type": "code",
   "execution_count": 6,
   "id": "22e5ea96-8ce1-435b-8050-08ff0aad3c9e",
   "metadata": {},
   "outputs": [
    {
     "name": "stdout",
     "output_type": "stream",
     "text": [
      " hello world \n",
      " hello world \n",
      "\n"
     ]
    }
   ],
   "source": [
    "a=\" hello world \\n\"\n",
    "b=2\n",
    "c=a*b\n",
    "print(c)"
   ]
  },
  {
   "cell_type": "code",
   "execution_count": 7,
   "id": "cb3ae9ca-6f72-4066-a8ff-4f8c7744b3cf",
   "metadata": {},
   "outputs": [],
   "source": [
    "#String is unmutable\n"
   ]
  },
  {
   "cell_type": "code",
   "execution_count": 13,
   "id": "413785c3-46ca-4df7-803b-05783d09a247",
   "metadata": {},
   "outputs": [
    {
     "name": "stdout",
     "output_type": "stream",
     "text": [
      "H\n",
      "d\n"
     ]
    }
   ],
   "source": [
    "a=\"Hello world\"\n",
    "print(a[0])\n",
    "print(a[-1])  # -1 denotes last character\n",
    "\n"
   ]
  },
  {
   "cell_type": "code",
   "execution_count": 15,
   "id": "28a03f40-7dd6-447b-a743-938ce967af93",
   "metadata": {},
   "outputs": [
    {
     "name": "stdout",
     "output_type": "stream",
     "text": [
      "Hello\n",
      "world\n"
     ]
    }
   ],
   "source": [
    "#String slicing\n",
    "print(a[:5])    # 0 till 5th characted\n",
    "print(a[6:])    # 6th till last character"
   ]
  },
  {
   "cell_type": "code",
   "execution_count": 17,
   "id": "fd1b196d-6bfb-405b-a93a-6ad771a5dd6d",
   "metadata": {},
   "outputs": [
    {
     "name": "stdout",
     "output_type": "stream",
     "text": [
      "world\n"
     ]
    }
   ],
   "source": [
    "print(a[6:100])"
   ]
  },
  {
   "cell_type": "code",
   "execution_count": 19,
   "id": "0c5d5ca6-aae6-4a98-a15e-dc86713bc97b",
   "metadata": {},
   "outputs": [
    {
     "name": "stdout",
     "output_type": "stream",
     "text": [
      "Hlowrd\n"
     ]
    }
   ],
   "source": [
    "print(a[0:11:2])"
   ]
  },
  {
   "cell_type": "code",
   "execution_count": null,
   "id": "b91286f1-d657-48af-9e22-f8860dcd7af9",
   "metadata": {},
   "outputs": [],
   "source": []
  },
  {
   "cell_type": "code",
   "execution_count": 21,
   "id": "394b632c-4b94-448d-8fc6-35228a766df2",
   "metadata": {},
   "outputs": [
    {
     "name": "stdout",
     "output_type": "stream",
     "text": [
      "11\n"
     ]
    }
   ],
   "source": [
    "a=\"Hello world\"\n",
    "l=len(a)\n",
    "print(l)"
   ]
  },
  {
   "cell_type": "code",
   "execution_count": 22,
   "id": "288f7ff7-e428-40fd-ad64-ac6a08a641ee",
   "metadata": {},
   "outputs": [
    {
     "name": "stdout",
     "output_type": "stream",
     "text": [
      "dlrow olle\n"
     ]
    }
   ],
   "source": [
    "print(a[10:0:-1])"
   ]
  },
  {
   "cell_type": "code",
   "execution_count": 23,
   "id": "bed93960-006c-43c8-93b7-315aecec2974",
   "metadata": {},
   "outputs": [
    {
     "name": "stdout",
     "output_type": "stream",
     "text": [
      "dlrow olle\n"
     ]
    }
   ],
   "source": [
    "print(a[11:0:-1])  # Why h is not printed ??/"
   ]
  },
  {
   "cell_type": "code",
   "execution_count": 24,
   "id": "1e775c05-254f-47ef-9655-bac31a285912",
   "metadata": {},
   "outputs": [
    {
     "name": "stdout",
     "output_type": "stream",
     "text": [
      "dlrow oll\n"
     ]
    }
   ],
   "source": [
    "print(a[11:1:-1])  #  ???"
   ]
  },
  {
   "cell_type": "code",
   "execution_count": 27,
   "id": "d67a54d7-a446-4982-8621-4e7cfd3b2e5a",
   "metadata": {},
   "outputs": [
    {
     "name": "stdout",
     "output_type": "stream",
     "text": [
      "Hello world\n"
     ]
    }
   ],
   "source": [
    "print(a[0:11:1])"
   ]
  },
  {
   "cell_type": "code",
   "execution_count": null,
   "id": "b0ea3678-d702-42e9-bec4-9ee13f87d113",
   "metadata": {},
   "outputs": [],
   "source": []
  },
  {
   "cell_type": "code",
   "execution_count": 26,
   "id": "63298652-bef7-4eee-88b2-d7a50d5cd099",
   "metadata": {},
   "outputs": [
    {
     "name": "stdout",
     "output_type": "stream",
     "text": [
      "dlrow olleH\n"
     ]
    }
   ],
   "source": [
    "print(a[::-1])"
   ]
  },
  {
   "cell_type": "code",
   "execution_count": null,
   "id": "ea8ad60e-a456-43d3-a5a1-48f7151c5ec7",
   "metadata": {},
   "outputs": [],
   "source": []
  },
  {
   "cell_type": "code",
   "execution_count": 28,
   "id": "b623d759-4714-45c3-8888-1be897d08f75",
   "metadata": {},
   "outputs": [
    {
     "name": "stdout",
     "output_type": "stream",
     "text": [
      "H\n",
      "e\n",
      "l\n",
      "l\n",
      "o\n",
      " \n",
      "w\n",
      "o\n",
      "r\n",
      "l\n",
      "d\n"
     ]
    }
   ],
   "source": [
    "for i in a:\n",
    "    print(i)"
   ]
  },
  {
   "cell_type": "code",
   "execution_count": 33,
   "id": "dc16a734-9d4b-470d-95f2-181da9a36d4f",
   "metadata": {},
   "outputs": [
    {
     "name": "stdout",
     "output_type": "stream",
     "text": [
      "H e l l o   W o r l d . I   a m   P y t h o n "
     ]
    }
   ],
   "source": [
    "a=\"Hello World.I am Python\"\n",
    "l=len(a)\n",
    "for i in range(l):\n",
    "    print(a[i],end=\" \")"
   ]
  },
  {
   "cell_type": "code",
   "execution_count": null,
   "id": "b777f8a6-99a3-4c6f-ba7d-729cc1d7d76e",
   "metadata": {},
   "outputs": [],
   "source": []
  },
  {
   "cell_type": "code",
   "execution_count": 3,
   "id": "0b297a0d-d7ed-4c30-ae45-4f4579666a34",
   "metadata": {},
   "outputs": [
    {
     "name": "stdout",
     "output_type": "stream",
     "text": [
      "11\n",
      "24\n"
     ]
    }
   ],
   "source": [
    "a=\"Hello World. I am Python.\"\n",
    "l=len(a)\n",
    "for i in range(l):\n",
    "    if a[i]==\".\":\n",
    "        print(i)"
   ]
  },
  {
   "cell_type": "code",
   "execution_count": null,
   "id": "9d44ba7c-7c47-465f-be72-be177fce595b",
   "metadata": {},
   "outputs": [],
   "source": []
  },
  {
   "cell_type": "code",
   "execution_count": 40,
   "id": "f8466c43-0ca1-4309-bad1-03d76e11c394",
   "metadata": {},
   "outputs": [
    {
     "name": "stdout",
     "output_type": "stream",
     "text": [
      "25\n",
      "Hello world. I am Python."
     ]
    }
   ],
   "source": [
    "i=0\n",
    "a=\"Hello world. I am Python.\"\n",
    "l=len(a)\n",
    "print(l)\n",
    "while i<l:\n",
    "    print(a[i],end=\"\")\n",
    "    i=i+1\n",
    "    "
   ]
  },
  {
   "cell_type": "code",
   "execution_count": null,
   "id": "429eb4f3-acaa-4e61-a400-7d64a6eb5283",
   "metadata": {},
   "outputs": [],
   "source": []
  },
  {
   "cell_type": "code",
   "execution_count": 42,
   "id": "07e76a73-3853-4496-bc17-cf780c123b9c",
   "metadata": {},
   "outputs": [
    {
     "name": "stdout",
     "output_type": "stream",
     "text": [
      "24\n",
      "11\n"
     ]
    }
   ],
   "source": [
    "i=0\n",
    "a=\"Hello world. I am Pyhton\"\n",
    "l=len(a)\n",
    "print(l)\n",
    "while i<l:\n",
    "    if a[i]==\".\":\n",
    "        print(i)\n",
    "    i=i+1\n",
    "    "
   ]
  },
  {
   "cell_type": "code",
   "execution_count": null,
   "id": "74cad951-32f6-48cf-abed-4414187dead5",
   "metadata": {},
   "outputs": [],
   "source": []
  },
  {
   "cell_type": "code",
   "execution_count": 5,
   "id": "bc09c698-c2ff-4aab-91dc-b5bd220c0925",
   "metadata": {},
   "outputs": [
    {
     "name": "stdout",
     "output_type": "stream",
     "text": [
      "My name is Rammy age is 30 my address is Kathmandu\n"
     ]
    }
   ],
   "source": [
    "name=\"Ram\"\n",
    "age=30\n",
    "add=\"Kathmandu\"\n",
    "info=\"My name is \"+name+\"my age is \"+str(age)+\" my address is \"+add\n",
    "print(info)\n"
   ]
  },
  {
   "cell_type": "code",
   "execution_count": null,
   "id": "6413095e-9771-457b-ab30-c2d230994f0f",
   "metadata": {},
   "outputs": [],
   "source": []
  },
  {
   "cell_type": "code",
   "execution_count": 6,
   "id": "94715c70-a38f-4993-b845-63df8894f0b9",
   "metadata": {},
   "outputs": [
    {
     "name": "stdout",
     "output_type": "stream",
     "text": [
      "My name is  Ram my age is Kathmandu my address is 30\n"
     ]
    }
   ],
   "source": [
    "# string formatting\n",
    "info = f\"My name is  {name} my age is {add} my address is {age}\"\n",
    "print(info)\n",
    "\n"
   ]
  },
  {
   "cell_type": "code",
   "execution_count": null,
   "id": "ba3449c7-9986-4f2f-9b26-b8b8b776cb41",
   "metadata": {},
   "outputs": [],
   "source": []
  },
  {
   "cell_type": "code",
   "execution_count": null,
   "id": "dfcd75e8-72ef-41b9-b6a3-60045de6a489",
   "metadata": {},
   "outputs": [],
   "source": []
  },
  {
   "cell_type": "code",
   "execution_count": 62,
   "id": "7dd1daaf-6f4f-4928-82e0-dcb0f1616632",
   "metadata": {},
   "outputs": [
    {
     "name": "stdin",
     "output_type": "stream",
     "text": [
      "enter number of product =  2\n",
      "enter product name =  Apple\n",
      "enter price of the product =  200\n",
      "enter quantity of the product=  2\n",
      "enter product name =  Banana\n",
      "enter price of the product =  150\n",
      "enter quantity of the product=  3\n"
     ]
    },
    {
     "name": "stdout",
     "output_type": "stream",
     "text": [
      "your bill is\n",
      "  Apple 200 2.0 400.0 \n",
      "Banana 150 3.0 450.0 \n",
      "\n",
      "your total is \n",
      " 850.0\n"
     ]
    }
   ],
   "source": [
    "#Bill System\n",
    "bill= \" \"\n",
    "s=0\n",
    "n=int(input(\"enter number of product = \"))\n",
    "for i in range(n):\n",
    "    product=input(\"enter product name = \")\n",
    "    price=int(input (\"enter price of the product = \"))       # why integer??\n",
    "    qty= float(input(\"enter quantity of the product= \"))     # Why float ??\n",
    "    total=price*qty\n",
    "    row=f\"{product} {price} {qty} {total} \\n\"\n",
    "    bill=bill+row\n",
    "    s=s+total\n",
    "print (\"your bill is\\n\",bill)\n",
    "print(\"your total is \\n\",s)\n",
    "                \n",
    "\n",
    "     \n",
    "      "
   ]
  },
  {
   "cell_type": "code",
   "execution_count": null,
   "id": "49673bf0-29ec-46d9-8780-0a0898f5848c",
   "metadata": {},
   "outputs": [],
   "source": []
  },
  {
   "cell_type": "code",
   "execution_count": 3,
   "id": "5c369c57-1478-41cb-8656-10fa4f70b77e",
   "metadata": {},
   "outputs": [
    {
     "name": "stdin",
     "output_type": "stream",
     "text": [
      "Enter Name =  Ram\n"
     ]
    },
    {
     "name": "stdout",
     "output_type": "stream",
     "text": [
      "yes there is  Ram\n"
     ]
    }
   ],
   "source": [
    "#Search name in the last\n",
    "data = \"Ram Shyam Hari Nabin Sabin Sita\"\n",
    "name=input (\"Enter Name = \")\n",
    "if name in data:\n",
    "    print(\"yes there is \", name)\n",
    "else:\n",
    "    print(\"There is no such name\")\n"
   ]
  },
  {
   "cell_type": "code",
   "execution_count": null,
   "id": "ad528aff-664d-40f6-adab-6a934a7d2cfb",
   "metadata": {},
   "outputs": [],
   "source": []
  },
  {
   "cell_type": "code",
   "execution_count": 10,
   "id": "6b899a71-1b82-4c80-bf27-0c4d7b882496",
   "metadata": {},
   "outputs": [
    {
     "name": "stdin",
     "output_type": "stream",
     "text": [
      "Enter Name =  ita\n"
     ]
    },
    {
     "name": "stdout",
     "output_type": "stream",
     "text": [
      "yes there is  ita\n",
      "1\n"
     ]
    }
   ],
   "source": [
    "#Search name and count in list ( It works for charcter or sequence of character)\n",
    "data = \"Ram Shyam Hari Nabin Sabin Rita\"\n",
    "name=input (\"Enter Name = \")\n",
    "if name in data:\n",
    "    print(\"yes there is \", name)\n",
    "    print (data.count(name))             #syntax\n",
    "else:\n",
    "    print(\"There is no such name\") "
   ]
  },
  {
   "cell_type": "code",
   "execution_count": null,
   "id": "1736bfb2-4373-40ec-8ef6-7ea85c65f13a",
   "metadata": {},
   "outputs": [],
   "source": []
  },
  {
   "cell_type": "code",
   "execution_count": null,
   "id": "8bd15bdc-6459-4ee2-90ce-ced0b2cced00",
   "metadata": {},
   "outputs": [],
   "source": []
  },
  {
   "cell_type": "code",
   "execution_count": 9,
   "id": "9361be79-4026-452e-921e-2bbf535c441e",
   "metadata": {},
   "outputs": [
    {
     "name": "stdout",
     "output_type": "stream",
     "text": [
      "RAM SHYAM HARI NABIN SABIN RITA\n",
      "ram shyam hari nabin sabin rita\n"
     ]
    }
   ],
   "source": [
    "data = \"Ram Shyam Hari Nabin Sabin Rita\"\n",
    "print(data.upper())        #syntax  #syntax (variable.FUNCTION() )\n",
    "print(data.lower())"
   ]
  },
  {
   "cell_type": "code",
   "execution_count": null,
   "id": "7ba44382-ffd1-4830-8ce6-f20ca969e46a",
   "metadata": {},
   "outputs": [],
   "source": []
  },
  {
   "cell_type": "code",
   "execution_count": 14,
   "id": "91a86d56-204b-4895-87ac-6ad8a8f1b595",
   "metadata": {},
   "outputs": [
    {
     "name": "stdin",
     "output_type": "stream",
     "text": [
      "Enter Name =  rAm\n"
     ]
    },
    {
     "name": "stdout",
     "output_type": "stream",
     "text": [
      "yes there is  ram\n",
      "1\n"
     ]
    }
   ],
   "source": [
    "#Search \"AVOIDING CASE SENSITIVITY by converting it into all LOWER CASE\n",
    "data = \"Ram Shyam Hari Nabin Sabin Rita\".lower()\n",
    "name=input (\"Enter Name = \").lower()    #  #syntax (variable.FUNCTION() )\n",
    "if name in data:                         # if syntax \n",
    "    print(\"yes there is \", name)\n",
    "    print (data.count(name))             #syntax (variable.FUNCTION() )\n",
    "else:\n",
    "    print(\"There is no such name\") "
   ]
  },
  {
   "cell_type": "code",
   "execution_count": null,
   "id": "b40d75ea-5870-4198-ad32-a6c207f99edd",
   "metadata": {},
   "outputs": [],
   "source": []
  },
  {
   "cell_type": "code",
   "execution_count": 21,
   "id": "5d3c2180-a160-49bb-b061-6cf7cd9d5e9d",
   "metadata": {},
   "outputs": [],
   "source": [
    "#Replace()\n",
    "data=\"Ram Shyam Hari Nabin Sabin Rita\"\n",
    "data=data.replace(\"hari\",\"Harry\")       #syntax (variable.FUNCTION() )\n"
   ]
  },
  {
   "cell_type": "code",
   "execution_count": 22,
   "id": "016f02e0-609a-4387-bf69-6d804b74815d",
   "metadata": {},
   "outputs": [
    {
     "name": "stdout",
     "output_type": "stream",
     "text": [
      "Ram Shyam Hari Nabin Sabin Rita\n"
     ]
    }
   ],
   "source": [
    "print(data)"
   ]
  },
  {
   "cell_type": "code",
   "execution_count": 24,
   "id": "2b5e4c82-d1b5-43d7-a6d1-66154194e990",
   "metadata": {},
   "outputs": [
    {
     "name": "stdout",
     "output_type": "stream",
     "text": [
      "Ram Shyam Hari Nabin Sabin Rita\n"
     ]
    }
   ],
   "source": [
    "#Title ( Makes first character after Space Uppercase\n",
    "a=\"Ram Shyam Hari Nabin Sabin Rita\"\n",
    "print(a.title())                         #variable.FUNCTION()"
   ]
  },
  {
   "cell_type": "code",
   "execution_count": null,
   "id": "821b1c12-2d13-44d1-89d1-353e713dc9ca",
   "metadata": {},
   "outputs": [],
   "source": []
  },
  {
   "cell_type": "code",
   "execution_count": 29,
   "id": "b7bf68ba-5049-46d4-b133-5f28a906dcde",
   "metadata": {},
   "outputs": [
    {
     "name": "stdin",
     "output_type": "stream",
     "text": [
      "Enter Name =  ram\n"
     ]
    },
    {
     "name": "stdout",
     "output_type": "stream",
     "text": [
      "yes there is  ram\n",
      "2\n",
      " Shyam Hari Nabin Sabin Rita Esh\n"
     ]
    }
   ],
   "source": [
    "#Search and Replace\n",
    "data = \"Ram Shyam Hari Nabin Sabin Rita Ramesh\".lower()\n",
    "name=input (\"Enter Name = \").lower()    \n",
    "if name in data:                         \n",
    "    print(\"yes there is \", name)\n",
    "    print (data.count(name))  \n",
    "    data=data.replace(name,\"\")\n",
    "    print(data.title())\n",
    "else:\n",
    "    print(\"There is no such name\") "
   ]
  },
  {
   "cell_type": "code",
   "execution_count": null,
   "id": "152a5129-e0ea-430b-b412-af66a4e7635b",
   "metadata": {},
   "outputs": [],
   "source": []
  },
  {
   "cell_type": "code",
   "execution_count": null,
   "id": "91298dcf-83b3-420d-82c5-2bc4b410c11f",
   "metadata": {},
   "outputs": [],
   "source": [
    "#Practice"
   ]
  },
  {
   "cell_type": "code",
   "execution_count": 32,
   "id": "9c6d0958-b62d-4fa1-ba1e-89c49dbb2cf1",
   "metadata": {},
   "outputs": [
    {
     "name": "stdout",
     "output_type": "stream",
     "text": [
      " Shyam Hari Nabin Sabin Rita Ramesh Ram\n"
     ]
    }
   ],
   "source": [
    "data = \"Ram Shyam Hari Nabin Sabin Rita Ramesh Ram\"\n",
    "data=data[3:]\n",
    "print(data)"
   ]
  },
  {
   "cell_type": "code",
   "execution_count": 8,
   "id": "f648f808-3868-4aab-ad7c-f84c5ec33db5",
   "metadata": {},
   "outputs": [
    {
     "name": "stdout",
     "output_type": "stream",
     "text": [
      " Shyam Hari Nabin Sabin Rita Ramesh \n"
     ]
    }
   ],
   "source": [
    "data = \"Ram Shyam Hari Nabin Sabin Rita Ramesh Ram\"\n",
    "data=data[3:]\n",
    "data=data[0:-3]\n",
    "print(data)"
   ]
  },
  {
   "cell_type": "code",
   "execution_count": null,
   "id": "b63cd7dc-7c78-49a5-b535-c6bd90b4116e",
   "metadata": {},
   "outputs": [],
   "source": []
  },
  {
   "cell_type": "code",
   "execution_count": null,
   "id": "928b9721-fa57-41e5-ad66-65ef0c48e46e",
   "metadata": {},
   "outputs": [],
   "source": []
  },
  {
   "cell_type": "code",
   "execution_count": null,
   "id": "a315e146-0324-4e43-9258-e78e7c5200ee",
   "metadata": {},
   "outputs": [],
   "source": []
  },
  {
   "cell_type": "code",
   "execution_count": null,
   "id": "285b9761-391e-4f6c-8b51-8368f52cb1d5",
   "metadata": {},
   "outputs": [],
   "source": [
    "#WAP to enter marks of student and calculate total percentage and grade and create a data entry applicaiton"
   ]
  },
  {
   "cell_type": "code",
   "execution_count": null,
   "id": "b570bc1f-ccf3-414b-9116-aa4677e479b7",
   "metadata": {},
   "outputs": [],
   "source": []
  },
  {
   "cell_type": "code",
   "execution_count": 65,
   "id": "2daf3dfd-c1e4-48bd-b392-09416f686758",
   "metadata": {},
   "outputs": [
    {
     "name": "stdin",
     "output_type": "stream",
     "text": [
      "enter number of student =  2\n",
      "name of the student R\n",
      "Physic mark =  20\n",
      "chemistry =  100\n",
      "Math =  100\n",
      "Biology =  100\n",
      "English =  100\n",
      "name of the student Sh\n",
      "Physic mark =  20\n",
      "chemistry =  100\n",
      "Math =  100\n",
      "Biology =  100\n",
      "English =  100\n"
     ]
    },
    {
     "name": "stdout",
     "output_type": "stream",
     "text": [
      " R 20 100 100 100 100 420 84.0 F\n",
      "Sh 20 100 100 100 100 420 84.0 F\n",
      "\n"
     ]
    }
   ],
   "source": [
    "Result= \" \"\n",
    "n=int(input(\"enter number of student = \"))\n",
    "for i in range(n):\n",
    "    Name=input(\"name of the student\")\n",
    "    P=int(input(\"Physic mark = \"))\n",
    "    C=int(input (\"chemistry = \"))\n",
    "    M=int(input(\"Math = \"))\n",
    "    B=int(input(\"Biology = \"))\n",
    "    E=int(input(\"English = \"))\n",
    "    Total=P+C+M+B+E\n",
    "    per=Total/500*100\n",
    "    if (P >=45 and C>=45 and M >=45 and B>=45 and E >=45 ):\n",
    "        if R>80:\n",
    "            print (\"You have achieved distinction\")\n",
    "        elif (R<=80 and R>70):\n",
    "            grade=\"A\"\n",
    "        elif (R <= 70 and R > 60):\n",
    "            grade=\"B\"\n",
    "        elif (R <= 60 and R > 40):\n",
    "            grade=\"C\"\n",
    "    else:\n",
    "        grade=\"F\"\n",
    "    data=f\"{Name} {P} {C} {M} {B} {E} {Total} {per} {grade}\\n\"\n",
    "    Result =Result+data\n",
    "print (Result)\n",
    "\n",
    "        \n",
    "    \n",
    "           \n",
    "\n",
    "               \n",
    "               \n",
    "               \n"
   ]
  },
  {
   "cell_type": "code",
   "execution_count": null,
   "id": "ca11b1b5-e73c-4b7c-b11b-8adaa60bc6ae",
   "metadata": {},
   "outputs": [],
   "source": []
  },
  {
   "cell_type": "code",
   "execution_count": null,
   "id": "a16a485b-8490-442d-839d-936f82fa8854",
   "metadata": {},
   "outputs": [],
   "source": [
    "## Prctice "
   ]
  },
  {
   "cell_type": "code",
   "execution_count": null,
   "id": "37c481a5-8a4a-494a-a538-3070852a3398",
   "metadata": {},
   "outputs": [],
   "source": [
    "# #WAP to write \"Hello World\" in the following patters\n",
    "#     H\n",
    "#     He\n",
    "#     Hel\n",
    "#     Hello\n",
    "#     Hello W\n",
    "#     ..\n",
    "#     ...\n",
    "#     Hello World\n",
    "    \n",
    "#     Tips: Use for loop \n",
    "\n",
    "# WAP to remove \".\" and \"!\" both from \"Hello World. I amd Python! \"\n"
   ]
  },
  {
   "cell_type": "code",
   "execution_count": null,
   "id": "8fd75f9b-2075-4c1b-abcb-f0d3b3245dbf",
   "metadata": {},
   "outputs": [],
   "source": [
    "# #WAP to write \"Hello World\" in the following patters\n",
    "#     H\n",
    "#     He\n",
    "#     Hel\n",
    "#     Hello\n",
    "#     Hello W\n",
    "#     ..\n",
    "#     ...\n",
    "#     Hello World\n",
    "    \n",
    "#     Tips: Use for loop "
   ]
  },
  {
   "cell_type": "code",
   "execution_count": 11,
   "id": "ed6432cf-3b58-4dc8-9937-3b07e50b8380",
   "metadata": {},
   "outputs": [
    {
     "name": "stdout",
     "output_type": "stream",
     "text": [
      " H\n",
      " He\n",
      " Hel\n",
      " Hell\n",
      " Hello\n",
      " Hello \n",
      " Hello W\n",
      " Hello Wo\n",
      " Hello Wor\n",
      " Hello Worl\n",
      " Hello World\n"
     ]
    }
   ],
   "source": [
    "s=\" \"\n",
    "a=\"Hello World\"\n",
    "l=len(a)\n",
    "for i in range(l):\n",
    "    data=a[i]\n",
    "    s=s+data\n",
    "    print(s)\n",
    "    \n",
    "  \n",
    "       \n",
    "    "
   ]
  },
  {
   "cell_type": "code",
   "execution_count": null,
   "id": "b7d2156c-74c1-4a56-b538-e7d554855d11",
   "metadata": {},
   "outputs": [],
   "source": []
  },
  {
   "cell_type": "code",
   "execution_count": null,
   "id": "f9acc6cb-8027-4021-a8f6-d53d27992ac7",
   "metadata": {},
   "outputs": [],
   "source": [
    "# WAP to remove \".\" and \"!\" both from \"Hello World. I amd Python! \""
   ]
  },
  {
   "cell_type": "code",
   "execution_count": null,
   "id": "47ba8de2-da0e-4227-8ae8-af38b063d71e",
   "metadata": {},
   "outputs": [],
   "source": []
  },
  {
   "cell_type": "code",
   "execution_count": 18,
   "id": "582a7d25-4e51-47e6-99d2-38ee5ddb653a",
   "metadata": {},
   "outputs": [
    {
     "name": "stdout",
     "output_type": "stream",
     "text": [
      "hello world I am Python "
     ]
    }
   ],
   "source": [
    "a= \"hello world. I am Python !\"\n",
    "for i in a:\n",
    "    if  (i != \".\" and i !=\"!\"):\n",
    "         print(i,end = \"\")\n",
    "    else:\n",
    "        continue"
   ]
  },
  {
   "cell_type": "code",
   "execution_count": 1,
   "id": "4f4136da-ba80-4cbd-b567-50adea54e84c",
   "metadata": {},
   "outputs": [],
   "source": [
    "\n"
   ]
  },
  {
   "cell_type": "code",
   "execution_count": null,
   "id": "336d3cca-8090-4a13-9994-068971f3de28",
   "metadata": {},
   "outputs": [],
   "source": []
  },
  {
   "cell_type": "code",
   "execution_count": null,
   "id": "5caf0251-0a4c-4164-a4f6-feac149d8db0",
   "metadata": {},
   "outputs": [],
   "source": []
  },
  {
   "cell_type": "code",
   "execution_count": null,
   "id": "4fbdff34-a474-4dcc-894f-b722fd56407f",
   "metadata": {},
   "outputs": [],
   "source": []
  },
  {
   "cell_type": "code",
   "execution_count": null,
   "id": "23c55f71-3c86-41b9-9560-35027b2279d1",
   "metadata": {},
   "outputs": [],
   "source": []
  },
  {
   "cell_type": "code",
   "execution_count": null,
   "id": "812e380c-8afe-413c-81a3-90bdabcf9714",
   "metadata": {},
   "outputs": [],
   "source": []
  },
  {
   "cell_type": "code",
   "execution_count": null,
   "id": "f9b42b9f-7c5c-476c-bbd5-563184b16d4e",
   "metadata": {},
   "outputs": [],
   "source": []
  },
  {
   "cell_type": "code",
   "execution_count": null,
   "id": "ac791cbe-6581-44b3-a0a6-1853fb8aa7ec",
   "metadata": {},
   "outputs": [],
   "source": []
  },
  {
   "cell_type": "code",
   "execution_count": null,
   "id": "554b2608-d994-4ca1-b9ef-dcca240db3e5",
   "metadata": {},
   "outputs": [],
   "source": []
  },
  {
   "cell_type": "code",
   "execution_count": null,
   "id": "991f89f6-d5c3-4666-bfaf-51f0eff46045",
   "metadata": {},
   "outputs": [],
   "source": []
  },
  {
   "cell_type": "code",
   "execution_count": null,
   "id": "5a2bd5f0-d4ba-42a9-9945-a3bd44a34182",
   "metadata": {},
   "outputs": [],
   "source": []
  },
  {
   "cell_type": "code",
   "execution_count": null,
   "id": "39acb4eb-a3e1-4205-9565-863eb4a0e65a",
   "metadata": {},
   "outputs": [],
   "source": []
  },
  {
   "cell_type": "code",
   "execution_count": null,
   "id": "d9ae5a95-4073-4c8d-9477-c0c287c7374a",
   "metadata": {},
   "outputs": [],
   "source": []
  },
  {
   "cell_type": "code",
   "execution_count": null,
   "id": "2c75c8f2-e3e8-48d3-a1e3-3c9ebbf191aa",
   "metadata": {},
   "outputs": [],
   "source": []
  },
  {
   "cell_type": "code",
   "execution_count": null,
   "id": "46b691e5-bf28-4674-8f8b-6686b7abf356",
   "metadata": {},
   "outputs": [],
   "source": []
  },
  {
   "cell_type": "code",
   "execution_count": null,
   "id": "effc6336-ca70-4add-8031-71677279e415",
   "metadata": {},
   "outputs": [],
   "source": []
  },
  {
   "cell_type": "code",
   "execution_count": null,
   "id": "f0e45d99-b96d-4f02-ac77-0c1e41a0fb2a",
   "metadata": {},
   "outputs": [],
   "source": []
  },
  {
   "cell_type": "code",
   "execution_count": null,
   "id": "d00420a4-5e37-46b4-91c8-648ed398837e",
   "metadata": {},
   "outputs": [],
   "source": []
  },
  {
   "cell_type": "code",
   "execution_count": null,
   "id": "157a0d1b-1d46-4b3e-981d-0eebf6f70271",
   "metadata": {},
   "outputs": [],
   "source": []
  },
  {
   "cell_type": "code",
   "execution_count": null,
   "id": "f954f5fa-f018-4f55-9b43-e5480b0cce44",
   "metadata": {},
   "outputs": [],
   "source": []
  },
  {
   "cell_type": "code",
   "execution_count": null,
   "id": "c780dbeb-43a4-4b01-a2dd-9f43bc69053b",
   "metadata": {},
   "outputs": [],
   "source": []
  },
  {
   "cell_type": "code",
   "execution_count": null,
   "id": "f22e3c17-8e30-4bde-bbcb-0479fbe3dc2e",
   "metadata": {},
   "outputs": [],
   "source": []
  },
  {
   "cell_type": "code",
   "execution_count": null,
   "id": "c9f6d06c-d4ad-4a0f-97b8-14d5a922ac69",
   "metadata": {},
   "outputs": [],
   "source": []
  },
  {
   "cell_type": "code",
   "execution_count": null,
   "id": "62c14c24-f8a4-4519-a483-1ac4730fd7b9",
   "metadata": {},
   "outputs": [],
   "source": []
  },
  {
   "cell_type": "code",
   "execution_count": null,
   "id": "b06bf8a7-cf1c-4cdf-bc6b-60a83e1764a4",
   "metadata": {},
   "outputs": [],
   "source": []
  },
  {
   "cell_type": "code",
   "execution_count": null,
   "id": "51c89270-a03b-4686-850b-e6f77426c693",
   "metadata": {},
   "outputs": [],
   "source": []
  },
  {
   "cell_type": "code",
   "execution_count": null,
   "id": "8508be42-44bc-4be4-9a97-b36917b3977f",
   "metadata": {},
   "outputs": [],
   "source": []
  },
  {
   "cell_type": "code",
   "execution_count": null,
   "id": "4559cd7c-97e0-4ecf-8d59-df6882a11079",
   "metadata": {},
   "outputs": [],
   "source": []
  },
  {
   "cell_type": "code",
   "execution_count": null,
   "id": "f2caf945-d1cb-4ade-897c-a198f5697d1a",
   "metadata": {},
   "outputs": [],
   "source": []
  },
  {
   "cell_type": "code",
   "execution_count": null,
   "id": "0e7de073-837e-4df6-b40b-d156b4785cdb",
   "metadata": {},
   "outputs": [],
   "source": []
  },
  {
   "cell_type": "code",
   "execution_count": null,
   "id": "42235e1f-238a-4b99-b950-9c824aec0a57",
   "metadata": {},
   "outputs": [],
   "source": []
  },
  {
   "cell_type": "code",
   "execution_count": null,
   "id": "f4f79334-b350-46b5-81b1-8ec11ba8749c",
   "metadata": {},
   "outputs": [],
   "source": []
  },
  {
   "cell_type": "code",
   "execution_count": null,
   "id": "dc0577ff-54f8-4f94-a46f-5cafaea17b7a",
   "metadata": {},
   "outputs": [],
   "source": []
  },
  {
   "cell_type": "code",
   "execution_count": null,
   "id": "40d6b3db-72d1-458d-9782-88d64bc30852",
   "metadata": {},
   "outputs": [],
   "source": []
  },
  {
   "cell_type": "code",
   "execution_count": null,
   "id": "900fe90b-f157-42be-b73d-34def8c9ddd4",
   "metadata": {},
   "outputs": [],
   "source": []
  },
  {
   "cell_type": "code",
   "execution_count": null,
   "id": "2b02d3fa-9cad-4747-bc7c-ce0d19df54da",
   "metadata": {},
   "outputs": [],
   "source": []
  },
  {
   "cell_type": "code",
   "execution_count": null,
   "id": "43247313-cbaa-45aa-ae12-f8539bccaacd",
   "metadata": {},
   "outputs": [],
   "source": []
  },
  {
   "cell_type": "code",
   "execution_count": null,
   "id": "03d0e9c2-63d2-4f41-a612-0e5aa40c7d3c",
   "metadata": {},
   "outputs": [],
   "source": []
  },
  {
   "cell_type": "code",
   "execution_count": null,
   "id": "d5bdfc98-b59b-4df7-92db-8955c0d984f1",
   "metadata": {},
   "outputs": [],
   "source": []
  },
  {
   "cell_type": "code",
   "execution_count": null,
   "id": "fcf508b0-515c-433f-a215-e2d15243dc81",
   "metadata": {},
   "outputs": [],
   "source": []
  },
  {
   "cell_type": "code",
   "execution_count": null,
   "id": "83cacbf0-70df-44bc-8ff2-90a04c1e1236",
   "metadata": {},
   "outputs": [],
   "source": []
  },
  {
   "cell_type": "code",
   "execution_count": null,
   "id": "cc777431-37fb-448b-b64d-8853bbc9aad5",
   "metadata": {},
   "outputs": [],
   "source": []
  },
  {
   "cell_type": "code",
   "execution_count": null,
   "id": "26e79344-72fa-44b1-81ff-50b3bf7e0211",
   "metadata": {},
   "outputs": [],
   "source": []
  },
  {
   "cell_type": "code",
   "execution_count": null,
   "id": "a7982fed-aa5a-4913-b088-0ba991193f9a",
   "metadata": {},
   "outputs": [],
   "source": []
  },
  {
   "cell_type": "code",
   "execution_count": null,
   "id": "787e9485-a3f8-46f7-9457-2548f3291e1b",
   "metadata": {},
   "outputs": [],
   "source": []
  },
  {
   "cell_type": "code",
   "execution_count": null,
   "id": "f0bda772-3a40-4650-9181-f72c9f9cfb3d",
   "metadata": {},
   "outputs": [],
   "source": []
  },
  {
   "cell_type": "code",
   "execution_count": null,
   "id": "b3427cfa-4f24-42ae-afec-64875be72dae",
   "metadata": {},
   "outputs": [],
   "source": []
  },
  {
   "cell_type": "code",
   "execution_count": null,
   "id": "8d7506ea-2458-4f5c-82a1-1f989348ceb7",
   "metadata": {},
   "outputs": [],
   "source": []
  },
  {
   "cell_type": "code",
   "execution_count": null,
   "id": "69fce462-551a-4cf7-9047-53a53590c6f4",
   "metadata": {},
   "outputs": [],
   "source": []
  },
  {
   "cell_type": "code",
   "execution_count": null,
   "id": "d26de48f-d0aa-4dd1-a659-aa3998c976b0",
   "metadata": {},
   "outputs": [],
   "source": []
  },
  {
   "cell_type": "code",
   "execution_count": null,
   "id": "7011af43-2e5e-4b44-aee3-90e6a6914ba5",
   "metadata": {},
   "outputs": [],
   "source": []
  },
  {
   "cell_type": "code",
   "execution_count": null,
   "id": "82fea827-79cf-4467-9443-15fbffd79141",
   "metadata": {},
   "outputs": [],
   "source": []
  },
  {
   "cell_type": "code",
   "execution_count": null,
   "id": "673f7379-44f4-4d25-9ac6-20b72f9df949",
   "metadata": {},
   "outputs": [],
   "source": []
  },
  {
   "cell_type": "code",
   "execution_count": null,
   "id": "e3d83cb4-df3d-4f11-af45-041b682e0a55",
   "metadata": {},
   "outputs": [],
   "source": []
  },
  {
   "cell_type": "code",
   "execution_count": null,
   "id": "c404585b-0523-41ae-8191-98023600ddd6",
   "metadata": {},
   "outputs": [],
   "source": [
    "    "
   ]
  },
  {
   "cell_type": "code",
   "execution_count": null,
   "id": "b11f7782-1a70-4305-87ed-38e69f55441a",
   "metadata": {},
   "outputs": [],
   "source": []
  },
  {
   "cell_type": "code",
   "execution_count": null,
   "id": "1d9f843d-1043-4eeb-9045-efef62d571a0",
   "metadata": {},
   "outputs": [],
   "source": []
  },
  {
   "cell_type": "code",
   "execution_count": null,
   "id": "28111983-6165-4bc3-b563-f98f9c39d096",
   "metadata": {},
   "outputs": [],
   "source": []
  },
  {
   "cell_type": "code",
   "execution_count": null,
   "id": "d508db6f-accd-4375-ac44-5d276bbd92f1",
   "metadata": {},
   "outputs": [],
   "source": []
  },
  {
   "cell_type": "code",
   "execution_count": null,
   "id": "34ebfbe5-4e7e-4dec-8ffe-28c6af048d72",
   "metadata": {},
   "outputs": [],
   "source": []
  },
  {
   "cell_type": "code",
   "execution_count": null,
   "id": "ccf2d0b0-b3db-41b6-b8e9-05ec9392afb6",
   "metadata": {},
   "outputs": [],
   "source": []
  },
  {
   "cell_type": "code",
   "execution_count": null,
   "id": "f892ae3b-4a75-4d5b-9f5e-9eb0cd48574a",
   "metadata": {},
   "outputs": [],
   "source": []
  },
  {
   "cell_type": "code",
   "execution_count": null,
   "id": "68f42371-1cb2-4a9e-874e-d5188d140350",
   "metadata": {},
   "outputs": [],
   "source": []
  },
  {
   "cell_type": "code",
   "execution_count": null,
   "id": "2eebb386-2a32-4184-b659-47daa12462cf",
   "metadata": {},
   "outputs": [],
   "source": []
  },
  {
   "cell_type": "code",
   "execution_count": null,
   "id": "064ebc56-675b-4b19-8959-60a8c5462d82",
   "metadata": {},
   "outputs": [],
   "source": []
  },
  {
   "cell_type": "code",
   "execution_count": null,
   "id": "3db5925a-7ba7-4bd8-8f5a-86a1b5c4a7a0",
   "metadata": {},
   "outputs": [],
   "source": []
  },
  {
   "cell_type": "code",
   "execution_count": null,
   "id": "02f7c535-9841-4541-8c1a-44baf3c03854",
   "metadata": {},
   "outputs": [],
   "source": []
  },
  {
   "cell_type": "code",
   "execution_count": null,
   "id": "244e61e6-928a-46c7-a6bd-dbe970e804f7",
   "metadata": {},
   "outputs": [],
   "source": []
  },
  {
   "cell_type": "code",
   "execution_count": null,
   "id": "fe7d8159-cf6f-49eb-9765-b57a4d1c223e",
   "metadata": {},
   "outputs": [],
   "source": []
  }
 ],
 "metadata": {
  "kernelspec": {
   "display_name": "Python 3 (ipykernel)",
   "language": "python",
   "name": "python3"
  },
  "language_info": {
   "codemirror_mode": {
    "name": "ipython",
    "version": 3
   },
   "file_extension": ".py",
   "mimetype": "text/x-python",
   "name": "python",
   "nbconvert_exporter": "python",
   "pygments_lexer": "ipython3",
   "version": "3.12.7"
  }
 },
 "nbformat": 4,
 "nbformat_minor": 5
}
