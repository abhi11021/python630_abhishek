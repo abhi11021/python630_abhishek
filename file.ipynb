{
 "cells": [
  {
   "cell_type": "code",
   "execution_count": 2,
   "id": "6e03531f-87bf-4e61-9b26-b790023e2817",
   "metadata": {},
   "outputs": [],
   "source": [
    "#file\n",
    "#open('<file_name>','<mode>')\n",
    "\n",
    "#with open ('<file_name>','<mode>'):\n",
    "# <operation>\n",
    "\n",
    "#modes\n",
    "#r ->read\n",
    "#w -> write\n",
    "#x -> create\n",
    "# a -> append\n"
   ]
  },
  {
   "cell_type": "code",
   "execution_count": 8,
   "id": "497e9c8b-04e7-4011-b5ba-bc2f9624afbf",
   "metadata": {},
   "outputs": [
    {
     "name": "stdout",
     "output_type": "stream",
     "text": [
      "There is same file\n"
     ]
    }
   ],
   "source": [
    "try:\n",
    "    file=open('data.txt','x')\n",
    "    file.close()\n",
    "except:\n",
    "    print(\"There is same file\")\n",
    "    \n"
   ]
  },
  {
   "cell_type": "code",
   "execution_count": 10,
   "id": "37fa3c7d-bc99-4bd7-9a0b-a12e744fbc0f",
   "metadata": {},
   "outputs": [],
   "source": [
    "#wite \n",
    "data=\"Hello world\"\n",
    "file=open('data.txt','w')\n",
    "file.write(data)\n",
    "file.close()"
   ]
  },
  {
   "cell_type": "code",
   "execution_count": 11,
   "id": "39f20214-386b-448b-af0e-3ce3ffd95544",
   "metadata": {},
   "outputs": [
    {
     "name": "stdout",
     "output_type": "stream",
     "text": [
      "Hello world\n"
     ]
    }
   ],
   "source": [
    "#Read\n",
    "\n",
    "file=open('data.txt','r')\n",
    "my_data=file.read()\n",
    "print(my_data)\n",
    "file.close()\n",
    "\n",
    "    "
   ]
  },
  {
   "cell_type": "code",
   "execution_count": 12,
   "id": "f9a15a95-8c26-4f25-8247-ae2db237c8e8",
   "metadata": {},
   "outputs": [],
   "source": [
    "#Append\n",
    "data=\"Hello world \\ n\"\n",
    "file=open('data.txt','a')\n",
    "file.write(data)\n",
    "file.close()\n"
   ]
  },
  {
   "cell_type": "code",
   "execution_count": 32,
   "id": "cc8c4f44-bba3-4ed6-b939-1884cb9deea0",
   "metadata": {},
   "outputs": [
    {
     "name": "stdin",
     "output_type": "stream",
     "text": [
      "enter number of product =  2\n",
      "enter product name =  Apple\n",
      "enter price of the product =  200\n",
      "enter quantity of the product=  2\n",
      "enter product name =  Banana\n",
      "enter price of the product =  50\n",
      "enter quantity of the product=  4\n"
     ]
    }
   ],
   "source": [
    "#Bill System in file in CSV form\n",
    "\n",
    "bill= \" \"\n",
    "n=int(input(\"enter number of product = \"))\n",
    "for i in range(n):\n",
    "    product=input(\"enter product name = \")\n",
    "    price=int(input (\"enter price of the product = \"))       # why integer??\n",
    "    qty= float(input(\"enter quantity of the product= \"))     # Why float ??\n",
    "    total=price*qty\n",
    "    row=f\"{product}, {price}, {qty}, {total} \\n\"\n",
    "    bill=bill+row\n",
    "\n",
    "file=open('bill.txt','w')\n",
    "file.write(bill)\n",
    "file.close()"
   ]
  },
  {
   "cell_type": "code",
   "execution_count": null,
   "id": "e5723e94-b604-4a50-97c1-6945279bd838",
   "metadata": {},
   "outputs": [],
   "source": []
  },
  {
   "cell_type": "code",
   "execution_count": 33,
   "id": "d1d230f4-7144-489e-a299-3d0f8531b724",
   "metadata": {},
   "outputs": [
    {
     "data": {
      "text/plain": [
       "' a 2 1.0 2.0 \\n Apple 100 2.0 200.0 \\nBanana 50 4.0 200.0 \\n Coke 2 100.0 200.0 \\nMomo 2 200.0 400.0 \\n'"
      ]
     },
     "execution_count": 33,
     "metadata": {},
     "output_type": "execute_result"
    }
   ],
   "source": [
    "my_data\n"
   ]
  },
  {
   "cell_type": "code",
   "execution_count": null,
   "id": "c7e5c2ea-d2d4-43b5-8780-8c1eb93f2713",
   "metadata": {},
   "outputs": [],
   "source": []
  },
  {
   "cell_type": "code",
   "execution_count": 34,
   "id": "1875afc2-c360-4b5e-b9fd-d8d4c54f7ec3",
   "metadata": {},
   "outputs": [
    {
     "data": {
      "text/plain": [
       "[' a 2 1.0 2.0 ',\n",
       " ' Apple 100 2.0 200.0 ',\n",
       " 'Banana 50 4.0 200.0 ',\n",
       " ' Coke 2 100.0 200.0 ',\n",
       " 'Momo 2 200.0 400.0 ']"
      ]
     },
     "execution_count": 34,
     "metadata": {},
     "output_type": "execute_result"
    }
   ],
   "source": [
    "row=my_data.split('\\n')[0:-1]    ## split ??\n",
    "row"
   ]
  },
  {
   "cell_type": "code",
   "execution_count": null,
   "id": "b5acbf59-5a4b-4f95-99d9-49e20448161d",
   "metadata": {},
   "outputs": [],
   "source": []
  },
  {
   "cell_type": "code",
   "execution_count": 35,
   "id": "25990058-71c9-46ac-8a53-b471715fdc01",
   "metadata": {},
   "outputs": [
    {
     "data": {
      "text/plain": [
       "[['a', 2.0, '1.0', '2.0'],\n",
       " ['Apple', 200.0, '2.0', '200.0'],\n",
       " ['Banana', 200.0, '4.0', '200.0'],\n",
       " ['Coke', 200.0, '100.0', '200.0'],\n",
       " ['Momo', 400.0, '200.0', '400.0']]"
      ]
     },
     "execution_count": 35,
     "metadata": {},
     "output_type": "execute_result"
    }
   ],
   "source": [
    "bills=[]\n",
    "for i in row:\n",
    "    x=i.split()\n",
    "    x[1]=int(x[1])\n",
    "    x[1]=float(x[2])\n",
    "    x[1]=float(x[3])\n",
    "    bills.append(x)   # convert into list\n",
    "bills\n"
   ]
  },
  {
   "cell_type": "code",
   "execution_count": null,
   "id": "89843d03-f610-420f-8a29-ed08e20627fb",
   "metadata": {},
   "outputs": [],
   "source": []
  },
  {
   "cell_type": "code",
   "execution_count": 36,
   "id": "925d8c51-ea2c-4bfa-866f-41621d6b233d",
   "metadata": {},
   "outputs": [
    {
     "ename": "TypeError",
     "evalue": "unsupported operand type(s) for +: 'int' and 'str'",
     "output_type": "error",
     "traceback": [
      "\u001b[1;31m---------------------------------------------------------------------------\u001b[0m",
      "\u001b[1;31mTypeError\u001b[0m                                 Traceback (most recent call last)",
      "Cell \u001b[1;32mIn[36], line 3\u001b[0m\n\u001b[0;32m      1\u001b[0m s\u001b[38;5;241m=\u001b[39m\u001b[38;5;241m0\u001b[39m\n\u001b[0;32m      2\u001b[0m \u001b[38;5;28;01mfor\u001b[39;00m i \u001b[38;5;129;01min\u001b[39;00m bills:\n\u001b[1;32m----> 3\u001b[0m     s\u001b[38;5;241m=\u001b[39ms\u001b[38;5;241m+\u001b[39mi[\u001b[38;5;241m3\u001b[39m]\n\u001b[0;32m      4\u001b[0m \u001b[38;5;28mprint\u001b[39m(s)\n",
      "\u001b[1;31mTypeError\u001b[0m: unsupported operand type(s) for +: 'int' and 'str'"
     ]
    }
   ],
   "source": [
    "s=0\n",
    "for i in bills:\n",
    "    s=s+i[3]\n",
    "print(s)\n",
    "    "
   ]
  },
  {
   "cell_type": "code",
   "execution_count": null,
   "id": "5f089579-1d49-4b1c-a5b4-18f8f1070c60",
   "metadata": {},
   "outputs": [],
   "source": []
  },
  {
   "cell_type": "code",
   "execution_count": 46,
   "id": "383f4ab1-77e3-4cba-8d76-8f364dfe2482",
   "metadata": {},
   "outputs": [
    {
     "name": "stdin",
     "output_type": "stream",
     "text": [
      "enter number of product =  2\n",
      "enter product name =  Apple\n",
      "enter price of the product =  300\n",
      "enter quantity of the product=  4\n",
      "enter product name =  Banana\n",
      "enter price of the product =  200\n",
      "enter quantity of the product=  4\n"
     ]
    }
   ],
   "source": [
    "#Bill System in file in CSV form\n",
    "\n",
    "bill= \" \"\n",
    "s=0\n",
    "n=int(input(\"enter number of product = \"))\n",
    "for i in range(n):\n",
    "    product=input(\"enter product name = \")\n",
    "    price=int(input (\"enter price of the product = \"))       # why integer??\n",
    "    qty= float(input(\"enter quantity of the product= \"))     # Why float ??\n",
    "    total=price*qty\n",
    "    row=f\"{product}, {price}, {qty}, {total} \\n\"\n",
    "    bill=bill+row\n",
    "    s=s+total\n",
    "\n",
    "#wite mode\n",
    "file=open('bill.csv','w')\n",
    "file.write('product,price,Quantity,Total\\n')\n",
    "file.write(f\"(bill)\\n\")\n",
    "file.write(f\"Total=(s)\")         \n",
    "file.close()\n",
    "\n",
    "#Append Mode\n",
    "file=open('all_bill.csv','a')\n",
    "file.write(bill)\n",
    "file.close()\n"
   ]
  },
  {
   "cell_type": "code",
   "execution_count": 47,
   "id": "e6a4fa3c-5cbd-4bf7-850b-16c1e7d9a6f2",
   "metadata": {},
   "outputs": [
    {
     "data": {
      "text/plain": [
       "'C:\\\\Users\\\\Administrator\\\\Python_6_30'"
      ]
     },
     "execution_count": 47,
     "metadata": {},
     "output_type": "execute_result"
    }
   ],
   "source": [
    "pwd"
   ]
  },
  {
   "cell_type": "code",
   "execution_count": 6,
   "id": "d5ba3871-ef65-4a35-ba22-7d19755360e9",
   "metadata": {},
   "outputs": [],
   "source": [
    "import csv\n",
    "bill=[['Name','Price','Quantity','Total'],\n",
    "    ['Apple', 200.0, '2.0', '200.0'],\n",
    " ['Banana', 200.0, '4.0', '200.0'],\n",
    " ['Coke', 200.0, '100.0', '200.0'],\n",
    " ['Momo', 400.0, '200.0', '400.0']]\n",
    "file=open('list_bill.csv','w')\n",
    "x=csv.writer(file)\n",
    "x.writerows(bill)\n",
    "file.close()"
   ]
  },
  {
   "cell_type": "code",
   "execution_count": null,
   "id": "16ab6be6-05d9-48cb-a32e-3a4eda84e610",
   "metadata": {},
   "outputs": [],
   "source": []
  },
  {
   "cell_type": "code",
   "execution_count": 9,
   "id": "84a0c941-6d62-403f-9117-2d10cfc5cccd",
   "metadata": {},
   "outputs": [
    {
     "data": {
      "text/html": [
       "<div>\n",
       "<style scoped>\n",
       "    .dataframe tbody tr th:only-of-type {\n",
       "        vertical-align: middle;\n",
       "    }\n",
       "\n",
       "    .dataframe tbody tr th {\n",
       "        vertical-align: top;\n",
       "    }\n",
       "\n",
       "    .dataframe thead th {\n",
       "        text-align: right;\n",
       "    }\n",
       "</style>\n",
       "<table border=\"1\" class=\"dataframe\">\n",
       "  <thead>\n",
       "    <tr style=\"text-align: right;\">\n",
       "      <th></th>\n",
       "      <th>Name</th>\n",
       "      <th>Price</th>\n",
       "      <th>Quantity</th>\n",
       "      <th>Total</th>\n",
       "    </tr>\n",
       "  </thead>\n",
       "  <tbody>\n",
       "    <tr>\n",
       "      <th>0</th>\n",
       "      <td>Apple</td>\n",
       "      <td>200.0</td>\n",
       "      <td>2.0</td>\n",
       "      <td>200.0</td>\n",
       "    </tr>\n",
       "    <tr>\n",
       "      <th>1</th>\n",
       "      <td>Banana</td>\n",
       "      <td>200.0</td>\n",
       "      <td>4.0</td>\n",
       "      <td>200.0</td>\n",
       "    </tr>\n",
       "    <tr>\n",
       "      <th>2</th>\n",
       "      <td>Coke</td>\n",
       "      <td>200.0</td>\n",
       "      <td>100.0</td>\n",
       "      <td>200.0</td>\n",
       "    </tr>\n",
       "    <tr>\n",
       "      <th>3</th>\n",
       "      <td>Momo</td>\n",
       "      <td>400.0</td>\n",
       "      <td>200.0</td>\n",
       "      <td>400.0</td>\n",
       "    </tr>\n",
       "  </tbody>\n",
       "</table>\n",
       "</div>"
      ],
      "text/plain": [
       "     Name  Price  Quantity  Total\n",
       "0   Apple  200.0       2.0  200.0\n",
       "1  Banana  200.0       4.0  200.0\n",
       "2    Coke  200.0     100.0  200.0\n",
       "3    Momo  400.0     200.0  400.0"
      ]
     },
     "execution_count": 9,
     "metadata": {},
     "output_type": "execute_result"
    }
   ],
   "source": [
    "import pandas as pd\n",
    "file=pd.read_csv('list_bill.csv')\n",
    "file"
   ]
  },
  {
   "cell_type": "code",
   "execution_count": null,
   "id": "bf933fca-5f77-4039-a497-615b70241b3a",
   "metadata": {},
   "outputs": [],
   "source": []
  },
  {
   "cell_type": "code",
   "execution_count": 12,
   "id": "53c253ce-7de0-4555-b65b-014ce38edfcf",
   "metadata": {},
   "outputs": [
    {
     "data": {
      "text/html": [
       "<div>\n",
       "<style scoped>\n",
       "    .dataframe tbody tr th:only-of-type {\n",
       "        vertical-align: middle;\n",
       "    }\n",
       "\n",
       "    .dataframe tbody tr th {\n",
       "        vertical-align: top;\n",
       "    }\n",
       "\n",
       "    .dataframe thead th {\n",
       "        text-align: right;\n",
       "    }\n",
       "</style>\n",
       "<table border=\"1\" class=\"dataframe\">\n",
       "  <thead>\n",
       "    <tr style=\"text-align: right;\">\n",
       "      <th></th>\n",
       "      <th>Name</th>\n",
       "      <th>Price</th>\n",
       "      <th>Quantity</th>\n",
       "      <th>Total</th>\n",
       "    </tr>\n",
       "  </thead>\n",
       "  <tbody>\n",
       "    <tr>\n",
       "      <th>0</th>\n",
       "      <td>Apple</td>\n",
       "      <td>200.0</td>\n",
       "      <td>2.0</td>\n",
       "      <td>200.0</td>\n",
       "    </tr>\n",
       "    <tr>\n",
       "      <th>1</th>\n",
       "      <td>Banana</td>\n",
       "      <td>200.0</td>\n",
       "      <td>4.0</td>\n",
       "      <td>200.0</td>\n",
       "    </tr>\n",
       "    <tr>\n",
       "      <th>2</th>\n",
       "      <td>Coke</td>\n",
       "      <td>200.0</td>\n",
       "      <td>100.0</td>\n",
       "      <td>200.0</td>\n",
       "    </tr>\n",
       "    <tr>\n",
       "      <th>3</th>\n",
       "      <td>Momo</td>\n",
       "      <td>400.0</td>\n",
       "      <td>200.0</td>\n",
       "      <td>400.0</td>\n",
       "    </tr>\n",
       "  </tbody>\n",
       "</table>\n",
       "</div>"
      ],
      "text/plain": [
       "     Name  Price Quantity  Total\n",
       "0   Apple  200.0      2.0  200.0\n",
       "1  Banana  200.0      4.0  200.0\n",
       "2    Coke  200.0    100.0  200.0\n",
       "3    Momo  400.0    200.0  400.0"
      ]
     },
     "execution_count": 12,
     "metadata": {},
     "output_type": "execute_result"
    }
   ],
   "source": [
    "col=['Name','Price','Quantity','Total']\n",
    "bill=[['Apple', 200.0, '2.0', '200.0'],\n",
    " ['Banana', 200.0, '4.0', '200.0'],\n",
    " ['Coke', 200.0, '100.0', '200.0'],\n",
    " ['Momo', 400.0, '200.0', '400.0']]\n",
    "df=pd.DataFrame(bill,columns=col)\n",
    "df.to_csv('dataframe_bill.csv')\n",
    "df\n"
   ]
  },
  {
   "cell_type": "code",
   "execution_count": 16,
   "id": "eaa27bdd-7a1f-44cb-975b-9d34847774d8",
   "metadata": {},
   "outputs": [
    {
     "data": {
      "text/html": [
       "<div>\n",
       "<style scoped>\n",
       "    .dataframe tbody tr th:only-of-type {\n",
       "        vertical-align: middle;\n",
       "    }\n",
       "\n",
       "    .dataframe tbody tr th {\n",
       "        vertical-align: top;\n",
       "    }\n",
       "\n",
       "    .dataframe thead th {\n",
       "        text-align: right;\n",
       "    }\n",
       "</style>\n",
       "<table border=\"1\" class=\"dataframe\">\n",
       "  <thead>\n",
       "    <tr style=\"text-align: right;\">\n",
       "      <th></th>\n",
       "      <th>Name</th>\n",
       "      <th>Age</th>\n",
       "      <th>Add</th>\n",
       "    </tr>\n",
       "  </thead>\n",
       "  <tbody>\n",
       "    <tr>\n",
       "      <th>0</th>\n",
       "      <td>Ram</td>\n",
       "      <td>34</td>\n",
       "      <td>Kathmandu</td>\n",
       "    </tr>\n",
       "    <tr>\n",
       "      <th>1</th>\n",
       "      <td>Shyam</td>\n",
       "      <td>45</td>\n",
       "      <td>Bhaktapur</td>\n",
       "    </tr>\n",
       "    <tr>\n",
       "      <th>2</th>\n",
       "      <td>Hari</td>\n",
       "      <td>67</td>\n",
       "      <td>Lalitpur</td>\n",
       "    </tr>\n",
       "  </tbody>\n",
       "</table>\n",
       "</div>"
      ],
      "text/plain": [
       "    Name  Age        Add\n",
       "0    Ram   34  Kathmandu\n",
       "1  Shyam   45  Bhaktapur\n",
       "2   Hari   67   Lalitpur"
      ]
     },
     "execution_count": 16,
     "metadata": {},
     "output_type": "execute_result"
    }
   ],
   "source": [
    "data={'Name':['Ram','Shyam','Hari'],\n",
    "      'Age':[34,45,67],\n",
    "       'Add':['Kathmandu','Bhaktapur','Lalitpur']}\n",
    "df=pd.DataFrame(data)\n",
    "df.to_csv('dictdata.csv')\n",
    "df"
   ]
  },
  {
   "cell_type": "code",
   "execution_count": null,
   "id": "4e34c4dc-67c1-45de-b12f-dde6e1adcf21",
   "metadata": {},
   "outputs": [],
   "source": []
  },
  {
   "cell_type": "code",
   "execution_count": 26,
   "id": "1c3c13fb-4d1c-45ca-86ec-6cf37a3d634b",
   "metadata": {},
   "outputs": [],
   "source": [
    "import csv\n",
    "csv_columns=['Name','Age','Address']\n",
    "dict=[\n",
    "    {'Name':'Ram','Age': 23,'Address':'Kathmandu'},\n",
    "      {'Name':'Shyam','Age':33,'Address':'Lalitpr'}\n",
    "           ]\n",
    "file= open (\"data.csv\",'w')\n",
    "write=csv.DictWriter(file,fieldnames=csv_columns)\n",
    "write.writeheader()\n",
    "for data in dict:\n",
    "    writer.writerow(data)\n",
    "file.close() "
   ]
  },
  {
   "cell_type": "code",
   "execution_count": null,
   "id": "cac6a27a-c44b-4e44-9ba5-3e28f43c65c0",
   "metadata": {},
   "outputs": [],
   "source": []
  },
  {
   "cell_type": "code",
   "execution_count": null,
   "id": "96a3ff02-94f5-47bf-ac75-702b76204b7f",
   "metadata": {},
   "outputs": [],
   "source": []
  },
  {
   "cell_type": "code",
   "execution_count": 27,
   "id": "b10133ff-0b1d-4377-a252-5ce11c239f01",
   "metadata": {},
   "outputs": [],
   "source": [
    "import csv\n",
    "file= open (\"data.csv\")\n",
    "reader=csv.DictReader(file)\n",
    "for data in dict:\n",
    "    \n",
    "    file.close() \n",
    "\n"
   ]
  },
  {
   "cell_type": "code",
   "execution_count": null,
   "id": "0fec6558-889b-434f-86b5-8e4cdc0aae70",
   "metadata": {},
   "outputs": [],
   "source": []
  },
  {
   "cell_type": "code",
   "execution_count": null,
   "id": "5716fedf-2a8f-4748-b0b5-e277ff63b774",
   "metadata": {},
   "outputs": [],
   "source": []
  },
  {
   "cell_type": "code",
   "execution_count": null,
   "id": "b5f8a541-a5ef-4988-9af2-f78e1876d0ea",
   "metadata": {},
   "outputs": [],
   "source": []
  },
  {
   "cell_type": "code",
   "execution_count": null,
   "id": "64794840-b17c-4546-aeaf-025b16daa18d",
   "metadata": {},
   "outputs": [],
   "source": []
  },
  {
   "cell_type": "code",
   "execution_count": null,
   "id": "82164798-00b2-4fd5-b28d-641b5fd9a948",
   "metadata": {},
   "outputs": [],
   "source": []
  },
  {
   "cell_type": "code",
   "execution_count": null,
   "id": "fee7d980-f7b3-4ab5-9944-b4e095b31273",
   "metadata": {},
   "outputs": [],
   "source": []
  },
  {
   "cell_type": "code",
   "execution_count": null,
   "id": "71e408c9-7f23-4d2e-af1c-2df21bacd7c3",
   "metadata": {},
   "outputs": [],
   "source": []
  },
  {
   "cell_type": "code",
   "execution_count": null,
   "id": "7a06bf24-e0c1-4e95-84cd-9c1ab9b51521",
   "metadata": {},
   "outputs": [],
   "source": []
  },
  {
   "cell_type": "code",
   "execution_count": null,
   "id": "fd04c413-851a-4b94-966b-0ffbb3cab53f",
   "metadata": {},
   "outputs": [],
   "source": []
  },
  {
   "cell_type": "code",
   "execution_count": null,
   "id": "2cfe70a6-4eff-437f-9854-75a29c9aba83",
   "metadata": {},
   "outputs": [],
   "source": []
  },
  {
   "cell_type": "code",
   "execution_count": null,
   "id": "bb2fd964-69d2-4bed-938b-6da401f4d572",
   "metadata": {},
   "outputs": [],
   "source": []
  },
  {
   "cell_type": "code",
   "execution_count": null,
   "id": "45dd9485-4c20-469d-904c-fc4fbc389974",
   "metadata": {},
   "outputs": [],
   "source": []
  },
  {
   "cell_type": "code",
   "execution_count": null,
   "id": "185587b0-31d2-462d-8254-5db7947548d5",
   "metadata": {},
   "outputs": [],
   "source": []
  },
  {
   "cell_type": "code",
   "execution_count": null,
   "id": "9b41e791-e016-4c82-8a9f-e941eded02c6",
   "metadata": {},
   "outputs": [],
   "source": []
  },
  {
   "cell_type": "code",
   "execution_count": null,
   "id": "59cf48ba-b3c3-4579-99d2-292b7923c352",
   "metadata": {},
   "outputs": [],
   "source": []
  },
  {
   "cell_type": "code",
   "execution_count": null,
   "id": "9b604f9d-0959-41cb-b31c-34f5f99dc27d",
   "metadata": {},
   "outputs": [],
   "source": []
  },
  {
   "cell_type": "code",
   "execution_count": null,
   "id": "067c74e0-fd45-4606-b016-29126b45f563",
   "metadata": {},
   "outputs": [],
   "source": []
  },
  {
   "cell_type": "code",
   "execution_count": null,
   "id": "c3564415-c12e-4c2a-9cdd-60a0e04fd062",
   "metadata": {},
   "outputs": [],
   "source": []
  },
  {
   "cell_type": "code",
   "execution_count": 16,
   "id": "295fe2b2-5426-4f86-8e90-2ab51cbdc00e",
   "metadata": {},
   "outputs": [
    {
     "name": "stdout",
     "output_type": "stream",
     "text": [
      " a 2 1.0 2.0 \n",
      " Apple 100 2.0 200.0 \n",
      "Banana 50 4.0 200.0 \n",
      " Coke 2 100.0 200.0 \n",
      "Momo 2 200.0 400.0 \n",
      "\n"
     ]
    }
   ],
   "source": [
    "#read \n",
    "file=open('bill.txt','r')\n",
    "my_data=file.read()\n",
    "print(my_data)\n",
    "file.close()\n"
   ]
  },
  {
   "cell_type": "code",
   "execution_count": 17,
   "id": "11a9f708-f9a6-4052-a359-9e4a24af28b9",
   "metadata": {},
   "outputs": [
    {
     "data": {
      "text/plain": [
       "' a 2 1.0 2.0 \\n Apple 100 2.0 200.0 \\nBanana 50 4.0 200.0 \\n Coke 2 100.0 200.0 \\nMomo 2 200.0 400.0 \\n'"
      ]
     },
     "execution_count": 17,
     "metadata": {},
     "output_type": "execute_result"
    }
   ],
   "source": [
    "my_data"
   ]
  },
  {
   "cell_type": "code",
   "execution_count": null,
   "id": "71c8e8c2-ff05-4c35-a587-7d76f9ce3385",
   "metadata": {},
   "outputs": [],
   "source": []
  },
  {
   "cell_type": "code",
   "execution_count": null,
   "id": "1a9b50bd-67b6-48b4-8cdd-021595d93700",
   "metadata": {},
   "outputs": [],
   "source": []
  },
  {
   "cell_type": "code",
   "execution_count": null,
   "id": "a294deef-07a8-41a8-b783-e79d0e29c523",
   "metadata": {},
   "outputs": [],
   "source": []
  },
  {
   "cell_type": "code",
   "execution_count": null,
   "id": "8482faba-0a19-4f28-9507-b98c677efb51",
   "metadata": {},
   "outputs": [],
   "source": []
  },
  {
   "cell_type": "code",
   "execution_count": null,
   "id": "72d3e71e-b636-4d2b-9894-b325b0434221",
   "metadata": {},
   "outputs": [],
   "source": []
  },
  {
   "cell_type": "code",
   "execution_count": null,
   "id": "47207d98-2b39-4686-a27a-6deab85e6a5b",
   "metadata": {},
   "outputs": [],
   "source": []
  },
  {
   "cell_type": "code",
   "execution_count": null,
   "id": "20b1502b-9b40-4934-a4f9-1eb60f4f121b",
   "metadata": {},
   "outputs": [],
   "source": []
  },
  {
   "cell_type": "code",
   "execution_count": null,
   "id": "bbb78952-caeb-43e0-91af-e33a1c91f8ea",
   "metadata": {},
   "outputs": [],
   "source": []
  },
  {
   "cell_type": "code",
   "execution_count": null,
   "id": "26afa28b-7cca-4c6a-a6d7-8d33c6da4e84",
   "metadata": {},
   "outputs": [],
   "source": []
  },
  {
   "cell_type": "code",
   "execution_count": null,
   "id": "92580bf9-8f81-44b2-8942-92c2b981b769",
   "metadata": {},
   "outputs": [],
   "source": []
  },
  {
   "cell_type": "code",
   "execution_count": null,
   "id": "39759be9-fd98-4432-9baf-02154daedae3",
   "metadata": {},
   "outputs": [],
   "source": []
  }
 ],
 "metadata": {
  "kernelspec": {
   "display_name": "Python 3 (ipykernel)",
   "language": "python",
   "name": "python3"
  },
  "language_info": {
   "codemirror_mode": {
    "name": "ipython",
    "version": 3
   },
   "file_extension": ".py",
   "mimetype": "text/x-python",
   "name": "python",
   "nbconvert_exporter": "python",
   "pygments_lexer": "ipython3",
   "version": "3.12.7"
  }
 },
 "nbformat": 4,
 "nbformat_minor": 5
}
