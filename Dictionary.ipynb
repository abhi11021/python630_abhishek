{
 "cells": [
  {
   "cell_type": "code",
   "execution_count": 1,
   "id": "1551811e-5fb1-4a9e-b937-2fab9d58992c",
   "metadata": {},
   "outputs": [],
   "source": [
    "#Dist\n",
    "#Idexing\n",
    "#Orderd\n",
    "#Multiple and Duplicate data\n",
    "#Mutable"
   ]
  },
  {
   "cell_type": "code",
   "execution_count": 2,
   "id": "f6d8051e-d33c-48e6-a9fc-bfc8ebe70288",
   "metadata": {},
   "outputs": [],
   "source": [
    "# d= {<key>:<value>,<key>,{value>,.......}\n"
   ]
  },
  {
   "cell_type": "code",
   "execution_count": 5,
   "id": "3e3a9d0c-9eb3-47c5-858e-8ebd3bb9cc68",
   "metadata": {},
   "outputs": [
    {
     "name": "stdout",
     "output_type": "stream",
     "text": [
      "<class 'dict'>\n"
     ]
    }
   ],
   "source": [
    "d= {'a':'Apple','b':'Ball'}\n",
    "print(type(d))"
   ]
  },
  {
   "cell_type": "code",
   "execution_count": null,
   "id": "6ef37746-e411-4ad9-8705-da5b4d550f3d",
   "metadata": {},
   "outputs": [],
   "source": []
  },
  {
   "cell_type": "code",
   "execution_count": 14,
   "id": "e59606d7-a8c9-4b6a-996c-0651a69721ca",
   "metadata": {},
   "outputs": [
    {
     "name": "stdout",
     "output_type": "stream",
     "text": [
      "3\n",
      "{'name': 'Ram', 'age': 34, 'add': 'Kathmandu'}\n"
     ]
    }
   ],
   "source": [
    "d= {'name':'Ram','age':34, 'add':'Kathmandu'}\n",
    "print(len(d))\n",
    "print(d)"
   ]
  },
  {
   "cell_type": "code",
   "execution_count": 22,
   "id": "b65df10a-1434-441d-8598-f74e25f25d49",
   "metadata": {},
   "outputs": [
    {
     "name": "stdout",
     "output_type": "stream",
     "text": [
      "dict_values(['Ram', 34, 'Kathmandu'])\n",
      "dict_keys(['name', 'age', 'add'])\n",
      "dict_items([('name', 'Ram'), ('age', 34), ('add', 'Kathmandu')])\n"
     ]
    }
   ],
   "source": [
    "d= {'name':'Ram','age':34, 'add':'Kathmandu'}\n",
    "print(d.values())\n",
    "print(d.keys())\n",
    "print(d.items())"
   ]
  },
  {
   "cell_type": "code",
   "execution_count": 29,
   "id": "3d92115d-beb2-40d1-a33f-6b9bb1ef2b1b",
   "metadata": {},
   "outputs": [
    {
     "name": "stdout",
     "output_type": "stream",
     "text": [
      "Ram\n",
      "34\n",
      "Kathmandu\n"
     ]
    }
   ],
   "source": [
    "print(d['name'])\n",
    "print(d['age'])\n",
    "print(d['add'])"
   ]
  },
  {
   "cell_type": "code",
   "execution_count": null,
   "id": "e552cf2b-7f61-4914-9d05-a808e7a010b0",
   "metadata": {},
   "outputs": [],
   "source": []
  },
  {
   "cell_type": "code",
   "execution_count": null,
   "id": "74e3c598-5724-4c5f-aeaf-631c02e2fe32",
   "metadata": {},
   "outputs": [],
   "source": []
  },
  {
   "cell_type": "code",
   "execution_count": null,
   "id": "5d7dfc7e-6a02-4f7f-b038-ee721c505d0c",
   "metadata": {},
   "outputs": [],
   "source": []
  },
  {
   "cell_type": "code",
   "execution_count": 20,
   "id": "72f98999-9ed3-4358-9faf-37a8194a6473",
   "metadata": {},
   "outputs": [
    {
     "name": "stdout",
     "output_type": "stream",
     "text": [
      "name\n",
      "age\n",
      "add\n"
     ]
    }
   ],
   "source": [
    "d= {'name':'Ram','age':34, 'add':'Kathmandu'}\n",
    "for i in d:\n",
    "    print(i)"
   ]
  },
  {
   "cell_type": "code",
   "execution_count": null,
   "id": "37a4de35-e268-421b-952e-aa6ac6f46888",
   "metadata": {},
   "outputs": [],
   "source": []
  },
  {
   "cell_type": "code",
   "execution_count": 28,
   "id": "f82ad0ee-51ae-422b-ae13-06c3fbe0a3be",
   "metadata": {},
   "outputs": [
    {
     "name": "stdout",
     "output_type": "stream",
     "text": [
      "{'name': 'Ram', 'age': 34, 'add': 'Kathmandu'}\n"
     ]
    }
   ],
   "source": [
    "# create \n",
    "d= {'name':'Ram','age':34, 'add':'Kathmandu'} ## Key cannot be same\n",
    "print(d)\n",
    "\n"
   ]
  },
  {
   "cell_type": "code",
   "execution_count": null,
   "id": "782f5497-9265-4612-adf3-865ab00cd624",
   "metadata": {},
   "outputs": [],
   "source": []
  },
  {
   "cell_type": "code",
   "execution_count": null,
   "id": "1a0ca562-5518-466a-9dac-0658c0ffccbb",
   "metadata": {},
   "outputs": [],
   "source": []
  },
  {
   "cell_type": "code",
   "execution_count": 31,
   "id": "736a39e8-ba1c-4af8-8419-9033550dcaab",
   "metadata": {},
   "outputs": [
    {
     "name": "stdout",
     "output_type": "stream",
     "text": [
      "{'Ram': 9867667654, 'Shyam': 9867667655, 'Hari': 9867667656}\n"
     ]
    }
   ],
   "source": [
    "#Creat Disctionary \n",
    "d={}\n",
    "d['Ram']=9867667654\n",
    "d['Shyam']=9867667655\n",
    "d['Hari']=9867667656\n",
    "print(d)"
   ]
  },
  {
   "cell_type": "code",
   "execution_count": null,
   "id": "6604e00d-f61e-42ef-97ae-c5bb4dfa312d",
   "metadata": {},
   "outputs": [],
   "source": []
  },
  {
   "cell_type": "code",
   "execution_count": 32,
   "id": "2b5dac44-0f7b-49b0-9c79-c4aa15626751",
   "metadata": {},
   "outputs": [],
   "source": [
    "# in Dict there is no + *"
   ]
  },
  {
   "cell_type": "code",
   "execution_count": 36,
   "id": "f5135572-d946-443d-8d63-02b04981f4d1",
   "metadata": {},
   "outputs": [
    {
     "name": "stdout",
     "output_type": "stream",
     "text": [
      "{1: 1, 2: 4, 3: 9, 4: 16, 5: 25, 6: 36, 7: 49}\n"
     ]
    }
   ],
   "source": [
    "a={1:1,2:4,3:9,4:16}\n",
    "b={5:25,6:36,7:49}\n",
    "a.update(b)\n",
    "print(a)"
   ]
  },
  {
   "cell_type": "code",
   "execution_count": 42,
   "id": "3f4c5957-9df6-4fec-bc29-8d2146555d69",
   "metadata": {},
   "outputs": [
    {
     "name": "stdout",
     "output_type": "stream",
     "text": [
      "{'Ram': 9867667654, 'Shyam': 9867667655, 'Hari': 9867667656}\n"
     ]
    }
   ],
   "source": [
    "#Creat Disctionary \n",
    "d={}\n",
    "d['Ram']=9867667654\n",
    "d['Shyam']=9867667655\n",
    "d['Hari']=9867667656\n",
    "print(d)"
   ]
  },
  {
   "cell_type": "code",
   "execution_count": null,
   "id": "445055a6-4a78-44cd-858a-76a25d9f4e49",
   "metadata": {},
   "outputs": [],
   "source": []
  },
  {
   "cell_type": "code",
   "execution_count": 41,
   "id": "c22a89f6-0c7c-42cd-b0be-2a463ab4b2b5",
   "metadata": {},
   "outputs": [
    {
     "name": "stdin",
     "output_type": "stream",
     "text": [
      "Enter n= 2\n",
      "enter name =  Ram\n",
      "enter phone =  980111111\n",
      "enter name =  Shyam\n",
      "enter phone =  980111111\n"
     ]
    },
    {
     "name": "stdout",
     "output_type": "stream",
     "text": [
      "{'Ram': '980111111', 'Shyam': '980111111'}\n"
     ]
    }
   ],
   "source": [
    "\n",
    "# Enter the data using loop function\n",
    "d={}\n",
    "n=int(input(\"Enter n=\"))\n",
    "for i in range (n):\n",
    "    name=input(\"enter name = \")\n",
    "    phone=input(\"enter phone = \")\n",
    "    d[name]=phone                                 ## Syntax d[key]:value\n",
    "\n",
    "print(d)\n"
   ]
  },
  {
   "cell_type": "code",
   "execution_count": null,
   "id": "919691d5-4db9-4258-9838-de5453124378",
   "metadata": {},
   "outputs": [],
   "source": []
  },
  {
   "cell_type": "code",
   "execution_count": 44,
   "id": "fed97aed-9365-414a-812c-0e0b254085d8",
   "metadata": {},
   "outputs": [
    {
     "data": {
      "text/plain": [
       "{'Ram': '9808000000', 'Shyam': '9808778766'}"
      ]
     },
     "execution_count": 44,
     "metadata": {},
     "output_type": "execute_result"
    }
   ],
   "source": [
    "#Update \n",
    "\n",
    "a={'Ram':'9808778765','Shyam':'9808778766'}\n",
    "a['Ram']='9808000000'\n",
    "a"
   ]
  },
  {
   "cell_type": "code",
   "execution_count": 45,
   "id": "eda3157a-3b7d-4b5b-ab4f-338b39d4e502",
   "metadata": {},
   "outputs": [
    {
     "data": {
      "text/plain": [
       "{'Ram': '9808778765', 'Shyam': '9808778766', 'Rama': '9808000000'}"
      ]
     },
     "execution_count": 45,
     "metadata": {},
     "output_type": "execute_result"
    }
   ],
   "source": [
    "#Insert \n",
    "a={'Ram':'9808778765','Shyam':'9808778766'}\n",
    "a['Rama']='9808000000'                             #This will enter new key with defined value \"Rama\"\n",
    "a"
   ]
  },
  {
   "cell_type": "code",
   "execution_count": null,
   "id": "015b6af6-4805-4fe0-84a3-29c7867aaa37",
   "metadata": {},
   "outputs": [],
   "source": []
  },
  {
   "cell_type": "code",
   "execution_count": null,
   "id": "9dd76f00-1255-40bb-9d9d-8f86060f9373",
   "metadata": {},
   "outputs": [],
   "source": [
    "#Delete\n",
    "#del pop()\n",
    "\n"
   ]
  },
  {
   "cell_type": "code",
   "execution_count": 49,
   "id": "6508b513-543e-4054-b71d-b865572841f1",
   "metadata": {},
   "outputs": [
    {
     "name": "stdout",
     "output_type": "stream",
     "text": [
      "{'Ram': '9808778765', 'Shyam': '9808778766'}\n"
     ]
    }
   ],
   "source": [
    "a={'Ram': '9808778765', 'Shyam': '9808778766', 'Rama': '9808000000'}\n",
    "del a['Rama']\n",
    "print(a)"
   ]
  },
  {
   "cell_type": "code",
   "execution_count": null,
   "id": "37e6339c-d23d-46a4-8967-a4c463744d2d",
   "metadata": {},
   "outputs": [],
   "source": []
  },
  {
   "cell_type": "code",
   "execution_count": 51,
   "id": "31870a04-fa4e-4423-90ab-8bb99f7b79c0",
   "metadata": {},
   "outputs": [
    {
     "name": "stdout",
     "output_type": "stream",
     "text": [
      "{'Shyam': '9808778766', 'Rama': '9808000000'}\n",
      "9808778765\n"
     ]
    }
   ],
   "source": [
    "a={'Ram': '9808778765', 'Shyam': '9808778766', 'Rama': '9808000000'}\n",
    "b=a.pop('Ram')                                                           #Value of the particular key will be saved in new variable.\n",
    "print(a)\n",
    "print(b)"
   ]
  },
  {
   "cell_type": "code",
   "execution_count": null,
   "id": "bf926894-9648-4b91-aada-d2488589a9e6",
   "metadata": {},
   "outputs": [],
   "source": []
  },
  {
   "cell_type": "code",
   "execution_count": 52,
   "id": "0b81b1a2-f802-4502-ba23-c5f97c2bfd4f",
   "metadata": {},
   "outputs": [],
   "source": [
    "#a={'Ram': '9808778765', 'Shyam': '9808778766', 'Rama': '9808000000','Ram':'98080000001'}"
   ]
  },
  {
   "cell_type": "code",
   "execution_count": null,
   "id": "ba4e6e15-6a30-4be7-baa6-0cf8768d8cc6",
   "metadata": {},
   "outputs": [],
   "source": [
    "#  List inside dictionary\n",
    "# a={'Ram':[9851012345,9802100123],\n",
    "#    'Shyam':[9851012346,9802100234],\n",
    "#    'Hari':[9851012347,9802100345]}\n",
    "            "
   ]
  },
  {
   "cell_type": "code",
   "execution_count": null,
   "id": "c3c80805-a725-4cf3-b1bc-9ec470a91e35",
   "metadata": {},
   "outputs": [],
   "source": []
  },
  {
   "cell_type": "code",
   "execution_count": 54,
   "id": "eb462ada-1e02-4d5c-8d5c-85ff7ab1397f",
   "metadata": {},
   "outputs": [],
   "source": [
    "a={'name':['Ram','Shyam','Hari'],\n",
    "   'age':[34,45,23],\n",
    "   'add':['Kathmandu','Bhaktapur','Lalitpur']}\n"
   ]
  },
  {
   "cell_type": "code",
   "execution_count": null,
   "id": "619ead3f-dcae-4d7e-b016-47c0345ac9a1",
   "metadata": {},
   "outputs": [],
   "source": []
  },
  {
   "cell_type": "code",
   "execution_count": 60,
   "id": "d7bcd6eb-341d-4383-b68a-853283ca5454",
   "metadata": {},
   "outputs": [
    {
     "name": "stdin",
     "output_type": "stream",
     "text": [
      "Enter number of rows= 2\n",
      "enter name = Ram\n",
      "enter NTC number= 980111\n",
      "enter ncell number 980222\n",
      "enter name = Shyam\n",
      "enter NTC number= 980333\n",
      "enter ncell number 980444\n"
     ]
    },
    {
     "name": "stdout",
     "output_type": "stream",
     "text": [
      "{'Ram': ['980111', '980222'], 'Shyam': ['980333', '980444']}\n"
     ]
    }
   ],
   "source": [
    "# a={'Ram':[9851012345,9802100123],\n",
    "# 'Shyam':[9851012346,9802100234],\n",
    "# 'Hari':[9851012347,9802100345]}\n",
    "a={}\n",
    "n=int(input(\"Enter number of rows=\"))\n",
    "for i in range(n):\n",
    "    name=input(\"enter name =\")\n",
    "    ntc=input(\"enter NTC number=\")\n",
    "    ncell=input(\"enter ncell number\")\n",
    "    a[name]=[ntc,ncell]\n",
    "print(a)\n",
    "            \n",
    "\n"
   ]
  },
  {
   "cell_type": "code",
   "execution_count": null,
   "id": "25b92471-6ad4-4648-b923-858f58103018",
   "metadata": {},
   "outputs": [],
   "source": []
  },
  {
   "cell_type": "code",
   "execution_count": 63,
   "id": "18996086-4c83-4431-8fcc-7aa0c637ebc9",
   "metadata": {},
   "outputs": [
    {
     "name": "stdin",
     "output_type": "stream",
     "text": [
      "Enter number of rows= 2\n",
      "enter name = Ram\n",
      "enter NTC number= 980111\n",
      "enter ncell number 890222\n",
      "enter name = Shyam\n",
      "enter NTC number= 981000\n",
      "enter ncell number 981111\n"
     ]
    },
    {
     "name": "stdout",
     "output_type": "stream",
     "text": [
      "{'name': ['Ram', 'Shyam'], 'ntc': ['980111', '981000'], 'ncell': ['890222', '981111']}\n"
     ]
    }
   ],
   "source": [
    "# a={'name':['Ram','Shyam','Hari'],\n",
    "#    'Ntc':[980111,980222,980333],\n",
    "#    'add':['981000','981111','981222']}\n",
    "\n",
    "\n",
    "a={\"name\":[],\n",
    "  \"ntc\":[],\n",
    "  \"ncell\":[]}\n",
    "n=int(input(\"Enter number of rows=\"))\n",
    "for i in range(n):\n",
    "    name=input(\"enter name =\")\n",
    "    ntc=input(\"enter NTC number=\")\n",
    "    ncell=input(\"enter ncell number\")\n",
    "    a[\"name\"].append(name)                  ## syntax \n",
    "    a[\"ntc\"].append(ntc)\n",
    "    a[\"ncell\"].append(ncell)\n",
    "print(a)\n",
    "            "
   ]
  },
  {
   "cell_type": "code",
   "execution_count": null,
   "id": "e9fdfe40-bff9-4d3f-802f-e822416a2fe8",
   "metadata": {},
   "outputs": [],
   "source": []
  },
  {
   "cell_type": "code",
   "execution_count": 13,
   "id": "443d1616-8655-463d-84e7-47a0dca11f6d",
   "metadata": {},
   "outputs": [
    {
     "name": "stdout",
     "output_type": "stream",
     "text": [
      "9851012345\n"
     ]
    }
   ],
   "source": [
    "# Indexing \n",
    "a={'Ram':['9851012345','9802100123'],'Shyam':['9851012346','9802100234'],\n",
    "'Hari':['9851012347','9802100345']}\n",
    "print(a['Ram'][0])                                ##syntax\n"
   ]
  },
  {
   "cell_type": "code",
   "execution_count": null,
   "id": "2f4f6007-48ac-4afa-b496-6a89d4659118",
   "metadata": {},
   "outputs": [],
   "source": []
  },
  {
   "cell_type": "code",
   "execution_count": null,
   "id": "e2c757e8-8425-4e1a-b902-8de8eaf44288",
   "metadata": {},
   "outputs": [],
   "source": []
  },
  {
   "cell_type": "code",
   "execution_count": null,
   "id": "abcdff0b-f915-4cec-a9cc-777bd5f67f36",
   "metadata": {},
   "outputs": [],
   "source": []
  },
  {
   "cell_type": "code",
   "execution_count": 6,
   "id": "67e53ed8-8e2c-4dec-946c-d440959873e6",
   "metadata": {},
   "outputs": [
    {
     "data": {
      "text/plain": [
       "{'Ram': [98400000, '9802100123'],\n",
       " 'Shyam': ['9851012346', '9802100234'],\n",
       " 'Hari': ['9851012347', '9802100345']}"
      ]
     },
     "execution_count": 6,
     "metadata": {},
     "output_type": "execute_result"
    }
   ],
   "source": [
    "# Update\n",
    "a={'Ram':['9851012345','9802100123'],'Shyam':['9851012346','9802100234'],\n",
    "'Hari':['9851012347','9802100345']}\n",
    "a['Ram'][0]=98400000\n",
    "a"
   ]
  },
  {
   "cell_type": "code",
   "execution_count": null,
   "id": "4c756989-b13c-422a-ae94-0eec2ec0e580",
   "metadata": {},
   "outputs": [],
   "source": []
  },
  {
   "cell_type": "code",
   "execution_count": 11,
   "id": "1429867d-71ab-43fb-80cf-71de37558d9d",
   "metadata": {},
   "outputs": [
    {
     "name": "stdout",
     "output_type": "stream",
     "text": [
      "Ram\n",
      "9851012346\n",
      "9851012347\n"
     ]
    }
   ],
   "source": [
    "# Update\n",
    "a={'name':['Ram','Shyam'],'ntc':['9851012346','9802100234'],\n",
    "'ncell':['9851012347','9802100345']}\n",
    "print(a['name'][0])\n",
    "print(a['ntc'][0])\n",
    "print(a['ncell'][0])\n"
   ]
  },
  {
   "cell_type": "code",
   "execution_count": null,
   "id": "397c24ad-2d9a-470b-a504-9ddebb5696dc",
   "metadata": {},
   "outputs": [],
   "source": []
  },
  {
   "cell_type": "code",
   "execution_count": null,
   "id": "845e8383-0306-45f1-adb2-78e5d3dc5afc",
   "metadata": {},
   "outputs": [],
   "source": [
    "#Dictionary inside list "
   ]
  },
  {
   "cell_type": "code",
   "execution_count": null,
   "id": "91a364e8-292a-4db5-9007-b5aa7928c998",
   "metadata": {},
   "outputs": [],
   "source": []
  },
  {
   "cell_type": "code",
   "execution_count": 17,
   "id": "f5779669-2ce2-4a5e-9eeb-67fb68dd7d38",
   "metadata": {},
   "outputs": [
    {
     "data": {
      "text/plain": [
       "[{'name': 'Ram', 'ntc': 9845667645, 'ncell': 980800000},\n",
       " {'name': 'Shyam', 'ntc': 9845667646, 'ncell': 980800001},\n",
       " {'name': 'Hari', 'ntc': 9845667647, 'ncell': 980800002}]"
      ]
     },
     "execution_count": 17,
     "metadata": {},
     "output_type": "execute_result"
    }
   ],
   "source": [
    "l=[{'name':'Ram','ntc':9845667645,'ncell':980800000},\n",
    "   {'name':'Shyam','ntc':9845667646,'ncell':980800001},\n",
    "    {'name':'Hari','ntc':9845667647,'ncell':980800002}]\n",
    "l\n",
    "   "
   ]
  },
  {
   "cell_type": "code",
   "execution_count": null,
   "id": "ad103330-a02e-4d18-bf1f-02a2b0e89588",
   "metadata": {},
   "outputs": [],
   "source": []
  },
  {
   "cell_type": "code",
   "execution_count": 20,
   "id": "b2824a97-8d57-4011-a43b-7c53f867ed2d",
   "metadata": {},
   "outputs": [
    {
     "name": "stdin",
     "output_type": "stream",
     "text": [
      "Enter number of rows= 2\n",
      "enter name = Ram\n",
      "enter NTC number= 123\n",
      "enter ncell number 980\n",
      "enter name = Shyam\n",
      "enter NTC number= 980\n",
      "enter ncell number 980\n"
     ]
    },
    {
     "name": "stdout",
     "output_type": "stream",
     "text": [
      "[{'name': 'Ram', 'ntc': '123', 'ncell': '980'}, {'name': 'Shyam', 'ntc': '980', 'ncell': '980'}]\n"
     ]
    }
   ],
   "source": [
    "l=[]\n",
    "\n",
    "n=int(input(\"Enter number of rows=\"))\n",
    "for i in range(n):\n",
    "    name=input(\"enter name =\")\n",
    "    ntc=input(\"enter NTC number=\")\n",
    "    ncell=input(\"enter ncell number\")\n",
    "    x={'name':name,'ntc':ntc,'ncell':ncell}\n",
    "    l.append(x)                 #append\n",
    "print(l)\n",
    "         "
   ]
  },
  {
   "cell_type": "code",
   "execution_count": 26,
   "id": "3c43d331-0b2b-4287-8076-aaa490e3908c",
   "metadata": {},
   "outputs": [
    {
     "name": "stdout",
     "output_type": "stream",
     "text": [
      "{'name': 'Ram', 'ntc': '123', 'ncell': '980'}\n",
      "123\n"
     ]
    }
   ],
   "source": [
    "l=[{'name': 'Ram', 'ntc': '123', 'ncell': '980'}, {'name': 'Shyam', 'ntc': '980', 'ncell': '980'}]\n",
    "print(l[0])\n",
    "print(l[0]['ntc']) "
   ]
  },
  {
   "cell_type": "code",
   "execution_count": 27,
   "id": "c2634418-5f0f-4844-ade1-d83f82802997",
   "metadata": {},
   "outputs": [],
   "source": [
    "l[0]['ntc']='984100000'"
   ]
  },
  {
   "cell_type": "code",
   "execution_count": 28,
   "id": "eb9f472d-9006-4bef-906a-b9bb0172c52d",
   "metadata": {},
   "outputs": [
    {
     "name": "stdout",
     "output_type": "stream",
     "text": [
      "984100000\n"
     ]
    }
   ],
   "source": [
    "print(l[0]['ntc'])"
   ]
  },
  {
   "cell_type": "code",
   "execution_count": null,
   "id": "1f4ce106-ba1c-4e44-8286-5e3fa7c9d6aa",
   "metadata": {},
   "outputs": [],
   "source": []
  },
  {
   "cell_type": "code",
   "execution_count": null,
   "id": "af0c324c-1cf8-493f-b13d-7a13125c74c5",
   "metadata": {},
   "outputs": [],
   "source": [
    "## DICTIONARY INSIDE DICTIONARY "
   ]
  },
  {
   "cell_type": "code",
   "execution_count": 32,
   "id": "da084d5f-654b-4ba8-8582-737a536ae742",
   "metadata": {},
   "outputs": [
    {
     "name": "stdout",
     "output_type": "stream",
     "text": [
      "{1: {'name': 'Ram', 'ntc': '980123123', 'ncell': '980234234'}, 2: {'name': 'Shyam', 'ntc': '980123124', 'ncell': '980234234'}}\n"
     ]
    }
   ],
   "source": [
    "d={1:{'name': 'Ram', 'ntc': '980123123', 'ncell': '980234234'},\n",
    "   2:{'name': 'Shyam', 'ntc': '980123124', 'ncell': '980234234'}}\n",
    "print(d)\n"
   ]
  },
  {
   "cell_type": "code",
   "execution_count": null,
   "id": "f24089be-7821-48dc-bebb-1a601f77992b",
   "metadata": {},
   "outputs": [],
   "source": []
  },
  {
   "cell_type": "code",
   "execution_count": 33,
   "id": "657d7403-2d0b-4e6e-b57e-681b0125a201",
   "metadata": {},
   "outputs": [
    {
     "name": "stdin",
     "output_type": "stream",
     "text": [
      "Enter number of rows= 2\n",
      "enter name = Ram\n",
      "enter NTC number= 980123123\n",
      "enter ncell number 980234234\n",
      "enter name = Shyam\n",
      "enter NTC number= 123124\n",
      "enter ncell number 234235\n"
     ]
    },
    {
     "name": "stdout",
     "output_type": "stream",
     "text": [
      "{1: {'name': 'Ram', 'ntc': '980123123', 'ncell': '980234234'}, 2: {'name': 'Shyam', 'ntc': '123124', 'ncell': '234235'}}\n"
     ]
    }
   ],
   "source": [
    "l={}\n",
    "\n",
    "n=int(input(\"Enter number of rows=\"))\n",
    "for i in range(1,n+1):                             \n",
    "    name=input(\"enter name =\")\n",
    "    ntc=input(\"enter NTC number=\")\n",
    "    ncell=input(\"enter ncell number\")\n",
    "    x={'name':name,'ntc':ntc,'ncell':ncell}\n",
    "    l[i]=x                                          #Syntax\n",
    "print(l)"
   ]
  },
  {
   "cell_type": "code",
   "execution_count": null,
   "id": "a79b7c22-0a97-4239-baf8-335fdde7cf8e",
   "metadata": {},
   "outputs": [],
   "source": []
  },
  {
   "cell_type": "code",
   "execution_count": 40,
   "id": "4e872bee-3fb2-45a0-a291-b596c4aa938a",
   "metadata": {},
   "outputs": [
    {
     "data": {
      "text/plain": [
       "{1: {'name': 'Ram', 'ntc': '980123123', 'ncell': '980234234'},\n",
       " 2: {'name': 'Shyam', 'ntc': '123124', 'ncell': '234235'},\n",
       " 3: {'name': 'Shyam', 'ntc': '123125', 'ncell': '234236'}}"
      ]
     },
     "execution_count": 40,
     "metadata": {},
     "output_type": "execute_result"
    }
   ],
   "source": [
    "l={}\n",
    "l[1]={'name': 'Ram', 'ntc': '980123123', 'ncell': '980234234'}\n",
    "l[2]={'name': 'Shyam', 'ntc': '123124', 'ncell': '234235'}\n",
    "l[3]={'name': 'Shyam', 'ntc': '123125', 'ncell': '234236'}\n",
    "l\n"
   ]
  },
  {
   "cell_type": "code",
   "execution_count": 41,
   "id": "12675eb4-a40e-4c79-9e7a-6bfba5dee121",
   "metadata": {},
   "outputs": [
    {
     "data": {
      "text/plain": [
       "{'name': 'Ram', 'ntc': '980123123', 'ncell': '980234234'}"
      ]
     },
     "execution_count": 41,
     "metadata": {},
     "output_type": "execute_result"
    }
   ],
   "source": [
    "l[1]"
   ]
  },
  {
   "cell_type": "code",
   "execution_count": 44,
   "id": "8c74600e-6ea2-416a-8a43-d6f65a50781d",
   "metadata": {},
   "outputs": [
    {
     "name": "stdout",
     "output_type": "stream",
     "text": [
      "980123123\n"
     ]
    }
   ],
   "source": [
    "print(l[1]['ntc'])"
   ]
  },
  {
   "cell_type": "code",
   "execution_count": 45,
   "id": "7bc817dd-6023-4639-a79a-ecc360e4dadd",
   "metadata": {},
   "outputs": [
    {
     "data": {
      "text/plain": [
       "{1: {'name': 'Ram', 'ntc': 980123125, 'ncell': '980234234'},\n",
       " 2: {'name': 'Shyam', 'ntc': '123124', 'ncell': '234235'},\n",
       " 3: {'name': 'Shyam', 'ntc': '123125', 'ncell': '234236'}}"
      ]
     },
     "execution_count": 45,
     "metadata": {},
     "output_type": "execute_result"
    }
   ],
   "source": [
    "l[1]['ntc']=980123125\n",
    "l"
   ]
  },
  {
   "cell_type": "code",
   "execution_count": null,
   "id": "8ee2acf0-427e-4da0-91d5-afd249373651",
   "metadata": {},
   "outputs": [],
   "source": []
  },
  {
   "cell_type": "code",
   "execution_count": null,
   "id": "367f8056-fe0e-4595-a5ce-ce5cdf2ca7b9",
   "metadata": {},
   "outputs": [],
   "source": [
    "# WAP to CRUDE \n",
    "\n",
    "# list inside list \n",
    "# dict inside list\n",
    "# list insdie dict\n",
    "# dict inside dict\n",
    "\n",
    "\n"
   ]
  },
  {
   "cell_type": "code",
   "execution_count": null,
   "id": "12c78ee7-5c1f-429a-abb0-a561fc708986",
   "metadata": {},
   "outputs": [],
   "source": []
  },
  {
   "cell_type": "code",
   "execution_count": null,
   "id": "6dad9cf9-00b4-4778-a40e-b373374e1fee",
   "metadata": {},
   "outputs": [],
   "source": []
  },
  {
   "cell_type": "code",
   "execution_count": null,
   "id": "2b607adc-6d43-48ce-8e2c-4dfb31a0c7ac",
   "metadata": {},
   "outputs": [],
   "source": []
  },
  {
   "cell_type": "code",
   "execution_count": null,
   "id": "c33a7d06-e7eb-4d73-8919-c6cae72b8736",
   "metadata": {},
   "outputs": [],
   "source": []
  },
  {
   "cell_type": "code",
   "execution_count": null,
   "id": "91b522e7-98b6-432e-b83c-9f83b21488d0",
   "metadata": {},
   "outputs": [],
   "source": []
  },
  {
   "cell_type": "code",
   "execution_count": null,
   "id": "5e377550-f7ea-4a46-a166-e643598b87a2",
   "metadata": {},
   "outputs": [],
   "source": []
  },
  {
   "cell_type": "code",
   "execution_count": null,
   "id": "373cb08c-6172-464a-b793-af854a9c6b19",
   "metadata": {},
   "outputs": [],
   "source": []
  },
  {
   "cell_type": "code",
   "execution_count": null,
   "id": "5f79530c-c42a-4a3d-9276-424654ac51b1",
   "metadata": {},
   "outputs": [],
   "source": []
  },
  {
   "cell_type": "code",
   "execution_count": null,
   "id": "6c8b2248-5bef-4e37-bed6-e9fa33a61d62",
   "metadata": {},
   "outputs": [],
   "source": []
  },
  {
   "cell_type": "code",
   "execution_count": null,
   "id": "347f2705-45b7-400b-9c93-587be07de9b6",
   "metadata": {},
   "outputs": [],
   "source": []
  },
  {
   "cell_type": "code",
   "execution_count": null,
   "id": "e8c9fe54-6944-4e98-a7fd-95ddedb6e3ef",
   "metadata": {},
   "outputs": [],
   "source": []
  },
  {
   "cell_type": "code",
   "execution_count": null,
   "id": "153b992c-4d37-41e9-aed3-c6ea000676e3",
   "metadata": {},
   "outputs": [],
   "source": []
  },
  {
   "cell_type": "code",
   "execution_count": null,
   "id": "f891042e-e659-4e64-8933-b843b453aee7",
   "metadata": {},
   "outputs": [],
   "source": []
  },
  {
   "cell_type": "code",
   "execution_count": null,
   "id": "0ddc33db-fddc-4959-80f3-0e5739f9cc96",
   "metadata": {},
   "outputs": [],
   "source": []
  },
  {
   "cell_type": "code",
   "execution_count": null,
   "id": "2ca75445-b36b-4037-9b69-4d4f5ebb2819",
   "metadata": {},
   "outputs": [],
   "source": []
  },
  {
   "cell_type": "code",
   "execution_count": null,
   "id": "08147b5f-29b5-422e-b75e-72541a323c3a",
   "metadata": {},
   "outputs": [],
   "source": []
  },
  {
   "cell_type": "code",
   "execution_count": null,
   "id": "c3dbcec9-0021-4a76-9566-715bfaf66dec",
   "metadata": {},
   "outputs": [],
   "source": []
  },
  {
   "cell_type": "code",
   "execution_count": null,
   "id": "e933cc5b-8e0a-4f51-8e5f-1b8ff5a8b136",
   "metadata": {},
   "outputs": [],
   "source": []
  },
  {
   "cell_type": "code",
   "execution_count": null,
   "id": "cd9a2e18-3ea3-4089-958e-0e29365bc3cf",
   "metadata": {},
   "outputs": [],
   "source": []
  },
  {
   "cell_type": "code",
   "execution_count": null,
   "id": "c36f4724-a647-49fb-a6cd-fc4c7fe05994",
   "metadata": {},
   "outputs": [],
   "source": []
  },
  {
   "cell_type": "code",
   "execution_count": null,
   "id": "2fc064a5-0f50-4f24-83c1-f7a5e6203042",
   "metadata": {},
   "outputs": [],
   "source": []
  },
  {
   "cell_type": "code",
   "execution_count": null,
   "id": "278e9a8c-ced5-40e4-998c-15c110f721ab",
   "metadata": {},
   "outputs": [],
   "source": []
  },
  {
   "cell_type": "code",
   "execution_count": null,
   "id": "edf4400e-a4ba-4fc9-acf3-0c4bbba4c2b5",
   "metadata": {},
   "outputs": [],
   "source": []
  },
  {
   "cell_type": "code",
   "execution_count": null,
   "id": "3f97cd7c-e708-4223-85cb-c82dca8e8311",
   "metadata": {},
   "outputs": [],
   "source": [
    "b"
   ]
  },
  {
   "cell_type": "code",
   "execution_count": null,
   "id": "65f9366b-0c7b-4894-bf4f-383992ebc749",
   "metadata": {},
   "outputs": [],
   "source": []
  },
  {
   "cell_type": "code",
   "execution_count": null,
   "id": "a04c7111-3485-44c6-b9c7-da387e75f8f1",
   "metadata": {},
   "outputs": [],
   "source": []
  },
  {
   "cell_type": "code",
   "execution_count": null,
   "id": "90c0a080-6331-4f31-9e60-1dcb3843eb4c",
   "metadata": {},
   "outputs": [],
   "source": []
  },
  {
   "cell_type": "code",
   "execution_count": null,
   "id": "92c98b29-d826-4463-a3ef-f9b26380508d",
   "metadata": {},
   "outputs": [],
   "source": []
  },
  {
   "cell_type": "code",
   "execution_count": null,
   "id": "d2b90d18-66ec-46a6-b5b6-9f53f0c66fcc",
   "metadata": {},
   "outputs": [],
   "source": []
  },
  {
   "cell_type": "code",
   "execution_count": null,
   "id": "87293988-a437-4519-96db-2a4f936f7943",
   "metadata": {},
   "outputs": [],
   "source": []
  },
  {
   "cell_type": "code",
   "execution_count": null,
   "id": "277c0473-df7a-4b54-a579-e752be122954",
   "metadata": {},
   "outputs": [],
   "source": []
  },
  {
   "cell_type": "code",
   "execution_count": null,
   "id": "bc3f6133-2a82-4c13-b20a-9d44adf5b650",
   "metadata": {},
   "outputs": [],
   "source": []
  },
  {
   "cell_type": "code",
   "execution_count": null,
   "id": "d9953efc-9590-48eb-9223-2917caf7b452",
   "metadata": {},
   "outputs": [],
   "source": []
  },
  {
   "cell_type": "code",
   "execution_count": null,
   "id": "ad3663c5-3c16-46e8-8608-5c6997a9b52e",
   "metadata": {},
   "outputs": [],
   "source": []
  },
  {
   "cell_type": "code",
   "execution_count": null,
   "id": "fd74779e-b957-469e-b31c-cb58fd9ca99e",
   "metadata": {},
   "outputs": [],
   "source": []
  }
 ],
 "metadata": {
  "kernelspec": {
   "display_name": "Python 3 (ipykernel)",
   "language": "python",
   "name": "python3"
  },
  "language_info": {
   "codemirror_mode": {
    "name": "ipython",
    "version": 3
   },
   "file_extension": ".py",
   "mimetype": "text/x-python",
   "name": "python",
   "nbconvert_exporter": "python",
   "pygments_lexer": "ipython3",
   "version": "3.12.7"
  }
 },
 "nbformat": 4,
 "nbformat_minor": 5
}
