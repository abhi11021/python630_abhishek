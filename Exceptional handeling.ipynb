{
 "cells": [
  {
   "cell_type": "code",
   "execution_count": 1,
   "id": "5592186d-6a43-40a6-b50c-f9a53eb2e740",
   "metadata": {},
   "outputs": [],
   "source": [
    "# try:                        #Executed excpet part if any error in try statement.\n",
    "#     <operation>\n",
    "# except:\n",
    "#     <operaiton>\n",
    "    \n",
    "     "
   ]
  },
  {
   "cell_type": "code",
   "execution_count": 9,
   "id": "ddc1f147-3fd0-4026-ae69-4f445bbcf78b",
   "metadata": {},
   "outputs": [
    {
     "name": "stdin",
     "output_type": "stream",
     "text": [
      "enter a=  10.5\n"
     ]
    },
    {
     "name": "stdout",
     "output_type": "stream",
     "text": [
      "There is some error\n"
     ]
    }
   ],
   "source": [
    "try:\n",
    "    a=int(input(\"enter a= \"))\n",
    "    b=int(input(\"enter b= \"))\n",
    "    c=a/b\n",
    "    print(c)\n",
    "except:\n",
    "    print(\"There is some error\")\n",
    "    "
   ]
  },
  {
   "cell_type": "code",
   "execution_count": null,
   "id": "4bf8281b-eb3b-484e-b911-9a5006b6ce1e",
   "metadata": {},
   "outputs": [],
   "source": []
  },
  {
   "cell_type": "code",
   "execution_count": 10,
   "id": "18857358-ed82-4d7f-955a-ff84ee1996bc",
   "metadata": {},
   "outputs": [
    {
     "name": "stdin",
     "output_type": "stream",
     "text": [
      "enter a=  1\n",
      "enter b=  1\n"
     ]
    },
    {
     "name": "stdout",
     "output_type": "stream",
     "text": [
      "1.0\n"
     ]
    }
   ],
   "source": [
    "try:\n",
    "    a=int(input(\"enter a= \"))\n",
    "    b=int(input(\"enter b= \"))\n",
    "    c=a/b\n",
    "    print(c)\n",
    "except ValueError:\n",
    "    print(\"There should enter only int value\")\n",
    "except ZeroDivisionError:\n",
    "    print(\"The value of b can not be zero\")\n",
    "    "
   ]
  },
  {
   "cell_type": "code",
   "execution_count": 18,
   "id": "42e58c47-fc00-42ba-b128-088dedfe0326",
   "metadata": {},
   "outputs": [
    {
     "name": "stdin",
     "output_type": "stream",
     "text": [
      "enter user name =  11\n",
      "enter password =  11\n"
     ]
    },
    {
     "name": "stdout",
     "output_type": "stream",
     "text": [
      "There is some error\n"
     ]
    }
   ],
   "source": [
    "username = \"admin\"\n",
    "password =\"admin\"\n",
    "\n",
    "try:\n",
    "    user=input(\"enter user name = \")\n",
    "    pas=input(\"enter password = \")\n",
    "    if username == user and pas== password:\n",
    "        print(\"You are logged in\")\n",
    "    else:\n",
    "        raise ValueError\n",
    "except:\n",
    "    print(\"\"user name and password doesnot match\"\")\n",
    "    \n"
   ]
  },
  {
   "cell_type": "code",
   "execution_count": 26,
   "id": "e6f96ebd-06f2-403c-a083-7b3079557d34",
   "metadata": {},
   "outputs": [
    {
     "name": "stdin",
     "output_type": "stream",
     "text": [
      "enter user name =  aaa\n",
      "enter password =  aaa\n"
     ]
    },
    {
     "name": "stdout",
     "output_type": "stream",
     "text": [
      "user name and password doesnot match\n"
     ]
    },
    {
     "name": "stdin",
     "output_type": "stream",
     "text": [
      "enter user name =  ww\n",
      "enter password =  www\n"
     ]
    },
    {
     "name": "stdout",
     "output_type": "stream",
     "text": [
      "user name and password doesnot match\n"
     ]
    },
    {
     "name": "stdin",
     "output_type": "stream",
     "text": [
      "enter user name =  admin\n",
      "enter password =  admin\n"
     ]
    },
    {
     "name": "stdout",
     "output_type": "stream",
     "text": [
      "You are logged in 3 attempt\n"
     ]
    }
   ],
   "source": [
    "username = \"admin\"\n",
    "password =\"admin\"\n",
    "c=1\n",
    "def login():\n",
    "    global c\n",
    "    try:\n",
    "        user=input(\"enter user name = \")\n",
    "        pas=input(\"enter password = \")\n",
    "        if username == user and pas== password:\n",
    "            print(f\"You are logged in {c} attempt\")\n",
    "        else:\n",
    "            raise ValueError\n",
    "    except:\n",
    "        print(\"user name and password doesnot match\")\n",
    "        c=c+1\n",
    "        login()\n",
    "\n",
    "login()\n",
    "\n",
    "    "
   ]
  },
  {
   "cell_type": "code",
   "execution_count": 28,
   "id": "5e70ce61-0a6f-4793-b440-7d33b4837ef2",
   "metadata": {},
   "outputs": [
    {
     "name": "stdin",
     "output_type": "stream",
     "text": [
      "enter a=  a\n"
     ]
    },
    {
     "name": "stdout",
     "output_type": "stream",
     "text": [
      "There is some error\n"
     ]
    }
   ],
   "source": [
    "try:\n",
    "    a=int(input(\"enter a= \"))\n",
    "    b=int(input(\"enter b= \"))\n",
    "    c=a/b\n",
    "except:\n",
    "       print(\"There is some error\")\n",
    "else: \n",
    "    print(c)"
   ]
  },
  {
   "cell_type": "code",
   "execution_count": 33,
   "id": "70f0c5f9-4c0f-459e-952b-0d8d438a5fc3",
   "metadata": {},
   "outputs": [
    {
     "name": "stdout",
     "output_type": "stream",
     "text": [
      "Name,Age,Address\n",
      "\n",
      "\n"
     ]
    }
   ],
   "source": [
    "try:\n",
    "    file=open('data.csv','r')\n",
    "except:\n",
    "    print(\"There is no such file\")\n",
    "else:\n",
    "    print(file.read())\n",
    "    file.close()"
   ]
  },
  {
   "cell_type": "code",
   "execution_count": null,
   "id": "2267741a-8d6f-42b7-a954-2ab4f6697ef9",
   "metadata": {},
   "outputs": [],
   "source": [
    "#Assert Statement"
   ]
  },
  {
   "cell_type": "code",
   "execution_count": 35,
   "id": "a3dd7446-b1b9-4664-a34b-1eda64dd9975",
   "metadata": {},
   "outputs": [
    {
     "name": "stdin",
     "output_type": "stream",
     "text": [
      "Enter age 18\n"
     ]
    },
    {
     "ename": "AssertionError",
     "evalue": "",
     "output_type": "error",
     "traceback": [
      "\u001b[1;31m---------------------------------------------------------------------------\u001b[0m",
      "\u001b[1;31mAssertionError\u001b[0m                            Traceback (most recent call last)",
      "Cell \u001b[1;32mIn[35], line 2\u001b[0m\n\u001b[0;32m      1\u001b[0m age \u001b[38;5;241m=\u001b[39m \u001b[38;5;28mint\u001b[39m (\u001b[38;5;28minput\u001b[39m(\u001b[38;5;124m\"\u001b[39m\u001b[38;5;124mEnter age\u001b[39m\u001b[38;5;124m\"\u001b[39m))\n\u001b[1;32m----> 2\u001b[0m \u001b[38;5;28;01massert\u001b[39;00m age\u001b[38;5;241m>\u001b[39m\u001b[38;5;241m20\u001b[39m\n",
      "\u001b[1;31mAssertionError\u001b[0m: "
     ]
    }
   ],
   "source": [
    "age = int (input(\"Enter age\"))\n",
    "assert age>20"
   ]
  },
  {
   "cell_type": "code",
   "execution_count": 36,
   "id": "3a33daeb-35bb-4fdf-b84d-4243cd829d97",
   "metadata": {},
   "outputs": [
    {
     "name": "stdin",
     "output_type": "stream",
     "text": [
      "Enter age 21\n"
     ]
    },
    {
     "name": "stdout",
     "output_type": "stream",
     "text": [
      "Welcome\n"
     ]
    }
   ],
   "source": [
    "age = int (input(\"Enter age\"))\n",
    "assert age>20\n",
    "print(\"Welcome\")"
   ]
  },
  {
   "cell_type": "code",
   "execution_count": 40,
   "id": "4ead8915-e697-4ea6-bd0e-45613176b60f",
   "metadata": {},
   "outputs": [
    {
     "name": "stdin",
     "output_type": "stream",
     "text": [
      "Enter age 33\n"
     ]
    },
    {
     "name": "stdout",
     "output_type": "stream",
     "text": [
      "Welcome\n"
     ]
    }
   ],
   "source": [
    "age = int (input(\"Enter age\"))\n",
    "try:\n",
    "    assert age>20\n",
    "except:\n",
    "    print(\"you are under age\")\n",
    "else: \n",
    "    print(\"Welcome\")"
   ]
  },
  {
   "cell_type": "code",
   "execution_count": 52,
   "id": "97ce210d-dc2b-4e64-9f86-d0351e3af35d",
   "metadata": {},
   "outputs": [
    {
     "name": "stdin",
     "output_type": "stream",
     "text": [
      "Enter 1 for ntc and 2 for ncell =  2\n",
      "Enter Sn =  2\n"
     ]
    },
    {
     "name": "stdout",
     "output_type": "stream",
     "text": [
      "The person dont have the number\n"
     ]
    }
   ],
   "source": [
    "#\n",
    "d={1:{'name':'Ram','ntc':9802100237,'ncell':9802100222},\n",
    "  2:{'name':'Rama','ntc':9802100237}}\n",
    "try: \n",
    "    x=int(input(\"Enter 1 for ntc and 2 for ncell = \"))\n",
    "    i=int(input(\"Enter Sn = \"))\n",
    "    if x==1:\n",
    "          ntc_no=d[i]['ntc']\n",
    "          print(ntc_no)\n",
    "    else:\n",
    "        ncell_no=d[i]['ncell']\n",
    "        print(ncell_no)\n",
    "except:\n",
    "    print(\"The person dont have the number\")\n",
    "    \n",
    "    \n",
    "    \n"
   ]
  },
  {
   "cell_type": "code",
   "execution_count": null,
   "id": "a6f15722-f67d-40c0-84c5-f1ac70058ad2",
   "metadata": {},
   "outputs": [],
   "source": []
  },
  {
   "cell_type": "code",
   "execution_count": null,
   "id": "56df56c8-eb23-4939-8a1c-29db91b60e4e",
   "metadata": {},
   "outputs": [],
   "source": []
  },
  {
   "cell_type": "code",
   "execution_count": null,
   "id": "667dd835-a31a-4283-93f9-a6771dca3d0b",
   "metadata": {},
   "outputs": [],
   "source": []
  },
  {
   "cell_type": "code",
   "execution_count": null,
   "id": "0eadf595-ffcf-4cd3-8140-7ee47c3a6cb4",
   "metadata": {},
   "outputs": [],
   "source": []
  },
  {
   "cell_type": "code",
   "execution_count": null,
   "id": "6eb43550-d664-4d2a-a709-a741a0c73d00",
   "metadata": {},
   "outputs": [],
   "source": []
  },
  {
   "cell_type": "code",
   "execution_count": null,
   "id": "e986b78f-4cd0-4e34-a67f-d85607197ce2",
   "metadata": {},
   "outputs": [],
   "source": []
  },
  {
   "cell_type": "code",
   "execution_count": null,
   "id": "047dafb9-e813-4ad7-8996-ae2b9bb1b876",
   "metadata": {},
   "outputs": [],
   "source": []
  },
  {
   "cell_type": "code",
   "execution_count": null,
   "id": "2a815fb5-a3cd-4571-b6cb-44c802e150b6",
   "metadata": {},
   "outputs": [],
   "source": []
  },
  {
   "cell_type": "code",
   "execution_count": null,
   "id": "bc417493-7397-4392-8211-62b8de2b001c",
   "metadata": {},
   "outputs": [],
   "source": []
  },
  {
   "cell_type": "code",
   "execution_count": null,
   "id": "45668666-a4bb-4daa-8b8d-dc97401ef35e",
   "metadata": {},
   "outputs": [],
   "source": []
  },
  {
   "cell_type": "code",
   "execution_count": null,
   "id": "ece0ffb4-9574-48f7-9241-94515fe600c9",
   "metadata": {},
   "outputs": [],
   "source": []
  },
  {
   "cell_type": "code",
   "execution_count": null,
   "id": "82690ea3-6340-43ea-a2a6-efb66b1898ba",
   "metadata": {},
   "outputs": [],
   "source": []
  },
  {
   "cell_type": "code",
   "execution_count": null,
   "id": "4c653c5c-85ce-4c61-bedf-4bfdf30eca4a",
   "metadata": {},
   "outputs": [],
   "source": []
  },
  {
   "cell_type": "code",
   "execution_count": null,
   "id": "71051c6e-2dec-4a11-a37a-8389177b972c",
   "metadata": {},
   "outputs": [],
   "source": []
  },
  {
   "cell_type": "code",
   "execution_count": null,
   "id": "0593df83-e791-49bd-b524-e1d3257c7542",
   "metadata": {},
   "outputs": [],
   "source": []
  },
  {
   "cell_type": "code",
   "execution_count": null,
   "id": "b1e451db-f1c4-4ad5-968d-56992fcce5fa",
   "metadata": {},
   "outputs": [],
   "source": []
  },
  {
   "cell_type": "code",
   "execution_count": null,
   "id": "36fc1be0-42d2-4411-b568-a05598c784da",
   "metadata": {},
   "outputs": [],
   "source": []
  },
  {
   "cell_type": "code",
   "execution_count": null,
   "id": "c18a8b49-1033-47b2-a14e-7a729b82c187",
   "metadata": {},
   "outputs": [],
   "source": []
  },
  {
   "cell_type": "code",
   "execution_count": null,
   "id": "20949007-2ed5-40c1-9866-596b49aaaf61",
   "metadata": {},
   "outputs": [],
   "source": []
  },
  {
   "cell_type": "code",
   "execution_count": null,
   "id": "65390623-83b1-4520-9c6a-a98f51eb6d00",
   "metadata": {},
   "outputs": [],
   "source": []
  },
  {
   "cell_type": "code",
   "execution_count": null,
   "id": "0f1585ec-0144-4f6f-a7d0-1e6d88cbdd89",
   "metadata": {},
   "outputs": [],
   "source": []
  },
  {
   "cell_type": "code",
   "execution_count": null,
   "id": "e119e048-e587-4b1a-a604-b60073fb21d6",
   "metadata": {},
   "outputs": [],
   "source": []
  },
  {
   "cell_type": "code",
   "execution_count": null,
   "id": "e2eade46-cbb5-47a9-8ca2-55c3db26f9e3",
   "metadata": {},
   "outputs": [],
   "source": []
  },
  {
   "cell_type": "code",
   "execution_count": null,
   "id": "9b3c4d8f-2b01-403d-8666-048fc9ad5451",
   "metadata": {},
   "outputs": [],
   "source": []
  },
  {
   "cell_type": "code",
   "execution_count": null,
   "id": "b87f9ae0-d27b-4ea7-bac3-a674177489df",
   "metadata": {},
   "outputs": [],
   "source": []
  },
  {
   "cell_type": "code",
   "execution_count": null,
   "id": "14bd5af7-d850-42f4-a1c6-fa018e7e2673",
   "metadata": {},
   "outputs": [],
   "source": []
  },
  {
   "cell_type": "code",
   "execution_count": null,
   "id": "b59e807a-dcf1-4fa7-bba4-50806de18cb9",
   "metadata": {},
   "outputs": [],
   "source": []
  },
  {
   "cell_type": "code",
   "execution_count": null,
   "id": "5ce035ca-5833-4a11-8a13-1151eaacd510",
   "metadata": {},
   "outputs": [],
   "source": []
  },
  {
   "cell_type": "code",
   "execution_count": null,
   "id": "f4d0c67f-5b73-4b28-9f39-de2ec26c9531",
   "metadata": {},
   "outputs": [],
   "source": []
  },
  {
   "cell_type": "code",
   "execution_count": null,
   "id": "43272a4f-f92b-4cdd-bcc5-87d30f69ed16",
   "metadata": {},
   "outputs": [],
   "source": []
  },
  {
   "cell_type": "code",
   "execution_count": null,
   "id": "b771f7f2-0142-48f0-8f76-25e815e70688",
   "metadata": {},
   "outputs": [],
   "source": []
  },
  {
   "cell_type": "code",
   "execution_count": null,
   "id": "1e6e2067-8dea-44c3-aae4-6811516d1cbc",
   "metadata": {},
   "outputs": [],
   "source": []
  },
  {
   "cell_type": "code",
   "execution_count": null,
   "id": "41209df1-eec7-4a73-9131-49e62d7034c2",
   "metadata": {},
   "outputs": [],
   "source": []
  },
  {
   "cell_type": "code",
   "execution_count": null,
   "id": "8a149cbd-a27c-434e-9151-94989c543d56",
   "metadata": {},
   "outputs": [],
   "source": []
  },
  {
   "cell_type": "code",
   "execution_count": null,
   "id": "ee403933-0c42-4059-9eb9-2a947ddd191c",
   "metadata": {},
   "outputs": [],
   "source": []
  },
  {
   "cell_type": "code",
   "execution_count": null,
   "id": "f22b0254-c715-4699-9d06-73935c96e8b7",
   "metadata": {},
   "outputs": [],
   "source": []
  },
  {
   "cell_type": "code",
   "execution_count": null,
   "id": "8cfad69d-8917-4eeb-87a1-a1a7a4c15374",
   "metadata": {},
   "outputs": [],
   "source": []
  },
  {
   "cell_type": "code",
   "execution_count": null,
   "id": "efe9f903-7c3b-4c4e-a6da-6f90f73bb3c8",
   "metadata": {},
   "outputs": [],
   "source": []
  }
 ],
 "metadata": {
  "kernelspec": {
   "display_name": "Python 3 (ipykernel)",
   "language": "python",
   "name": "python3"
  },
  "language_info": {
   "codemirror_mode": {
    "name": "ipython",
    "version": 3
   },
   "file_extension": ".py",
   "mimetype": "text/x-python",
   "name": "python",
   "nbconvert_exporter": "python",
   "pygments_lexer": "ipython3",
   "version": "3.12.7"
  }
 },
 "nbformat": 4,
 "nbformat_minor": 5
}
