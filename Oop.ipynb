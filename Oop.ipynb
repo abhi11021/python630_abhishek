{
 "cells": [
  {
   "cell_type": "code",
   "execution_count": 1,
   "id": "5826b0bf-3b20-4d2b-8593-6f466d14d04c",
   "metadata": {},
   "outputs": [],
   "source": [
    "#class <class_name>:   #defining class\n",
    "#method\n",
    "#obj=<class_name() #object\n"
   ]
  },
  {
   "cell_type": "code",
   "execution_count": 7,
   "id": "64843950-d979-49d6-8aa0-41eb4635ac19",
   "metadata": {},
   "outputs": [
    {
     "name": "stdout",
     "output_type": "stream",
     "text": [
      "hello world\n"
     ]
    }
   ],
   "source": [
    "class hello:             #class\n",
    "    def hello(self):    #method\n",
    "        print(\"hello world\")\n",
    "obj=hello()        #object\n",
    "obj.hello()        #calling\n",
    "        "
   ]
  },
  {
   "cell_type": "code",
   "execution_count": null,
   "id": "45206d46-2839-449a-88cb-8d0f7f9fdd62",
   "metadata": {},
   "outputs": [],
   "source": []
  },
  {
   "cell_type": "code",
   "execution_count": 3,
   "id": "7b9be2e5-9181-4dca-80c2-43aef92862e8",
   "metadata": {},
   "outputs": [
    {
     "name": "stdout",
     "output_type": "stream",
     "text": [
      "Hello world\n"
     ]
    }
   ],
   "source": [
    "class Hello:            #class\n",
    "    @staticmethod\n",
    "    def hello():          #method\n",
    "        print(\"Hello world\")\n",
    "obj=Hello()\n",
    "obj.hello()\n"
   ]
  },
  {
   "cell_type": "code",
   "execution_count": 5,
   "id": "f7430843-5097-40e6-a03e-5f2ad4eb0c22",
   "metadata": {},
   "outputs": [
    {
     "name": "stdout",
     "output_type": "stream",
     "text": [
      "Hello world\n"
     ]
    }
   ],
   "source": [
    "class Hello:\n",
    "      def hello(self):\n",
    "        print(\"Hello world\")\n",
    "obj=Hello()\n",
    "obj.hello()"
   ]
  },
  {
   "cell_type": "code",
   "execution_count": 6,
   "id": "455ae2c1-fc91-4dd1-b336-cd38845f7e70",
   "metadata": {},
   "outputs": [
    {
     "name": "stdout",
     "output_type": "stream",
     "text": [
      "50\n"
     ]
    }
   ],
   "source": [
    "class Area:\n",
    "    def area(self,l,b):\n",
    "        a=l*b\n",
    "        print(a)\n",
    "obj=Area()\n",
    "obj.area(10,5)"
   ]
  },
  {
   "cell_type": "code",
   "execution_count": 9,
   "id": "3c597638-9cd3-4f7f-8da9-8ba17f5cd131",
   "metadata": {},
   "outputs": [
    {
     "name": "stdout",
     "output_type": "stream",
     "text": [
      "50\n"
     ]
    }
   ],
   "source": [
    "class Area:\n",
    "    @staticmethod           #Either static or Slef method to be used\n",
    "    def area(l,b):\n",
    "        a=l*b\n",
    "        print(a)\n",
    "obj=Area()\n",
    "obj.area(10,5)"
   ]
  },
  {
   "cell_type": "code",
   "execution_count": 10,
   "id": "4f5ad7c9-b145-43bd-84f8-aee1845bb9b3",
   "metadata": {},
   "outputs": [],
   "source": [
    "#_init_()"
   ]
  },
  {
   "cell_type": "code",
   "execution_count": 19,
   "id": "b6880ade-ae8c-407c-bca2-e7d103cf6a23",
   "metadata": {},
   "outputs": [
    {
     "name": "stdout",
     "output_type": "stream",
     "text": [
      "50\n"
     ]
    }
   ],
   "source": [
    "class Area:\n",
    "    def __init__(self,l,b):    #Initializing syntax , such funciton gets authomatically called.\n",
    "        self.lenght =l\n",
    "        self.breadht = b\n",
    "    \n",
    "    def area(self):\n",
    "        a=self.lenght*self.breadht\n",
    "        print(a)\n",
    "\n",
    "obj=Area(10,5)\n",
    "obj.area()"
   ]
  },
  {
   "cell_type": "code",
   "execution_count": null,
   "id": "c77401a0-8922-4193-8173-dd650c2a8dd8",
   "metadata": {},
   "outputs": [],
   "source": []
  },
  {
   "cell_type": "code",
   "execution_count": 23,
   "id": "2c991310-b9b7-4fbb-83cf-69a669bdae4d",
   "metadata": {},
   "outputs": [
    {
     "name": "stdout",
     "output_type": "stream",
     "text": [
      "50\n",
      "100\n"
     ]
    }
   ],
   "source": [
    "class Area:\n",
    "    def __init__(self,l,b,h):    #Initializing syntax , such funciton gets authomatically called.\n",
    "        self.lenght =l\n",
    "        self.breadht = b\n",
    "        self.height=h\n",
    "    \n",
    "    def area(self):\n",
    "        a=self.lenght*self.breadht\n",
    "        print(a)\n",
    "\n",
    "    def volume(self):\n",
    "        v=self.lenght*self.breadht*self.height\n",
    "        print(v)\n",
    "\n",
    "obj=Area(10,5,2)\n",
    "obj.area()\n",
    "obj.volume()"
   ]
  },
  {
   "cell_type": "code",
   "execution_count": 33,
   "id": "a8dfaec3-9766-4bb6-b6c2-3c9f2d289ca4",
   "metadata": {},
   "outputs": [
    {
     "ename": "IndentationError",
     "evalue": "expected an indented block after function definition on line 6 (1713387130.py, line 7)",
     "output_type": "error",
     "traceback": [
      "\u001b[1;36m  Cell \u001b[1;32mIn[33], line 7\u001b[1;36m\u001b[0m\n\u001b[1;33m    a=self.lenght*self.breadht\u001b[0m\n\u001b[1;37m    ^\u001b[0m\n\u001b[1;31mIndentationError\u001b[0m\u001b[1;31m:\u001b[0m expected an indented block after function definition on line 6\n"
     ]
    }
   ],
   "source": [
    "class Cal:\n",
    "    def __init__(self,l,b):    #Initializing syntax , such funciton gets authomatically called.\n",
    "        self.lenght =l\n",
    "        self.breadht = b\n",
    "   \n",
    "        def area(self):\n",
    "        a=self.lenght*self.breadht\n",
    "        print(a)\n",
    "\n",
    "        def volume(this,h):\n",
    "        v=this.lenght*this.breadht*h\n",
    "        print(v)\n",
    "\n",
    "obj=Cal(10,5)\n",
    "obj.area()\n",
    "obj.volume(2)"
   ]
  },
  {
   "cell_type": "code",
   "execution_count": null,
   "id": "3093f437-b152-4c16-9a96-11dd584ef303",
   "metadata": {},
   "outputs": [],
   "source": []
  },
  {
   "cell_type": "code",
   "execution_count": null,
   "id": "394b52ec-02b5-48d5-99dc-853fee392ae6",
   "metadata": {},
   "outputs": [],
   "source": []
  },
  {
   "cell_type": "code",
   "execution_count": 32,
   "id": "7c464aed-6295-428c-8731-48e22652342b",
   "metadata": {},
   "outputs": [
    {
     "name": "stdout",
     "output_type": "stream",
     "text": [
      "50\n",
      "45\n"
     ]
    }
   ],
   "source": [
    "class Area:\n",
    "    def __init__(self,l,b):\n",
    "        self.l=l\n",
    "        self.b=b\n",
    "\n",
    "    def area(self):\n",
    "        a=self.l*self.b\n",
    "        print(a)\n",
    "        \n",
    "obj = Area(10,5)\n",
    "obj1=Area(15,3)\n",
    "obj.area()\n",
    "obj1.area()"
   ]
  },
  {
   "cell_type": "code",
   "execution_count": 36,
   "id": "63691f0f-c574-49bb-bf19-410b29454f98",
   "metadata": {},
   "outputs": [
    {
     "name": "stdout",
     "output_type": "stream",
     "text": [
      "30\n",
      "100\n"
     ]
    }
   ],
   "source": [
    "class Area:\n",
    "    def __init__(self,l,b):\n",
    "        self.l=l\n",
    "        self.b=b\n",
    "\n",
    "    def area(self):\n",
    "        a=self.l*self.b\n",
    "        print(a)\n",
    "\n",
    "class Volume:\n",
    "    def __init__(self,l,b,h):\n",
    "        self.l=l\n",
    "        self.b=b\n",
    "        self.h=h\n",
    "    def volume (self):\n",
    "        v=self.l*self.b*self.h\n",
    "        print(v)\n",
    "\n",
    "obj_area=Area(10,3)\n",
    "obj_area.area()\n",
    "obj_vol=Volume(10,5,2)\n",
    "obj_vol.volume()"
   ]
  },
  {
   "cell_type": "code",
   "execution_count": null,
   "id": "236833d3-61ae-4297-9f5f-915e245d6c1d",
   "metadata": {},
   "outputs": [],
   "source": []
  },
  {
   "cell_type": "code",
   "execution_count": null,
   "id": "5e937e33-aab7-43b7-a1ce-b287e008ece6",
   "metadata": {},
   "outputs": [],
   "source": [
    "#Polymerphysim\n",
    "# class A:\n",
    "#     <method1>()\n",
    "#     <method2>()\n",
    "\n",
    "# class B:\n",
    "#     <method>()\n",
    "#     <method>()\n",
    "\n",
    "# <define function>   #object as an argumnet\n",
    "# obj1=A()\n",
    "# obj2=B()\n",
    "# funciton(obj1 or obj2)"
   ]
  },
  {
   "cell_type": "code",
   "execution_count": 3,
   "id": "1edaae8c-078f-4d38-bbd8-27090e5e36d1",
   "metadata": {},
   "outputs": [
    {
     "name": "stdout",
     "output_type": "stream",
     "text": [
      "parrot can fly\n",
      "Penguin cannot fly\n"
     ]
    }
   ],
   "source": [
    "class Parrot:\n",
    "    def fly(self):\n",
    "        print(\"parrot can fly\")\n",
    "\n",
    "    def swim(self):\n",
    "        print(\"parrot cannot swim\")\n",
    "\n",
    "class penguin:\n",
    "    def fly(self):\n",
    "        print(\"Penguin cannot fly\")\n",
    "\n",
    "    def swim(self):\n",
    "        print(\"Penguim can swim\")\n",
    "\n",
    "#common interface\n",
    "\n",
    "def flying_test(bird):\n",
    "    bird.fly()\n",
    "\n",
    "#instantiate objects\n",
    "\n",
    "blu=Parrot()\n",
    "peggy=penguin()\n",
    "\n",
    "#passing the object \n",
    "\n",
    "flying_test(blu)           #object as an argument\n",
    "flying_test(peggy)         #object as an argument \n",
    "    \n"
   ]
  },
  {
   "cell_type": "code",
   "execution_count": null,
   "id": "cbd2bacb-c990-4304-9605-a6bc902ff37b",
   "metadata": {},
   "outputs": [],
   "source": []
  },
  {
   "cell_type": "code",
   "execution_count": 4,
   "id": "c9e95bca-e7af-4cc9-8b1c-45f1358bb26d",
   "metadata": {},
   "outputs": [
    {
     "name": "stdout",
     "output_type": "stream",
     "text": [
      "parrot can fly\n",
      "parrot cannot swim\n",
      "Penguin cannot fly\n",
      "Penguim can swim\n"
     ]
    }
   ],
   "source": [
    "class Parrot:\n",
    "    def fly(self):\n",
    "        print(\"parrot can fly\")\n",
    "\n",
    "    def swim(self):\n",
    "        print(\"parrot cannot swim\")\n",
    "\n",
    "class penguin:\n",
    "    def fly(self):\n",
    "        print(\"Penguin cannot fly\")\n",
    "\n",
    "    def swim(self):\n",
    "        print(\"Penguim can swim\")\n",
    "\n",
    "#common interface\n",
    "\n",
    "def flying_test(bird):\n",
    "    bird.fly()\n",
    "    bird.swim()\n",
    "\n",
    "#instantiate objects\n",
    "\n",
    "blu=Parrot()\n",
    "peggy=penguin()\n",
    "\n",
    "#passing the object \n",
    "\n",
    "flying_test(blu)           #object as an argument\n",
    "flying_test(peggy)         #object as an argument \n",
    "    "
   ]
  },
  {
   "cell_type": "code",
   "execution_count": null,
   "id": "a328207e-53a6-445f-8467-f74b85df2c00",
   "metadata": {},
   "outputs": [],
   "source": []
  },
  {
   "cell_type": "code",
   "execution_count": null,
   "id": "3b7300bc-b2dd-4798-a8dd-262d99408202",
   "metadata": {},
   "outputs": [],
   "source": [
    "## __Str__ method \n",
    "#Operator overloading "
   ]
  },
  {
   "cell_type": "code",
   "execution_count": null,
   "id": "b112a35c-cea0-40f5-bec0-45b5d67f8ce1",
   "metadata": {},
   "outputs": [],
   "source": []
  },
  {
   "cell_type": "code",
   "execution_count": 5,
   "id": "b6df5aa0-d615-4f45-a0f4-a4bb61e9b513",
   "metadata": {},
   "outputs": [
    {
     "name": "stdout",
     "output_type": "stream",
     "text": [
      "Ram\n",
      "<class '__main__.Info'>\n",
      "Ram\n"
     ]
    }
   ],
   "source": [
    "class Info:\n",
    "    def __init__(self):\n",
    "        self.name=\"Ram\"\n",
    "        self.age=34\n",
    "        self.add=\"Kathmandu\"\n",
    "    def __str__(self):\n",
    "        return self.name\n",
    "\n",
    "obj = Info()\n",
    "print(obj)          #object\n",
    "print(type(obj))\n",
    "print(str(obj))     #str conversion\n",
    "\n",
    "    \n",
    "    \n"
   ]
  },
  {
   "cell_type": "code",
   "execution_count": null,
   "id": "ff00f9fb-1f69-4ebe-9d2a-6513d78345db",
   "metadata": {},
   "outputs": [],
   "source": []
  },
  {
   "cell_type": "code",
   "execution_count": 6,
   "id": "606015a3-4047-4483-86be-cd10fc36e0fc",
   "metadata": {},
   "outputs": [
    {
     "name": "stdout",
     "output_type": "stream",
     "text": [
      "Kathmandu\n",
      "<class '__main__.Info'>\n",
      "Kathmandu\n"
     ]
    }
   ],
   "source": [
    "class Info:\n",
    "    def __init__(self):\n",
    "        self.name=\"Ram\"\n",
    "        self.age=34\n",
    "        self.add=\"Kathmandu\"\n",
    "    def __str__(self):\n",
    "        return self.add\n",
    "\n",
    "obj = Info()\n",
    "print(obj)          #object    Str is authomatically called once \"print(obj\" is called.\n",
    "print(type(obj))\n",
    "print(str(obj))     #str conversion"
   ]
  },
  {
   "cell_type": "code",
   "execution_count": null,
   "id": "652424aa-6be2-4a3a-91a5-0bfe4189e3be",
   "metadata": {},
   "outputs": [],
   "source": []
  },
  {
   "cell_type": "code",
   "execution_count": 7,
   "id": "9f2bdf3d-e833-42b1-89aa-f9a619bd8de1",
   "metadata": {},
   "outputs": [
    {
     "name": "stdout",
     "output_type": "stream",
     "text": [
      "34\n",
      "<class '__main__.Info'>\n",
      "34\n"
     ]
    }
   ],
   "source": [
    "class Info:\n",
    "    def __init__(self):\n",
    "        self.name=\"Ram\"\n",
    "        self.age=34\n",
    "        self.add=\"Kathmandu\"\n",
    "    def __str__(self):\n",
    "        return str(self.age)\n",
    "\n",
    "obj = Info()\n",
    "print(obj)          #object\n",
    "print(type(obj))\n",
    "print(str(obj))     #str conversion"
   ]
  },
  {
   "cell_type": "code",
   "execution_count": null,
   "id": "54c2656e-a3a8-46b3-8ce4-8fd4535673f4",
   "metadata": {},
   "outputs": [],
   "source": []
  },
  {
   "cell_type": "code",
   "execution_count": null,
   "id": "e11a06e0-0f8d-4e51-833a-d468beadec45",
   "metadata": {},
   "outputs": [],
   "source": [
    "class Info:\n",
    "    def __init__(self):\n",
    "        self.name=\"Ram\"\n",
    "        self.age=34\n",
    "        self.add=\"Kathmandu\"\n",
    "    def __str__(self):\n",
    "        return self.name\n",
    "\n",
    "obj = Info()\n",
    "print(obj)          #object\n",
    "print(type(obj))\n",
    "print(str(obj))     #str conversion\n"
   ]
  },
  {
   "cell_type": "code",
   "execution_count": null,
   "id": "7294a021-6e81-4253-9d77-b76c1f042825",
   "metadata": {},
   "outputs": [],
   "source": []
  },
  {
   "cell_type": "code",
   "execution_count": 8,
   "id": "e42dd309-6c8c-460e-af12-0d4089cea826",
   "metadata": {},
   "outputs": [
    {
     "name": "stdout",
     "output_type": "stream",
     "text": [
      "Hello world I am 34\n"
     ]
    }
   ],
   "source": [
    "print(f\"Hello world I am {obj}\")\n"
   ]
  },
  {
   "cell_type": "code",
   "execution_count": 9,
   "id": "2810479a-93d3-49a9-975f-54c72a8f47ad",
   "metadata": {},
   "outputs": [
    {
     "name": "stdout",
     "output_type": "stream",
     "text": [
      "Hello world I am 34\n"
     ]
    },
    {
     "ename": "TypeError",
     "evalue": "unsupported operand type(s) for +: 'Info' and 'str'",
     "output_type": "error",
     "traceback": [
      "\u001b[1;31m---------------------------------------------------------------------------\u001b[0m",
      "\u001b[1;31mTypeError\u001b[0m                                 Traceback (most recent call last)",
      "Cell \u001b[1;32mIn[9], line 2\u001b[0m\n\u001b[0;32m      1\u001b[0m \u001b[38;5;28mprint\u001b[39m(\u001b[38;5;124mf\u001b[39m\u001b[38;5;124m\"\u001b[39m\u001b[38;5;124mHello world I am \u001b[39m\u001b[38;5;132;01m{\u001b[39;00mobj\u001b[38;5;132;01m}\u001b[39;00m\u001b[38;5;124m\"\u001b[39m)\n\u001b[1;32m----> 2\u001b[0m \u001b[38;5;28mprint\u001b[39m(obj\u001b[38;5;241m+\u001b[39m\u001b[38;5;124m\"\u001b[39m\u001b[38;5;124mShyam\u001b[39m\u001b[38;5;124m\"\u001b[39m)\n",
      "\u001b[1;31mTypeError\u001b[0m: unsupported operand type(s) for +: 'Info' and 'str'"
     ]
    }
   ],
   "source": [
    "print(f\"Hello world I am {obj}\")\n",
    "print(obj+\"Shyam\")     ## cannot concatinate with other statement for such defined info"
   ]
  },
  {
   "cell_type": "code",
   "execution_count": null,
   "id": "96773440-ec3d-4dae-9376-7b8c414aa7e1",
   "metadata": {},
   "outputs": [],
   "source": []
  },
  {
   "cell_type": "code",
   "execution_count": null,
   "id": "58ef96aa-26ae-4fa6-aaf8-c5ebf6c46d26",
   "metadata": {},
   "outputs": [],
   "source": [
    "#Operator Overloading \n"
   ]
  },
  {
   "cell_type": "code",
   "execution_count": null,
   "id": "9821e491-1ed5-4f8c-a797-4ca4ea739b38",
   "metadata": {},
   "outputs": [],
   "source": []
  },
  {
   "cell_type": "code",
   "execution_count": 14,
   "id": "43174d44-c3f8-4f7d-a889-f953b2928849",
   "metadata": {},
   "outputs": [
    {
     "name": "stdout",
     "output_type": "stream",
     "text": [
      "5000\n"
     ]
    }
   ],
   "source": [
    "class Point:\n",
    "    def __init__(self,x=0):\n",
    "        self.x=x\n",
    "    \n",
    "    def __str__(self):\n",
    "        return f\"{self.x}\"\n",
    "\n",
    "    def __add__(self,other):             # this fuction is automatically added when two objects are added (p1+p2) , self represent P1 and other represent p2\n",
    "        x=self.x+other.x\n",
    "        return Point(x)\n",
    "\n",
    "p1=Point(2000)\n",
    "p2=Point(3000)\n",
    "print(p1+p2)\n",
    "    "
   ]
  },
  {
   "cell_type": "code",
   "execution_count": null,
   "id": "df02fb15-dea0-4125-975f-125edac915d0",
   "metadata": {},
   "outputs": [],
   "source": []
  },
  {
   "cell_type": "code",
   "execution_count": 16,
   "id": "8721cd69-2d22-45f6-83f7-9d3c89932dff",
   "metadata": {},
   "outputs": [
    {
     "name": "stdout",
     "output_type": "stream",
     "text": [
      "This is self method 2000\n",
      "This is self method 3000\n",
      "This is self method 1000\n",
      "This is add method 5000\n",
      "This is self method 5000\n",
      "This is str method 5000\n",
      "5000\n"
     ]
    }
   ],
   "source": [
    "class Point:\n",
    "    def __init__(self,x=0):\n",
    "        self.x=x\n",
    "        print (\"This is self method\",self.x)\n",
    "    \n",
    "    def __str__(self):\n",
    "        print(\"This is str method\",self.x)\n",
    "        return f\"{self.x}\"\n",
    "\n",
    "    def __add__(self,other):             # this fuction is automatically added when two objects are added (p1+p2) , self represent P1 and other represent p2 & follwoing numbers\n",
    "        x=self.x+other.x\n",
    "        print(\"This is add method\",x)\n",
    "        return Point(x)\n",
    "\n",
    "p1=Point(2000)\n",
    "p2=Point(3000)\n",
    "p3=Point (1000)\n",
    "print(p1+p2)"
   ]
  },
  {
   "cell_type": "code",
   "execution_count": null,
   "id": "2438f3b7-c241-4977-965e-8886a9cca8c3",
   "metadata": {},
   "outputs": [],
   "source": []
  },
  {
   "cell_type": "code",
   "execution_count": 17,
   "id": "29134a63-932e-4570-9c45-9845b078368f",
   "metadata": {},
   "outputs": [
    {
     "name": "stdout",
     "output_type": "stream",
     "text": [
      "This is init method 2000\n",
      "This is init method 3000\n",
      "This is add method 5000\n",
      "This is init method 5000\n",
      "This is str method 5000\n",
      "5000\n"
     ]
    }
   ],
   "source": [
    "class Point:\n",
    "    def __init__(self,x=0):\n",
    "        self.x=x\n",
    "        print (\"This is init method\",self.x)\n",
    "    \n",
    "    def __str__(self):                   # str metho is call when objects are printed \n",
    "        print(\"This is str method\",self.x)\n",
    "        return f\"{self.x}\"\n",
    "\n",
    "    def __add__(self,other):             # this fuction is automatically added when two objects are added (p1+p2) , self represent P1 and other represent p2 & follwoing numbers\n",
    "        x=self.x+other.x\n",
    "        print(\"This is add method\",x)\n",
    "        return Point(x)\n",
    "\n",
    "p1=Point(2000)\n",
    "p2=Point(3000)\n",
    "print(p1+p2)"
   ]
  },
  {
   "cell_type": "code",
   "execution_count": null,
   "id": "8cd8f92f-2449-48e0-b66d-fce8cb7dbad7",
   "metadata": {},
   "outputs": [],
   "source": []
  },
  {
   "cell_type": "code",
   "execution_count": 19,
   "id": "ec00384c-62e6-453e-bf0c-f83b7fd77c15",
   "metadata": {},
   "outputs": [
    {
     "name": "stdout",
     "output_type": "stream",
     "text": [
      "This is init method 2000\n",
      "This is init method 3000\n",
      "This is init method 1000\n",
      "This is add method 5000\n",
      "This is init method 5000\n",
      "This is add method 6000\n",
      "This is init method 6000\n",
      "This is str method 6000\n",
      "6000\n"
     ]
    }
   ],
   "source": [
    "class Point:\n",
    "    def __init__(self,x=0):\n",
    "        self.x=x\n",
    "        print (\"This is init method\",self.x)\n",
    "    \n",
    "    def __str__(self):                   # str metho is call when objects are printed \n",
    "        print(\"This is str method\",self.x)\n",
    "        return f\"{self.x}\"\n",
    "\n",
    "    def __add__(self,other):             # this fuction is automatically added when two objects are added (p1+p2) , self represent P1 and other represent p2 & follwoing numbers\n",
    "        x=self.x+other.x\n",
    "        print(\"This is add method\",x)\n",
    "        return Point(x)\n",
    "\n",
    "p1=Point(2000)\n",
    "p2=Point(3000)\n",
    "p3=Point(1000)\n",
    "print(p1+p2+p3)"
   ]
  },
  {
   "cell_type": "code",
   "execution_count": null,
   "id": "45f6026f-81fd-4ff2-ae89-5ea140a81596",
   "metadata": {},
   "outputs": [],
   "source": []
  },
  {
   "cell_type": "code",
   "execution_count": null,
   "id": "181a0c14-9d58-45d6-92d4-d360ac6c196b",
   "metadata": {},
   "outputs": [],
   "source": []
  },
  {
   "cell_type": "code",
   "execution_count": null,
   "id": "ce9daf55-8f87-4592-81d1-0188edb6060e",
   "metadata": {},
   "outputs": [],
   "source": []
  },
  {
   "cell_type": "code",
   "execution_count": null,
   "id": "7be19b59-4566-4375-b612-5455ce59b2f8",
   "metadata": {},
   "outputs": [],
   "source": []
  },
  {
   "cell_type": "code",
   "execution_count": null,
   "id": "41e4b345-7dea-4572-b4aa-6d9bb0d2d94b",
   "metadata": {},
   "outputs": [],
   "source": []
  },
  {
   "cell_type": "code",
   "execution_count": null,
   "id": "e1c68378-f72a-4c0c-ab76-ba9585a3dab5",
   "metadata": {},
   "outputs": [],
   "source": []
  },
  {
   "cell_type": "code",
   "execution_count": null,
   "id": "2e38484c-1c84-4e88-b7f9-ae2176f3185c",
   "metadata": {},
   "outputs": [],
   "source": []
  },
  {
   "cell_type": "code",
   "execution_count": null,
   "id": "351c0dc6-80aa-49ea-9ed9-b53a73addeae",
   "metadata": {},
   "outputs": [],
   "source": []
  },
  {
   "cell_type": "code",
   "execution_count": null,
   "id": "414e8c15-ed8b-4405-b6f2-4c209c66a3dc",
   "metadata": {},
   "outputs": [],
   "source": []
  }
 ],
 "metadata": {
  "kernelspec": {
   "display_name": "Python 3 (ipykernel)",
   "language": "python",
   "name": "python3"
  },
  "language_info": {
   "codemirror_mode": {
    "name": "ipython",
    "version": 3
   },
   "file_extension": ".py",
   "mimetype": "text/x-python",
   "name": "python",
   "nbconvert_exporter": "python",
   "pygments_lexer": "ipython3",
   "version": "3.12.7"
  }
 },
 "nbformat": 4,
 "nbformat_minor": 5
}
