{
 "cells": [
  {
   "cell_type": "code",
   "execution_count": 3,
   "id": "a5e745c2-4577-4eed-8a67-43643526d37b",
   "metadata": {},
   "outputs": [
    {
     "name": "stdout",
     "output_type": "stream",
     "text": [
      "hello world\n"
     ]
    }
   ],
   "source": [
    "print (\"hello world\")\n"
   ]
  },
  {
   "cell_type": "code",
   "execution_count": 4,
   "id": "c5f177d4-36a8-44cd-aa07-2d437e65eb5b",
   "metadata": {},
   "outputs": [
    {
     "name": "stdout",
     "output_type": "stream",
     "text": [
      "10\n"
     ]
    }
   ],
   "source": [
    "a=10\n",
    "print (a)"
   ]
  },
  {
   "cell_type": "code",
   "execution_count": 5,
   "id": "241f852c-6817-413a-b683-fa664cfbb229",
   "metadata": {},
   "outputs": [
    {
     "name": "stdout",
     "output_type": "stream",
     "text": [
      "10\n",
      "10.5\n",
      "Hello world\n",
      "True\n"
     ]
    }
   ],
   "source": [
    "a=10              #int\n",
    "b=10.5            #float\n",
    "c=\"Hello world\"   #Str\n",
    "d= True           #bool\n",
    "\n",
    "\n",
    "print (a)\n",
    "print (b)\n",
    "print(c)\n",
    "print(d)"
   ]
  },
  {
   "cell_type": "code",
   "execution_count": 6,
   "id": "1e943233-2be5-46a4-ae65-def10e17d089",
   "metadata": {},
   "outputs": [],
   "source": [
    "# + - *  / % ** //  #Mathematical operators\n"
   ]
  },
  {
   "cell_type": "code",
   "execution_count": 13,
   "id": "5e31e22f-df4f-4f93-b39c-d32b7514fb6d",
   "metadata": {},
   "outputs": [
    {
     "name": "stdout",
     "output_type": "stream",
     "text": [
      "3.3333333333333335\n"
     ]
    }
   ],
   "source": [
    "a=10\n",
    "b=3\n",
    "c=a/b\n",
    "print(c)\n"
   ]
  },
  {
   "cell_type": "code",
   "execution_count": 16,
   "id": "121383a7-0375-4d1a-938f-5187e5af07a1",
   "metadata": {},
   "outputs": [
    {
     "name": "stdout",
     "output_type": "stream",
     "text": [
      "1\n",
      "1000\n",
      "3\n"
     ]
    }
   ],
   "source": [
    "print(a%b)   #remainder\n",
    "print (a**b) #Power\n",
    "print(a//b)  #Division without decimal"
   ]
  },
  {
   "cell_type": "code",
   "execution_count": 21,
   "id": "78ec698c-8366-4577-bafe-cdba948568b4",
   "metadata": {},
   "outputs": [
    {
     "name": "stdout",
     "output_type": "stream",
     "text": [
      "hello world\n"
     ]
    }
   ],
   "source": [
    "# Two strings can be either multiplied (*) or added (+ , concatinate)\n",
    "a= \"hello \"\n",
    "b= \"world\"\n",
    "c=a+b\n",
    "print(c)"
   ]
  },
  {
   "cell_type": "code",
   "execution_count": 24,
   "id": "86df21d0-9447-4e35-87e3-069bde11e329",
   "metadata": {},
   "outputs": [
    {
     "name": "stdout",
     "output_type": "stream",
     "text": [
      "hello world hello world hello world \n"
     ]
    }
   ],
   "source": [
    "a=\"hello world \"\n",
    "print(a*3)"
   ]
  },
  {
   "cell_type": "code",
   "execution_count": 20,
   "id": "3ddf1696-025f-44a5-bf5c-d12ec99ff116",
   "metadata": {},
   "outputs": [
    {
     "name": "stdout",
     "output_type": "stream",
     "text": [
      "hello world\n",
      "hello world\n",
      "\n"
     ]
    }
   ],
   "source": [
    "a=\"hello world\\n\"  # \\n is used for nex line\n",
    "print(a*2)"
   ]
  },
  {
   "cell_type": "code",
   "execution_count": 27,
   "id": "d2250f65-7a00-44b2-88ca-b4199b79647a",
   "metadata": {},
   "outputs": [
    {
     "name": "stdout",
     "output_type": "stream",
     "text": [
      "1\n",
      "1\n",
      "0\n"
     ]
    }
   ],
   "source": [
    "a=True     # Ture is 1 \n",
    "b=False    # False is 0\n",
    "print(a+b)\n",
    "print (a-b)\n",
    "print(a*b)\n"
   ]
  },
  {
   "cell_type": "code",
   "execution_count": 32,
   "id": "92e0778c-2c53-4c29-9fdd-ca43ada4d736",
   "metadata": {},
   "outputs": [
    {
     "name": "stdout",
     "output_type": "stream",
     "text": [
      "<class 'int'>\n",
      "<class 'float'>\n",
      "<class 'str'>\n",
      "<class 'bool'>\n"
     ]
    }
   ],
   "source": [
    "a=10\n",
    "b=10.5\n",
    "c=\"hello world\"\n",
    "d=True\n",
    "print(type(a))    # Returns type \n",
    "print(type(b))\n",
    "print(type(c))\n",
    "print(type(d))\n",
    "\n"
   ]
  },
  {
   "cell_type": "code",
   "execution_count": 40,
   "id": "025d755a-2305-42ab-89c8-d859edad778d",
   "metadata": {},
   "outputs": [
    {
     "name": "stdout",
     "output_type": "stream",
     "text": [
      "<class 'str'>\n"
     ]
    }
   ],
   "source": [
    "a=\"10\"\n",
    "print(type(a))"
   ]
  },
  {
   "cell_type": "code",
   "execution_count": null,
   "id": "a8a82530-89bb-410b-84af-5b863725bc1f",
   "metadata": {},
   "outputs": [],
   "source": []
  },
  {
   "cell_type": "code",
   "execution_count": 39,
   "id": "06a433e0-8117-4615-8007-0ce2bd1c64a6",
   "metadata": {},
   "outputs": [
    {
     "name": "stdout",
     "output_type": "stream",
     "text": [
      "10.0\n"
     ]
    }
   ],
   "source": [
    "# DataType  conversion  \n",
    "# int() float() str() bool()\n",
    "\n",
    "a=10 \n",
    "b=float(a)\n",
    "print(b)\n"
   ]
  },
  {
   "cell_type": "code",
   "execution_count": 41,
   "id": "087d7a33-b7f5-4bdf-a592-1bcc00cffa13",
   "metadata": {},
   "outputs": [
    {
     "name": "stdout",
     "output_type": "stream",
     "text": [
      "10\n"
     ]
    }
   ],
   "source": [
    "a= 10.5\n",
    "b=int(a)\n",
    "print(b)"
   ]
  },
  {
   "cell_type": "code",
   "execution_count": 43,
   "id": "301a1dc4-6b43-4527-9c57-01623547a421",
   "metadata": {},
   "outputs": [
    {
     "name": "stdout",
     "output_type": "stream",
     "text": [
      "20\n",
      "<class 'str'>\n"
     ]
    }
   ],
   "source": [
    "a= 20\n",
    "b=str(a)\n",
    "print(b)\n",
    "print(type(b))\n"
   ]
  },
  {
   "cell_type": "code",
   "execution_count": 44,
   "id": "83f94e94-b6aa-41f9-9549-e422d9fdfd78",
   "metadata": {},
   "outputs": [
    {
     "name": "stdout",
     "output_type": "stream",
     "text": [
      "1020\n"
     ]
    }
   ],
   "source": [
    "a= \"10\"\n",
    "b=\"20\"\n",
    "c=a+b\n",
    "print(c)"
   ]
  },
  {
   "cell_type": "code",
   "execution_count": 45,
   "id": "de63456d-16c7-473f-9076-0b556fb312a2",
   "metadata": {},
   "outputs": [
    {
     "name": "stdout",
     "output_type": "stream",
     "text": [
      "30\n"
     ]
    }
   ],
   "source": [
    "a= \"10\"\n",
    "b=\"20\"\n",
    "c=int(a)+int(b)\n",
    "print(c)"
   ]
  },
  {
   "cell_type": "code",
   "execution_count": 48,
   "id": "502c10ef-ed0d-4b52-9a2b-bd10327739b3",
   "metadata": {},
   "outputs": [
    {
     "name": "stdout",
     "output_type": "stream",
     "text": [
      "True\n"
     ]
    }
   ],
   "source": [
    "a= 1\n",
    "b=bool(a)\n",
    "print(b)"
   ]
  },
  {
   "cell_type": "code",
   "execution_count": 50,
   "id": "5cdab5dd-c6f1-423a-8372-45253e6033f5",
   "metadata": {},
   "outputs": [
    {
     "name": "stdout",
     "output_type": "stream",
     "text": [
      "False\n"
     ]
    }
   ],
   "source": [
    "a= 0\n",
    "b=bool(a)\n",
    "print(b)\n"
   ]
  },
  {
   "cell_type": "code",
   "execution_count": 51,
   "id": "89d367a9-c1dc-4812-be3e-c781f25d056e",
   "metadata": {},
   "outputs": [
    {
     "name": "stdout",
     "output_type": "stream",
     "text": [
      "True\n"
     ]
    }
   ],
   "source": [
    "a=\"hello world\"   #Boolen other than zero is True\n",
    "b=bool(a)\n",
    "print(b)"
   ]
  },
  {
   "cell_type": "code",
   "execution_count": 52,
   "id": "40de9dc3-ef47-4b3e-a955-6e9840a1c2bd",
   "metadata": {},
   "outputs": [
    {
     "name": "stdout",
     "output_type": "stream",
     "text": [
      "False\n"
     ]
    }
   ],
   "source": [
    "a=\"\"           # empty String \n",
    "b=bool(a)\n",
    "print(b)"
   ]
  },
  {
   "cell_type": "code",
   "execution_count": 1,
   "id": "866ee524-28e1-4772-8a3a-6b9e8d912638",
   "metadata": {},
   "outputs": [],
   "source": [
    "# I/O Operations\n"
   ]
  },
  {
   "cell_type": "code",
   "execution_count": 5,
   "id": "b14880b7-c999-4c41-ad51-9a9393c4d281",
   "metadata": {},
   "outputs": [
    {
     "name": "stdin",
     "output_type": "stream",
     "text": [
      "Enter the value of a =  10\n",
      "Enter the value of b =  10\n"
     ]
    },
    {
     "name": "stdout",
     "output_type": "stream",
     "text": [
      "1010\n"
     ]
    }
   ],
   "source": [
    "a= input (\"Enter the value of a = \")\n",
    "b= input (\"Enter the value of b = \")\n",
    "c=a+b\n",
    "print(c)"
   ]
  },
  {
   "cell_type": "code",
   "execution_count": 6,
   "id": "cc956586-a3e9-47d6-bbfa-a75682970353",
   "metadata": {},
   "outputs": [
    {
     "name": "stdin",
     "output_type": "stream",
     "text": [
      "Enter the value of a =  10\n",
      "Enter the value of b =  20\n"
     ]
    },
    {
     "name": "stdout",
     "output_type": "stream",
     "text": [
      "30\n"
     ]
    }
   ],
   "source": [
    "a= int (input (\"Enter the value of a = \"))\n",
    "b= int (input (\"Enter the value of b = \"))\n",
    "c=a+b\n",
    "print(c)\n"
   ]
  },
  {
   "cell_type": "code",
   "execution_count": 7,
   "id": "128ac2d3-0a4a-4840-9ba5-891ae3196881",
   "metadata": {},
   "outputs": [
    {
     "name": "stdin",
     "output_type": "stream",
     "text": [
      "Enter p =  100\n",
      "Enter t=   2\n",
      "enter r =  10\n"
     ]
    },
    {
     "name": "stdout",
     "output_type": "stream",
     "text": [
      "the value of i =  20.0\n"
     ]
    }
   ],
   "source": [
    "# Simple interest \n",
    "\n",
    "p= int (input(\"Enter p = \" ))\n",
    "t=float (input(\"Enter t=  \"))\n",
    "r=float ( input (\"enter r = \"))\n",
    "i=p*t*r/100\n",
    "print(\"the value of i = \",i)\n"
   ]
  },
  {
   "cell_type": "code",
   "execution_count": 9,
   "id": "333fc55e-419a-4350-adc7-a1c259ef340c",
   "metadata": {},
   "outputs": [
    {
     "name": "stdin",
     "output_type": "stream",
     "text": [
      "Enter r=  12\n"
     ]
    },
    {
     "name": "stdout",
     "output_type": "stream",
     "text": [
      "area of circle is a= 452.16\n"
     ]
    }
   ],
   "source": [
    "#Area of circle \n",
    "\n",
    "pi=3.14\n",
    "r = float (input (\"Enter r= \"))\n",
    "a=pi*r**2\n",
    "print (\"area of circle is a=\",a)\n"
   ]
  },
  {
   "cell_type": "code",
   "execution_count": 14,
   "id": "efaa9ee1-6444-41c8-adad-1226f078b71c",
   "metadata": {},
   "outputs": [
    {
     "name": "stdin",
     "output_type": "stream",
     "text": [
      "Enter lenght =  10\n",
      "Enter Bredth =  15\n",
      "enter Height =  20\n"
     ]
    },
    {
     "name": "stdout",
     "output_type": "stream",
     "text": [
      "The volume is  =  3000.0\n"
     ]
    }
   ],
   "source": [
    "# Volume of rectangle \n",
    "\n",
    "l= float (input (\"Enter lenght = \"))\n",
    "b= float (input (\"Enter Bredth = \"))\n",
    "h= float (input (\"enter Height = \"))\n",
    "v= l*b*h\n",
    "print (\"The volume is  = \", v)\n",
    "\n"
   ]
  },
  {
   "cell_type": "code",
   "execution_count": 24,
   "id": "863259de-3441-499a-be63-b57c05d03499",
   "metadata": {},
   "outputs": [
    {
     "name": "stdin",
     "output_type": "stream",
     "text": [
      "Enter your name =  Abhi\n",
      "enter your age =  30\n",
      "enter your address =  Bas\n"
     ]
    },
    {
     "name": "stdout",
     "output_type": "stream",
     "text": [
      "Abhi 30 Bas\n"
     ]
    }
   ],
   "source": [
    "# Basic Introduction \n",
    "\n",
    "name = input (\"Enter your name = \")\n",
    "age = int (input (\"enter your age = \"))\n",
    "add = input (\"enter your address = \")\n",
    "print (name,age,add)\n"
   ]
  },
  {
   "cell_type": "code",
   "execution_count": null,
   "id": "7b1b9c80-1af3-4ee9-aafb-07b8069b3bc8",
   "metadata": {},
   "outputs": [],
   "source": []
  },
  {
   "cell_type": "code",
   "execution_count": 25,
   "id": "1e474de5-8e08-44df-8f83-0d21c67e3769",
   "metadata": {},
   "outputs": [
    {
     "name": "stdout",
     "output_type": "stream",
     "text": [
      "hello world my name is  Abhi , I am from  Bas  and I am 30 years old\n"
     ]
    }
   ],
   "source": [
    "print ( \"hello world my name is \",name,\", I am from \" ,add , \" and I am\",age,\"years old\")\n",
    "\n"
   ]
  },
  {
   "cell_type": "code",
   "execution_count": 28,
   "id": "390af575-8768-499d-af61-bd98b47fe238",
   "metadata": {},
   "outputs": [
    {
     "name": "stdout",
     "output_type": "stream",
     "text": [
      "Hello world I am Abhi I am 30 I am from Bas\n"
     ]
    }
   ],
   "source": [
    "info=\"Hello world I am \" + name +\" I am \" + str (age )+ \" I am from \" + add\n",
    "print(info)"
   ]
  },
  {
   "cell_type": "code",
   "execution_count": 42,
   "id": "61ba3230-26e3-4d81-b789-a922599d5c8a",
   "metadata": {},
   "outputs": [
    {
     "name": "stdin",
     "output_type": "stream",
     "text": [
      "enter physic marks =  90\n",
      "enter Chemistry marks =  90\n",
      "enter Biology marks =  90\n",
      "enter Math marks =  90\n",
      "enter english mark =  90\n"
     ]
    },
    {
     "name": "stdout",
     "output_type": "stream",
     "text": [
      "Your total marks =  450\n",
      "Your percentage is=  90.0 %\n"
     ]
    }
   ],
   "source": [
    "# write a program to calculate total percentage of +2 science  student \n",
    "\n",
    "P= int (input (\"enter physic marks = \"))\n",
    "C= int (input (\"enter Chemistry marks = \"))\n",
    "B= int (input (\"enter Biology marks = \"))\n",
    "M= int (input (\"enter Math marks = \"))\n",
    "E= int (input (\"enter english mark = \"))\n",
    "Total= P+C+B+M+E\n",
    "R= Total / 500 *100\n",
    "print (\"Your total marks = \" , Total)\n",
    "print ( \"Your percentage is= \" , R ,\"%\")\n",
    "\n"
   ]
  },
  {
   "cell_type": "code",
   "execution_count": null,
   "id": "c738f479-c53c-4d38-9f01-14b36b6dede6",
   "metadata": {},
   "outputs": [],
   "source": []
  },
  {
   "cell_type": "code",
   "execution_count": null,
   "id": "26fbed03-10a7-4ecb-86ee-044ae76a024c",
   "metadata": {},
   "outputs": [],
   "source": []
  },
  {
   "cell_type": "code",
   "execution_count": null,
   "id": "c18ffaf8-e6ad-4e4f-ab9d-e35897cc0131",
   "metadata": {},
   "outputs": [],
   "source": []
  },
  {
   "cell_type": "code",
   "execution_count": null,
   "id": "3d12e587-ee67-4315-92e0-d040a8306f57",
   "metadata": {},
   "outputs": [],
   "source": []
  },
  {
   "cell_type": "code",
   "execution_count": null,
   "id": "98d73acd-f023-40df-9097-12413ddbe3d0",
   "metadata": {},
   "outputs": [],
   "source": []
  }
 ],
 "metadata": {
  "kernelspec": {
   "display_name": "Python 3 (ipykernel)",
   "language": "python",
   "name": "python3"
  },
  "language_info": {
   "codemirror_mode": {
    "name": "ipython",
    "version": 3
   },
   "file_extension": ".py",
   "mimetype": "text/x-python",
   "name": "python",
   "nbconvert_exporter": "python",
   "pygments_lexer": "ipython3",
   "version": "3.12.7"
  }
 },
 "nbformat": 4,
 "nbformat_minor": 5
}
