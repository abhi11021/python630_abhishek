{
 "cells": [
  {
   "cell_type": "code",
   "execution_count": 2,
   "id": "5a0ce12e-8019-4b0b-b029-28654fe0f6e7",
   "metadata": {},
   "outputs": [],
   "source": [
    "#Python\n",
    "#List\n",
    "#Tuple\n",
    "#dictionary\n",
    "#Set\n"
   ]
  },
  {
   "cell_type": "code",
   "execution_count": null,
   "id": "2be3e8be-9559-4895-87c0-a0b11b0f660a",
   "metadata": {},
   "outputs": [],
   "source": []
  },
  {
   "cell_type": "code",
   "execution_count": 3,
   "id": "5236fcd1-4dcd-4ac4-a1b2-6fc72c09ee19",
   "metadata": {},
   "outputs": [],
   "source": [
    "# List\n",
    "# Indexing\n",
    "# Odered\n",
    "# Miltiple and Duplicate\n",
    "# MUTABLE"
   ]
  },
  {
   "cell_type": "code",
   "execution_count": 2,
   "id": "bbe5551c-6d81-4734-9e95-2b9936e63b94",
   "metadata": {},
   "outputs": [
    {
     "name": "stdout",
     "output_type": "stream",
     "text": [
      "<class 'list'>\n"
     ]
    }
   ],
   "source": [
    "a=list()\n",
    "a=[]\n",
    "print(type(a))"
   ]
  },
  {
   "cell_type": "code",
   "execution_count": null,
   "id": "3aed1d59-ee6d-4451-916f-d9c77efa4787",
   "metadata": {},
   "outputs": [],
   "source": []
  },
  {
   "cell_type": "code",
   "execution_count": null,
   "id": "0f8f5a6b-59db-4542-96ee-3f065e86f3cf",
   "metadata": {},
   "outputs": [],
   "source": []
  },
  {
   "cell_type": "code",
   "execution_count": 6,
   "id": "5cc3320a-2da4-4d9e-b7f9-e97f9b7cb6fc",
   "metadata": {},
   "outputs": [
    {
     "name": "stdout",
     "output_type": "stream",
     "text": [
      "<class 'list'>\n",
      "<class 'list'>\n",
      "[1, 2, 3, 4, 5, 6, 7, 8, 9, 10]\n",
      "['apple', 'Ball', 'Cat', 'Dog']\n"
     ]
    }
   ],
   "source": [
    "a=[1,2,3,4,5,6,7,8,9,10]\n",
    "b=[\"apple\",\"Ball\",\"Cat\",\"Dog\"]\n",
    "print(type(a))\n",
    "print(type(b))\n",
    "print(a)\n",
    "print(b)"
   ]
  },
  {
   "cell_type": "code",
   "execution_count": 9,
   "id": "1ec5abe8-7be4-4b23-8a6f-41bcc97521c2",
   "metadata": {},
   "outputs": [
    {
     "name": "stdout",
     "output_type": "stream",
     "text": [
      "10\n",
      "4\n"
     ]
    }
   ],
   "source": [
    "print(len(a))\n",
    "print(len(b))"
   ]
  },
  {
   "cell_type": "code",
   "execution_count": 3,
   "id": "024b2dd2-5d52-478d-8d2b-32361c6100e3",
   "metadata": {},
   "outputs": [
    {
     "name": "stdout",
     "output_type": "stream",
     "text": [
      "apple\n",
      "Cat\n",
      "Fish\n",
      "Fish\n",
      "['apple', 'Ball', 'Cat', 'Dog', 'Egg']\n",
      "['apple', 'Cat', 'Egg']\n",
      "['Fish', 'Egg', 'Dog', 'Cat', 'Ball', 'apple']\n",
      "['apple', 'Ball', 'Cat', 'Dog', 'Egg']\n"
     ]
    }
   ],
   "source": [
    "a=[\"apple\",\"Ball\",\"Cat\",\"Dog\",\"Egg\",\"Fish\"]\n",
    "print(a[0])\n",
    "print(a[2])\n",
    "print(a[5])\n",
    "print(a[-1])\n",
    "print(a[0:5])\n",
    "print(a[0:6:2])\n",
    "print(a[::-1])\n",
    "print(a[0:5])\n",
    "\n"
   ]
  },
  {
   "cell_type": "code",
   "execution_count": null,
   "id": "d9813f05-76bc-4279-88eb-d673f0cdd0e0",
   "metadata": {},
   "outputs": [],
   "source": []
  },
  {
   "cell_type": "code",
   "execution_count": 21,
   "id": "af630529-5267-4066-886b-7e6b53798b26",
   "metadata": {},
   "outputs": [
    {
     "name": "stdout",
     "output_type": "stream",
     "text": [
      "[1, 2, 3, 4, 5, 6, 7, 8, 9, 10]\n"
     ]
    }
   ],
   "source": [
    "a=[1,2,3,4,5]\n",
    "b=[6,7,8,9,10]\n",
    "c=a+b\n",
    "print(c)"
   ]
  },
  {
   "cell_type": "code",
   "execution_count": 22,
   "id": "edb80089-4759-4f6c-9028-879c6030fcd9",
   "metadata": {},
   "outputs": [
    {
     "name": "stdout",
     "output_type": "stream",
     "text": [
      "[1, 2, 3, 4, 5, 'apple', 'Ball', 'Cat', 'Dog', 'Elephant']\n"
     ]
    }
   ],
   "source": [
    "a=[1,2,3,4,5]\n",
    "b=[\"apple\",\"Ball\",\"Cat\",\"Dog\",\"Elephant\"]\n",
    "c=a+b\n",
    "print(c)"
   ]
  },
  {
   "cell_type": "code",
   "execution_count": null,
   "id": "f84c33ea-ef91-4daa-85b7-34f20253f585",
   "metadata": {},
   "outputs": [],
   "source": []
  },
  {
   "cell_type": "code",
   "execution_count": 23,
   "id": "7dc46fbf-e474-487f-8a24-108757c5aaa6",
   "metadata": {},
   "outputs": [
    {
     "name": "stdout",
     "output_type": "stream",
     "text": [
      "[1, 2, 3, 4, 5, 1, 2, 3, 4, 5]\n"
     ]
    }
   ],
   "source": [
    "a=[1,2,3,4,5]\n",
    "print(a*2)"
   ]
  },
  {
   "cell_type": "code",
   "execution_count": null,
   "id": "927d1588-a7b2-45b0-b916-4987c6cd2210",
   "metadata": {},
   "outputs": [],
   "source": []
  },
  {
   "cell_type": "code",
   "execution_count": 24,
   "id": "5a6b5849-a96f-4a17-a2c2-3fad2247228a",
   "metadata": {},
   "outputs": [
    {
     "name": "stdout",
     "output_type": "stream",
     "text": [
      "[1, 2, 3, 4, 5, 'apple', 'Ball', 'Cat', 'Dog', 'Elephant', 1, 2, 3, 4, 5, 'apple', 'Ball', 'Cat', 'Dog', 'Elephant']\n"
     ]
    }
   ],
   "source": [
    "a=[1,2,3,4,5]\n",
    "b=[\"apple\",\"Ball\",\"Cat\",\"Dog\",\"Elephant\"]\n",
    "c=a+b\n",
    "print(c*2)"
   ]
  },
  {
   "cell_type": "code",
   "execution_count": null,
   "id": "d9b79a9c-047a-43ac-85c8-2ce02e86c836",
   "metadata": {},
   "outputs": [],
   "source": []
  },
  {
   "cell_type": "code",
   "execution_count": 25,
   "id": "ecce300f-20ab-4dfe-9588-11e70e2dd756",
   "metadata": {},
   "outputs": [],
   "source": [
    "#  appen() insert() extend()"
   ]
  },
  {
   "cell_type": "code",
   "execution_count": null,
   "id": "71dc24ff-0783-4c10-8d97-a877ec69706d",
   "metadata": {},
   "outputs": [],
   "source": [
    "#  appen()"
   ]
  },
  {
   "cell_type": "code",
   "execution_count": 34,
   "id": "b90664ee-c8ad-44e6-a6f7-cc8db38e9d15",
   "metadata": {},
   "outputs": [
    {
     "name": "stdout",
     "output_type": "stream",
     "text": [
      "['Apple', 'Ball', 'Cat']\n"
     ]
    }
   ],
   "source": [
    "a=[]\n",
    "a.append(\"Apple\")      # Add values in exisitnglist\n",
    "a.append(\"Ball\")\n",
    "a.append(\"Cat\")\n",
    "print(a)"
   ]
  },
  {
   "cell_type": "code",
   "execution_count": null,
   "id": "a6e2600b-77fc-42cf-8519-fe342e162748",
   "metadata": {},
   "outputs": [],
   "source": []
  },
  {
   "cell_type": "code",
   "execution_count": 35,
   "id": "6f56a782-531a-4e39-bc3a-a3547e2b2d56",
   "metadata": {},
   "outputs": [
    {
     "name": "stdout",
     "output_type": "stream",
     "text": [
      "['Dog', 'Apple', 'Ball', 'Cat']\n"
     ]
    }
   ],
   "source": [
    "a=[\"Dog\"]\n",
    "a.append(\"Apple\")      # Add values in exisitnglist\n",
    "a.append(\"Ball\")\n",
    "a.append(\"Cat\")\n",
    "print(a)"
   ]
  },
  {
   "cell_type": "code",
   "execution_count": null,
   "id": "2e524bc8-4d88-4333-8252-d2768218f585",
   "metadata": {},
   "outputs": [],
   "source": []
  },
  {
   "cell_type": "code",
   "execution_count": 40,
   "id": "125fafd9-001f-433d-9877-ae1d348d02ae",
   "metadata": {},
   "outputs": [
    {
     "name": "stdin",
     "output_type": "stream",
     "text": [
      "enter n= 3\n",
      "Enter name=  Ram\n",
      "Enter name=  Shyam\n",
      "Enter name=  Gopal\n"
     ]
    },
    {
     "name": "stdout",
     "output_type": "stream",
     "text": [
      "['Ram', 'Shyam', 'Gopal']\n"
     ]
    }
   ],
   "source": [
    "l=[]\n",
    "n=int (input(\"enter n=\"))\n",
    "for i in range(n):\n",
    "    a=input(\"Enter name= \")\n",
    "    l.append(a)\n",
    "print(l)\n",
    "       "
   ]
  },
  {
   "cell_type": "code",
   "execution_count": null,
   "id": "778ab639-8230-4849-aeff-7ba4a9f293f5",
   "metadata": {},
   "outputs": [],
   "source": []
  },
  {
   "cell_type": "code",
   "execution_count": null,
   "id": "0e738528-8d34-45b1-b5be-cb68aa0fa18b",
   "metadata": {},
   "outputs": [],
   "source": [
    "#insert()"
   ]
  },
  {
   "cell_type": "code",
   "execution_count": 42,
   "id": "1e3f788b-5a9e-4beb-8a73-0b8f1547e115",
   "metadata": {},
   "outputs": [
    {
     "name": "stdout",
     "output_type": "stream",
     "text": [
      "['Ram', 'Akash', 'Shyam', 'Hari', 'Sita', 'Gita']\n"
     ]
    }
   ],
   "source": [
    "a=[\"Ram\",\"Shyam\",\"Hari\",\"Sita\",\"Gita\"]\n",
    "a.insert(1,\"Akash\")\n",
    "print(a)"
   ]
  },
  {
   "cell_type": "code",
   "execution_count": null,
   "id": "fafd4902-b362-412d-9ab5-5378676376ed",
   "metadata": {},
   "outputs": [],
   "source": []
  },
  {
   "cell_type": "code",
   "execution_count": null,
   "id": "d62b15fc-8473-458b-b8c5-34a0176b1087",
   "metadata": {},
   "outputs": [],
   "source": [
    "#extend"
   ]
  },
  {
   "cell_type": "code",
   "execution_count": 45,
   "id": "2530d098-97e8-447a-bccf-ececee40bf4e",
   "metadata": {},
   "outputs": [
    {
     "name": "stdout",
     "output_type": "stream",
     "text": [
      "[1, 2, 3, 4, 5, 6, 7, 8, 9, 10]\n"
     ]
    }
   ],
   "source": [
    "a=[1,2,3,4,5]\n",
    "b=[6,7,8,9,10]\n",
    "a.extend(b)\n",
    "print(a)"
   ]
  },
  {
   "cell_type": "code",
   "execution_count": null,
   "id": "a3776263-b665-4620-851e-d991ebf0e818",
   "metadata": {},
   "outputs": [],
   "source": []
  },
  {
   "cell_type": "code",
   "execution_count": 48,
   "id": "9224900b-f8e4-4099-baa5-5d8352db9a6b",
   "metadata": {},
   "outputs": [
    {
     "name": "stdout",
     "output_type": "stream",
     "text": [
      "[1, 2, 3, 4, 5, 6, 7, 8, 9, 10, 11, 12, 13, 14, 15]\n"
     ]
    }
   ],
   "source": [
    "a=[1,2,3,4,5]\n",
    "b=[6,7,8,9,10]\n",
    "c=[11,12,13,14,15]\n",
    "a.extend(b)\n",
    "a.extend(c)\n",
    "print(a)"
   ]
  },
  {
   "cell_type": "code",
   "execution_count": null,
   "id": "3d171884-6237-4e95-bf28-b87f8e244f55",
   "metadata": {},
   "outputs": [],
   "source": [
    "# CRUD  Crate Read Update Delete"
   ]
  },
  {
   "cell_type": "code",
   "execution_count": 49,
   "id": "a4cd4d37-b469-4088-8f47-0f5fa5c41697",
   "metadata": {},
   "outputs": [
    {
     "name": "stdout",
     "output_type": "stream",
     "text": [
      "Ram\n",
      "Shyam\n",
      "Hari\n",
      "Sita\n",
      "Gita\n"
     ]
    }
   ],
   "source": [
    "# Read\n",
    "a=[\"Ram\",\"Shyam\",\"Hari\",\"Sita\",\"Gita\"]\n",
    "for i in a:\n",
    "    print(i)"
   ]
  },
  {
   "cell_type": "code",
   "execution_count": 50,
   "id": "6cc65861-4766-4b90-a31c-c860855aba8c",
   "metadata": {},
   "outputs": [
    {
     "name": "stdout",
     "output_type": "stream",
     "text": [
      "Ram\n",
      "Shyam\n",
      "Hari\n",
      "Sita\n",
      "Gita\n"
     ]
    }
   ],
   "source": [
    "a=[\"Ram\",\"Shyam\",\"Hari\",\"Sita\",\"Gita\"]\n",
    "l=len(a)\n",
    "for i in range(l):\n",
    "    print(a[i])"
   ]
  },
  {
   "cell_type": "code",
   "execution_count": null,
   "id": "07619f41-eae0-44b2-b68a-3b172e601077",
   "metadata": {},
   "outputs": [],
   "source": []
  },
  {
   "cell_type": "code",
   "execution_count": null,
   "id": "e30b52a0-8dc2-48df-ae44-f13e5e54fb5c",
   "metadata": {},
   "outputs": [],
   "source": [
    "# Update"
   ]
  },
  {
   "cell_type": "code",
   "execution_count": 51,
   "id": "768c8ec8-7506-4bc0-97b3-b769873cf203",
   "metadata": {},
   "outputs": [
    {
     "data": {
      "text/plain": [
       "'Ram'"
      ]
     },
     "execution_count": 51,
     "metadata": {},
     "output_type": "execute_result"
    }
   ],
   "source": [
    "a=[\"Ram\",\"Shyam\",\"Hari\",\"Sita\",\"Gita\"]\n",
    "a[0]"
   ]
  },
  {
   "cell_type": "code",
   "execution_count": 53,
   "id": "2e4082a6-0941-4795-a6b6-a159f0f0620b",
   "metadata": {},
   "outputs": [
    {
     "name": "stdout",
     "output_type": "stream",
     "text": [
      "['Rama', 'Shyam', 'Hari', 'Sita', 'Gita']\n"
     ]
    }
   ],
   "source": [
    "a=[\"Ram\",\"Shyam\",\"Hari\",\"Sita\",\"Gita\"]\n",
    "a[0]=\"Rama\"\n",
    "print(a)"
   ]
  },
  {
   "cell_type": "code",
   "execution_count": null,
   "id": "7b35371b-62d6-44da-86af-59438097115f",
   "metadata": {},
   "outputs": [],
   "source": []
  },
  {
   "cell_type": "code",
   "execution_count": 54,
   "id": "7044bfa5-e9c8-47fd-89f4-0967c8a44ea5",
   "metadata": {},
   "outputs": [
    {
     "name": "stdout",
     "output_type": "stream",
     "text": [
      "['Rama', 'Shayama', 'Hari', 'Sita', 'Gita']\n"
     ]
    }
   ],
   "source": [
    "a=[\"Ram\",\"Shyam\",\"Hari\",\"Sita\",\"Gita\"]\n",
    "a[0:2]=[\"Rama\",\"Shayama\"]\n",
    "print(a)"
   ]
  },
  {
   "cell_type": "code",
   "execution_count": null,
   "id": "6e281b67-3396-4333-86a2-e5dcc2e6611b",
   "metadata": {},
   "outputs": [],
   "source": []
  },
  {
   "cell_type": "code",
   "execution_count": 56,
   "id": "0841ed21-507a-45ca-af99-4c09294dfa3a",
   "metadata": {},
   "outputs": [
    {
     "name": "stdout",
     "output_type": "stream",
     "text": [
      "['Rama', 'Hari', 'Sita', 'Gita']\n"
     ]
    }
   ],
   "source": [
    "a=[\"Ram\",\"Shyam\",\"Hari\",\"Sita\",\"Gita\"]\n",
    "a[0:2]=[\"Rama\"]                             #replace and removed as well \n",
    "print(a)"
   ]
  },
  {
   "cell_type": "code",
   "execution_count": null,
   "id": "5bc823c0-c846-4eee-91e5-b9273a5be906",
   "metadata": {},
   "outputs": [],
   "source": []
  },
  {
   "cell_type": "code",
   "execution_count": 62,
   "id": "7fba3791-7c3e-4aa1-8405-2eaff4fcbd65",
   "metadata": {},
   "outputs": [
    {
     "name": "stdout",
     "output_type": "stream",
     "text": [
      "['Ram', 'Shyama', 'Hari', 'Sita', 'Gita']\n"
     ]
    }
   ],
   "source": [
    "a=[\"Ram\",\"Shyam\",\"Hari\",\"Sita\",\"Gita\"]\n",
    "a[1]=\"Shyama\"                         \n",
    "print(a)"
   ]
  },
  {
   "cell_type": "code",
   "execution_count": null,
   "id": "5cb4a821-ea48-4f7d-ab4a-7193f3b2e7d4",
   "metadata": {},
   "outputs": [],
   "source": []
  },
  {
   "cell_type": "code",
   "execution_count": null,
   "id": "a3cca666-4b32-410e-81cc-9b497c9d2a01",
   "metadata": {},
   "outputs": [],
   "source": []
  },
  {
   "cell_type": "code",
   "execution_count": 4,
   "id": "d0f4a2bb-fb37-486f-b385-a6a20da0f06f",
   "metadata": {},
   "outputs": [
    {
     "name": "stdout",
     "output_type": "stream",
     "text": [
      "['Ram', 'Shyama', 'Hari', 'Sita', 'Gita']\n"
     ]
    }
   ],
   "source": [
    "a=[\"Ram\",\"Shyam\",\"Hari\",\"Sita\",\"Gita\"]\n",
    "#a[a.index(\"Shyam\")]=\"Shayama\"\n",
    "i=a.index(\"Shyam\")    \n",
    "a[i]=\"Shyama\"\n",
    "print(a)"
   ]
  },
  {
   "cell_type": "code",
   "execution_count": null,
   "id": "a0208ab3-ae8a-4d44-bd31-39a98559e3c4",
   "metadata": {},
   "outputs": [],
   "source": []
  },
  {
   "cell_type": "code",
   "execution_count": null,
   "id": "26ab3d02-c782-4880-a7bd-141872dc1e04",
   "metadata": {},
   "outputs": [],
   "source": []
  },
  {
   "cell_type": "code",
   "execution_count": null,
   "id": "e04791d6-7a6e-4715-87ed-83235b20f839",
   "metadata": {},
   "outputs": [],
   "source": [
    "#Delete\n",
    "#del remove() pop()"
   ]
  },
  {
   "cell_type": "code",
   "execution_count": 1,
   "id": "87ad8449-7487-41d7-8da3-06689f4629c5",
   "metadata": {},
   "outputs": [
    {
     "name": "stdout",
     "output_type": "stream",
     "text": [
      "['Shyam', 'Hari', 'Sita', 'Gita']\n"
     ]
    }
   ],
   "source": [
    "a=[\"Ram\",\"Shyam\",\"Hari\",\"Sita\",\"Gita\"]\n",
    "del a[0]\n",
    "print(a)"
   ]
  },
  {
   "cell_type": "code",
   "execution_count": null,
   "id": "62f61d2f-ae3d-4043-9e5f-84aba8f6a8eb",
   "metadata": {},
   "outputs": [],
   "source": []
  },
  {
   "cell_type": "code",
   "execution_count": 4,
   "id": "37b85cdc-e073-4943-a085-a782310057a9",
   "metadata": {},
   "outputs": [
    {
     "name": "stdout",
     "output_type": "stream",
     "text": [
      "['Hari', 'Sita', 'Gita']\n"
     ]
    }
   ],
   "source": [
    "a=[\"Ram\",\"Shyam\",\"Hari\",\"Sita\",\"Gita\"]\n",
    "del a[0:2]\n",
    "print(a)"
   ]
  },
  {
   "cell_type": "code",
   "execution_count": 7,
   "id": "ad132688-c16b-4a3c-9b39-33e07d03a23f",
   "metadata": {},
   "outputs": [
    {
     "name": "stdout",
     "output_type": "stream",
     "text": [
      "['Ram', 'Hari', 'Sita', 'Gita']\n"
     ]
    }
   ],
   "source": [
    "a=[\"Ram\",\"Shyam\",\"Hari\",\"Sita\",\"Gita\"]\n",
    "a.remove(\"Shyam\")\n",
    "print(a)"
   ]
  },
  {
   "cell_type": "code",
   "execution_count": 8,
   "id": "6d62844f-c565-4fc7-aec6-7890935f3391",
   "metadata": {},
   "outputs": [
    {
     "data": {
      "text/plain": [
       "'Ram'"
      ]
     },
     "execution_count": 8,
     "metadata": {},
     "output_type": "execute_result"
    }
   ],
   "source": [
    "a=[\"Ram\",\"Shyam\",\"Hari\",\"Sita\",\"Gita\"]\n",
    "a.pop(0)"
   ]
  },
  {
   "cell_type": "code",
   "execution_count": 9,
   "id": "eedfa211-01cf-4ef4-92f7-f12c999de682",
   "metadata": {},
   "outputs": [
    {
     "name": "stdout",
     "output_type": "stream",
     "text": [
      "['Shyam', 'Hari', 'Sita', 'Gita']\n",
      "Ram\n"
     ]
    }
   ],
   "source": [
    "a=[\"Ram\",\"Shyam\",\"Hari\",\"Sita\",\"Gita\"]\n",
    "b=a.pop(0)\n",
    "print(a)\n",
    "print(b)"
   ]
  },
  {
   "cell_type": "code",
   "execution_count": null,
   "id": "85bca408-4dd5-418c-bfb4-77bdecb2eece",
   "metadata": {},
   "outputs": [],
   "source": []
  },
  {
   "cell_type": "code",
   "execution_count": 12,
   "id": "dd229d1b-3226-43fd-b616-4e370f8e372e",
   "metadata": {},
   "outputs": [
    {
     "name": "stdout",
     "output_type": "stream",
     "text": [
      "['Shyam', 'Hari', 'Sita', 'Gita']\n"
     ]
    }
   ],
   "source": [
    "a=[\"Ram\",\"Shyam\",\"Hari\",\"Ram\",\"Sita\",\"Gita\",\"Ram\"]\n",
    "c=a.count(\"Ram\")\n",
    "for i in range(c):\n",
    "    a.remove(\"Ram\")      \n",
    "print(a)\n",
    "\n"
   ]
  },
  {
   "cell_type": "code",
   "execution_count": 17,
   "id": "bff2040e-2a0d-4553-8ace-e214aeca8837",
   "metadata": {},
   "outputs": [
    {
     "name": "stdout",
     "output_type": "stream",
     "text": [
      "0\n",
      "3\n",
      "6\n"
     ]
    }
   ],
   "source": [
    "#Read the index \n",
    "a=[\"Ram\",\"Shyam\",\"Hari\",\"Ram\",\"Sita\",\"Gita\",\"Ram\"]\n",
    "for i in range (len(a)):\n",
    "    if \"Ram\"==a[i]:\n",
    "        print(i)"
   ]
  },
  {
   "cell_type": "code",
   "execution_count": 5,
   "id": "1faab140-584a-407e-b227-13f9adfe8585",
   "metadata": {},
   "outputs": [
    {
     "name": "stdout",
     "output_type": "stream",
     "text": [
      "0\n",
      "3\n",
      "6\n"
     ]
    }
   ],
   "source": [
    "#Read the index \n",
    "a=[\"Ram\",\"Shyam\",\"Hari\",\"Ram\",\"Sita\",\"Gita\",\"Ram\"]\n",
    "for i in range (len(a)):\n",
    "    if a[i]==\"Ram\":\n",
    "        print(i)"
   ]
  },
  {
   "cell_type": "code",
   "execution_count": null,
   "id": "59404be1-4a00-4117-9c80-36f392c9a970",
   "metadata": {},
   "outputs": [],
   "source": []
  },
  {
   "cell_type": "code",
   "execution_count": null,
   "id": "c781e502-c332-450a-a19c-7d59c29de867",
   "metadata": {},
   "outputs": [],
   "source": []
  },
  {
   "cell_type": "code",
   "execution_count": 18,
   "id": "fc1fcff7-e823-417e-afe5-c4e19383476d",
   "metadata": {},
   "outputs": [
    {
     "name": "stdout",
     "output_type": "stream",
     "text": [
      "['Rama', 'Shyam', 'Hari', 'Rama', 'Sita', 'Gita', 'Rama']\n"
     ]
    }
   ],
   "source": [
    "#Read the index and update\n",
    "a=[\"Ram\",\"Shyam\",\"Hari\",\"Ram\",\"Sita\",\"Gita\",\"Ram\"]\n",
    "for i in range (len(a)):\n",
    "    if \"Ram\"==a[i]:\n",
    "        a[i]=\"Rama\"\n",
    "print(a)\n",
    "        "
   ]
  },
  {
   "cell_type": "code",
   "execution_count": null,
   "id": "3c46bc9f-d2c6-4b7a-9879-322985915f2f",
   "metadata": {},
   "outputs": [],
   "source": []
  },
  {
   "cell_type": "code",
   "execution_count": 19,
   "id": "a8f648e4-877e-4640-a7e3-6b2314f09270",
   "metadata": {},
   "outputs": [],
   "source": [
    "# #Basic Math\n",
    "# min()\n",
    "# max()\n",
    "# sum()\n",
    "# sort()\n",
    "# reverse()\n",
    "\n",
    "\n"
   ]
  },
  {
   "cell_type": "code",
   "execution_count": 21,
   "id": "134a53c4-aa83-42e5-b709-61ed0944913c",
   "metadata": {},
   "outputs": [
    {
     "name": "stdout",
     "output_type": "stream",
     "text": [
      "The minimun value is = 45\n",
      "The maximun value is = 798\n",
      "The sum of list e is = 4704\n",
      "[45, 45, 54, 67, 87, 98, 123, 234, 234, 345, 564, 657, 675, 678, 798]\n",
      "[798, 678, 675, 657, 564, 345, 234, 234, 123, 98, 87, 67, 54, 45, 45]\n"
     ]
    },
    {
     "data": {
      "text/plain": [
       "[798, 678, 675, 657, 564, 345, 234, 234, 123, 98, 87, 67, 54, 45, 45]"
      ]
     },
     "execution_count": 21,
     "metadata": {},
     "output_type": "execute_result"
    }
   ],
   "source": [
    "#Continue \n",
    "\n",
    "a=[234,564,678,798,345,234,54,123,45,675,87,98,67,45,657] \n",
    "print(\"The minimun value is =\",min(a))\n",
    "print(\"The maximun value is =\",max(a))\n",
    "print(\"The sum of list e is =\",sum(a))\n",
    "a.sort()\n",
    "print(a)\n",
    "a.reverse()\n",
    "print(a)\n",
    "a\n"
   ]
  },
  {
   "cell_type": "code",
   "execution_count": null,
   "id": "586ae113-611e-43b9-bff1-858d79a77c79",
   "metadata": {},
   "outputs": [],
   "source": []
  },
  {
   "cell_type": "code",
   "execution_count": 25,
   "id": "6e6a9bca-3c90-4c69-a35f-9d18be191732",
   "metadata": {},
   "outputs": [
    {
     "name": "stdout",
     "output_type": "stream",
     "text": [
      "['Ant', 'Apple', 'Bat', 'cat', 'zebra']\n"
     ]
    }
   ],
   "source": [
    "a=[\"zebra\",\"Apple\",\"cat\",\"Ant\",\"Bat\"]\n",
    "a.sort()\n",
    "print(a)"
   ]
  },
  {
   "cell_type": "code",
   "execution_count": null,
   "id": "ba3fe234-a733-4805-ab89-606e3afd1419",
   "metadata": {},
   "outputs": [],
   "source": []
  },
  {
   "cell_type": "code",
   "execution_count": 27,
   "id": "bc74a942-0f41-466a-8dbc-4edf3b2a5009",
   "metadata": {},
   "outputs": [
    {
     "name": "stdout",
     "output_type": "stream",
     "text": [
      "['Ant', 'Apple', 'Bat', 'Cat', 'Zebra', 'ant']\n"
     ]
    }
   ],
   "source": [
    "a=[\"Zebra\",\"Apple\",\"Cat\",\"Ant\",\"Bat\",\"ant\"]    \n",
    "a.sort()                                           #Capital and number are sorted first order \n",
    "print(a)"
   ]
  },
  {
   "cell_type": "code",
   "execution_count": null,
   "id": "58e469f5-4745-42d0-8dfa-133b83c5a663",
   "metadata": {},
   "outputs": [],
   "source": []
  },
  {
   "cell_type": "code",
   "execution_count": 31,
   "id": "fa619397-2212-4c5d-9d62-44bd06bef2d3",
   "metadata": {},
   "outputs": [
    {
     "name": "stdout",
     "output_type": "stream",
     "text": [
      "['.Zebra', '.ant', '1ant', 'Apple', 'Bat', 'Cat']\n"
     ]
    }
   ],
   "source": [
    "a=[\".Zebra\",\"Apple\",\"Cat\",\".ant\",\"Bat\",\"1ant\"]\n",
    "a.sort()                                           #. , numbers and Capital are sorted first order \n",
    "print(a)"
   ]
  },
  {
   "cell_type": "code",
   "execution_count": null,
   "id": "3562acf3-26fc-4323-892b-0277dbb1e5a5",
   "metadata": {},
   "outputs": [],
   "source": []
  },
  {
   "cell_type": "code",
   "execution_count": null,
   "id": "b08a8333-d31e-4ee6-af1f-7ca3a7434329",
   "metadata": {},
   "outputs": [],
   "source": [
    "#Search "
   ]
  },
  {
   "cell_type": "code",
   "execution_count": 34,
   "id": "e7dc92ed-b095-4b1a-9172-bba3db479ace",
   "metadata": {},
   "outputs": [
    {
     "name": "stdout",
     "output_type": "stream",
     "text": [
      "yes there is\n",
      "1\n"
     ]
    }
   ],
   "source": [
    "a=[\"Zebra\",\"Apple\",\"Cat\",\"Ant\",\"Bat\",\"ant\"]\n",
    "if \"Apple\" in a:\n",
    "    print(\"yes there is\")\n",
    "    print(a.count(\"Apple\"))\n",
    "else:\n",
    "    print(\"there is no suhc Apple\")"
   ]
  },
  {
   "cell_type": "code",
   "execution_count": null,
   "id": "9f674651-ea04-4c0a-9d1d-bc08ed9f3d07",
   "metadata": {},
   "outputs": [],
   "source": []
  },
  {
   "cell_type": "code",
   "execution_count": 35,
   "id": "f5fecf8e-af48-4909-a6e3-906ec58efab0",
   "metadata": {},
   "outputs": [
    {
     "name": "stdin",
     "output_type": "stream",
     "text": [
      "enter data for search= Ant\n"
     ]
    },
    {
     "name": "stdout",
     "output_type": "stream",
     "text": [
      "yes there is\n",
      "1\n"
     ]
    }
   ],
   "source": [
    "a=[\"Zebra\",\"Apple\",\"Cat\",\"Ant\",\"Bat\",\"ant\"]\n",
    "search=input(\"enter data for search=\")\n",
    "if search in a:\n",
    "    print(\"yes there is\")\n",
    "    print(a.count(search))\n",
    "else:\n",
    "    print(\"there is no such word\")"
   ]
  },
  {
   "cell_type": "code",
   "execution_count": null,
   "id": "727e6dec-1be2-4030-920a-b188b65b4c99",
   "metadata": {},
   "outputs": [],
   "source": [
    "#Task \n",
    "# Make case insensitive "
   ]
  },
  {
   "cell_type": "code",
   "execution_count": null,
   "id": "925949e6-49f9-4414-b7ca-f6735a4734df",
   "metadata": {},
   "outputs": [],
   "source": []
  },
  {
   "cell_type": "code",
   "execution_count": 38,
   "id": "76e10b87-3ec7-43ae-bba3-0b30de47edf6",
   "metadata": {},
   "outputs": [
    {
     "name": "stdout",
     "output_type": "stream",
     "text": [
      "[['Ram', 34, 'Kathmandu'], ['Shyam', 78, 'Bhaktapur'], ['Hari', 56, 'Lalitpur']]\n",
      "3\n"
     ]
    }
   ],
   "source": [
    "#nested list\n",
    "a= [['Ram',34,'Kathmandu'],\n",
    "   ['Shyam',78,'Bhaktapur'],\n",
    "   ['Hari',56,'Lalitpur']] \n",
    "a\n",
    "print(a)\n",
    "print(len(a))\n",
    "   "
   ]
  },
  {
   "cell_type": "code",
   "execution_count": null,
   "id": "90c738e8-a496-4a90-91d2-1c2a9787a235",
   "metadata": {},
   "outputs": [],
   "source": []
  },
  {
   "cell_type": "code",
   "execution_count": null,
   "id": "fe4a7c15-77fc-4970-b4ff-ef6f5c483d3d",
   "metadata": {},
   "outputs": [],
   "source": []
  },
  {
   "cell_type": "code",
   "execution_count": null,
   "id": "ca269516-e141-45ca-a567-cbbda2bfc27b",
   "metadata": {},
   "outputs": [],
   "source": []
  },
  {
   "cell_type": "code",
   "execution_count": 43,
   "id": "a60885b6-d379-4c98-a4b6-d41a701e9be6",
   "metadata": {},
   "outputs": [
    {
     "name": "stdin",
     "output_type": "stream",
     "text": [
      "Enter n= 3\n",
      "Enter name= Ram\n",
      "Enter age= 78\n",
      "enter add= Kathmnadu\n",
      "Enter name= Shyam\n",
      "Enter age= 34\n",
      "enter add= Bhaktapur\n",
      "Enter name= Ram\n",
      "Enter age= 22\n",
      "enter add= Lalitpur\n"
     ]
    },
    {
     "name": "stdout",
     "output_type": "stream",
     "text": [
      "[['Ram', 78, 'Kathmnadu'], ['Shyam', 34, 'Bhaktapur'], ['Ram', 22, 'Lalitpur']]\n"
     ]
    }
   ],
   "source": [
    "info =[]\n",
    "n=int(input(\"Enter n=\"))\n",
    "for i in range (n):\n",
    "    name=input(\"Enter name=\")\n",
    "    age=int(input(\"Enter age=\"))\n",
    "    add=input(\"enter add=\")\n",
    "    info.append([name,age,add])\n",
    "print(info)"
   ]
  },
  {
   "cell_type": "code",
   "execution_count": 44,
   "id": "1497981d-8e9f-4aa2-8630-42558d57428f",
   "metadata": {},
   "outputs": [
    {
     "name": "stdout",
     "output_type": "stream",
     "text": [
      "['Ram', 78, 'Kathmnadu']\n",
      "Ram\n"
     ]
    }
   ],
   "source": [
    "print(info[0])\n",
    "print(info[0][0])"
   ]
  },
  {
   "cell_type": "code",
   "execution_count": null,
   "id": "019b8f5d-9ef8-49a5-8a8d-620c53e4744d",
   "metadata": {},
   "outputs": [],
   "source": []
  },
  {
   "cell_type": "code",
   "execution_count": 49,
   "id": "bdf98c2f-f9be-4480-89ec-aa3ac78cbb1d",
   "metadata": {},
   "outputs": [
    {
     "name": "stdout",
     "output_type": "stream",
     "text": [
      "['Ram', 78, 'Kathmnadu']\n",
      "34\n"
     ]
    }
   ],
   "source": [
    "info=[['Ram', 78, 'Kathmnadu'], ['Shyam', 34, 'Bhaktapur'], ['Ram', 22, 'Lalitpur']]\n",
    "print(info[0])\n",
    "print(info[1][1])"
   ]
  },
  {
   "cell_type": "code",
   "execution_count": null,
   "id": "2bb62152-79f7-496a-aade-0adc09e0017a",
   "metadata": {},
   "outputs": [],
   "source": []
  },
  {
   "cell_type": "code",
   "execution_count": 50,
   "id": "41ffe92f-a334-4b0a-888c-999f1e045152",
   "metadata": {},
   "outputs": [
    {
     "data": {
      "text/plain": [
       "[['Ram', 78, 'Kathmnadu'], ['Shyam', 34, 'Bhaktapur'], ['Ram', 22, 'Lalitpur']]"
      ]
     },
     "execution_count": 50,
     "metadata": {},
     "output_type": "execute_result"
    }
   ],
   "source": [
    "info"
   ]
  },
  {
   "cell_type": "code",
   "execution_count": 55,
   "id": "06d24344-372e-45a1-9cfa-f46e51cbb801",
   "metadata": {},
   "outputs": [
    {
     "name": "stdin",
     "output_type": "stream",
     "text": [
      "enter name Ram\n"
     ]
    },
    {
     "name": "stdout",
     "output_type": "stream",
     "text": [
      "['Ram', 78, 'Kathmnadu']\n",
      "['Ram', 22, 'Lalitpur']\n"
     ]
    }
   ],
   "source": [
    "# wap to search proivded nmae\n",
    "\n",
    "name=input(\"enter name\")\n",
    "for i in info:\n",
    "   if name in i:\n",
    "    print(i) \n"
   ]
  },
  {
   "cell_type": "code",
   "execution_count": null,
   "id": "04a64bf4-3c15-4dde-99a2-e4a10330fdec",
   "metadata": {},
   "outputs": [],
   "source": []
  },
  {
   "cell_type": "code",
   "execution_count": 56,
   "id": "e14121eb-eaff-43cb-98f1-62815e1d7725",
   "metadata": {},
   "outputs": [
    {
     "name": "stdin",
     "output_type": "stream",
     "text": [
      "enter name Shyam\n"
     ]
    },
    {
     "name": "stdout",
     "output_type": "stream",
     "text": [
      "['Shyam', 34, 'Bhaktapur']\n"
     ]
    }
   ],
   "source": [
    "name=input(\"enter name\")\n",
    "for i in info:\n",
    "   if name in i:               #for \"i in range\" is usually used in Index ,while mostly \" for i in a\" is used.\n",
    "    print(i) \n"
   ]
  },
  {
   "cell_type": "code",
   "execution_count": null,
   "id": "7ba2fe47-ef3b-4f4d-af8a-d07bd77b4e92",
   "metadata": {},
   "outputs": [],
   "source": []
  },
  {
   "cell_type": "code",
   "execution_count": 58,
   "id": "1ecadaa3-d62d-4c27-ba8b-7caf5eb18ece",
   "metadata": {},
   "outputs": [
    {
     "name": "stdin",
     "output_type": "stream",
     "text": [
      "enter name Bhaktapur\n"
     ]
    },
    {
     "name": "stdout",
     "output_type": "stream",
     "text": [
      "['Shyam', 34, 'Bhaktapur']\n"
     ]
    }
   ],
   "source": [
    "name=input(\"enter location\")\n",
    "for i in info:\n",
    "   if location in i:               #for \"i in range\" is usually used in Index ,while mostly \" for i in a\" is used.\n",
    "    print(i) \n"
   ]
  },
  {
   "cell_type": "code",
   "execution_count": null,
   "id": "0210e337-e648-446a-b086-fc8d0a109e87",
   "metadata": {},
   "outputs": [],
   "source": []
  },
  {
   "cell_type": "code",
   "execution_count": 66,
   "id": "8e6f4d48-9edb-482d-8e8e-a511d7e981b0",
   "metadata": {},
   "outputs": [
    {
     "name": "stdin",
     "output_type": "stream",
     "text": [
      "enter age 30\n"
     ]
    },
    {
     "name": "stdout",
     "output_type": "stream",
     "text": [
      "['Ram', 78, 'Kathmnadu']\n",
      "['Shyam', 34, 'Bhaktapur']\n"
     ]
    }
   ],
   "source": [
    "#WAP to print list whose age is greater / equals to a number\n",
    "\n",
    "age=int(input(\"enter age\"))\n",
    "for i in info:\n",
    "    if i[1] >= age:\n",
    "        print(i) \n"
   ]
  },
  {
   "cell_type": "code",
   "execution_count": null,
   "id": "c77c7611-8c43-4b9f-9023-fc34b56b4fb7",
   "metadata": {},
   "outputs": [],
   "source": []
  },
  {
   "cell_type": "code",
   "execution_count": 67,
   "id": "97f542de-0b35-47af-9d7f-94a89ab11c9c",
   "metadata": {},
   "outputs": [],
   "source": [
    "#Task\n",
    "# Try CRUD ( Create, Read , Update , delete) in info "
   ]
  },
  {
   "cell_type": "code",
   "execution_count": null,
   "id": "0b63de3b-8924-43bc-8993-75a3624fc5bc",
   "metadata": {},
   "outputs": [],
   "source": []
  },
  {
   "cell_type": "code",
   "execution_count": null,
   "id": "4ad7038b-f42f-41d7-9c68-58a7a055a9e7",
   "metadata": {},
   "outputs": [],
   "source": []
  },
  {
   "cell_type": "code",
   "execution_count": null,
   "id": "5b84ebd2-8a42-49db-bd30-aaf45e309d55",
   "metadata": {},
   "outputs": [],
   "source": []
  },
  {
   "cell_type": "code",
   "execution_count": null,
   "id": "c6cd5522-fea4-45f2-aa2f-88ac8e419440",
   "metadata": {},
   "outputs": [],
   "source": []
  },
  {
   "cell_type": "code",
   "execution_count": null,
   "id": "d7429cf4-e2ec-44bf-bc97-0b0cf797e32c",
   "metadata": {},
   "outputs": [],
   "source": []
  },
  {
   "cell_type": "code",
   "execution_count": null,
   "id": "f541b10b-28f5-4f40-a7a8-6103c6da4445",
   "metadata": {},
   "outputs": [],
   "source": []
  },
  {
   "cell_type": "code",
   "execution_count": null,
   "id": "599f9ee5-9b1b-4ce3-a0d1-e42adec70fa0",
   "metadata": {},
   "outputs": [],
   "source": []
  },
  {
   "cell_type": "code",
   "execution_count": null,
   "id": "8b4f38d9-dda8-452b-9187-8a73516e10ed",
   "metadata": {},
   "outputs": [],
   "source": []
  },
  {
   "cell_type": "code",
   "execution_count": null,
   "id": "b0cfcbcb-078e-49b0-b385-2602572069c9",
   "metadata": {},
   "outputs": [],
   "source": []
  },
  {
   "cell_type": "code",
   "execution_count": null,
   "id": "e5f69dc2-35e7-4feb-a56c-83e43cf6e87b",
   "metadata": {},
   "outputs": [],
   "source": []
  },
  {
   "cell_type": "code",
   "execution_count": null,
   "id": "49791798-3e21-47be-bc1d-61aa9dcbf688",
   "metadata": {},
   "outputs": [],
   "source": []
  },
  {
   "cell_type": "code",
   "execution_count": null,
   "id": "cd753fe1-8c9d-4b2a-8ba4-7ec49b2aeead",
   "metadata": {},
   "outputs": [],
   "source": []
  },
  {
   "cell_type": "code",
   "execution_count": null,
   "id": "173653d5-2ac7-4be3-abf4-3bef1b236425",
   "metadata": {},
   "outputs": [],
   "source": []
  },
  {
   "cell_type": "code",
   "execution_count": null,
   "id": "956ad4b1-04c4-4cf9-80e6-5252e544ea53",
   "metadata": {},
   "outputs": [],
   "source": []
  },
  {
   "cell_type": "code",
   "execution_count": null,
   "id": "91543994-d9ed-43e1-87c4-8f55a16765f7",
   "metadata": {},
   "outputs": [],
   "source": []
  },
  {
   "cell_type": "code",
   "execution_count": null,
   "id": "12d1d3a5-4c8e-417b-8044-b63a9cfb47a5",
   "metadata": {},
   "outputs": [],
   "source": []
  },
  {
   "cell_type": "code",
   "execution_count": null,
   "id": "277c627c-6070-467a-857d-460b40a73220",
   "metadata": {},
   "outputs": [],
   "source": []
  },
  {
   "cell_type": "code",
   "execution_count": null,
   "id": "5590d0ed-e890-463f-82f7-0b5b0f274d7d",
   "metadata": {},
   "outputs": [],
   "source": []
  },
  {
   "cell_type": "code",
   "execution_count": null,
   "id": "248d7c2f-2eb9-4db4-b3f5-4fc6e218519a",
   "metadata": {},
   "outputs": [],
   "source": []
  },
  {
   "cell_type": "code",
   "execution_count": null,
   "id": "1ac77f35-528f-4a91-a508-5c9d9357c595",
   "metadata": {},
   "outputs": [],
   "source": []
  },
  {
   "cell_type": "code",
   "execution_count": null,
   "id": "4dc2507a-fcd8-4ca8-821d-3b20c60849f3",
   "metadata": {},
   "outputs": [],
   "source": []
  },
  {
   "cell_type": "code",
   "execution_count": null,
   "id": "1980d929-4a55-4e2c-aeac-9e499d2e9794",
   "metadata": {},
   "outputs": [],
   "source": []
  },
  {
   "cell_type": "code",
   "execution_count": null,
   "id": "e34b639a-81be-4a01-821c-a2560682ce28",
   "metadata": {},
   "outputs": [],
   "source": []
  },
  {
   "cell_type": "code",
   "execution_count": null,
   "id": "cda9af90-ee18-48da-bd2c-5a3a27b751a0",
   "metadata": {},
   "outputs": [],
   "source": []
  },
  {
   "cell_type": "code",
   "execution_count": null,
   "id": "7d1caf82-a634-4d55-b54a-e0183a7f1938",
   "metadata": {},
   "outputs": [],
   "source": []
  },
  {
   "cell_type": "code",
   "execution_count": null,
   "id": "a7beb4f4-b9a0-4f3c-809e-f3ff85d4b835",
   "metadata": {},
   "outputs": [],
   "source": []
  },
  {
   "cell_type": "code",
   "execution_count": null,
   "id": "6f482215-26ba-4666-9784-d350c11ae5ca",
   "metadata": {},
   "outputs": [],
   "source": []
  },
  {
   "cell_type": "code",
   "execution_count": null,
   "id": "8d9273fb-eed0-4fbd-9378-3eced0bd74f8",
   "metadata": {},
   "outputs": [],
   "source": []
  },
  {
   "cell_type": "code",
   "execution_count": null,
   "id": "0d5802dd-f829-4ed9-b440-138f5ed0a54b",
   "metadata": {},
   "outputs": [],
   "source": []
  },
  {
   "cell_type": "code",
   "execution_count": null,
   "id": "a36ba83f-44c3-4555-941e-b60e27f0ceb0",
   "metadata": {},
   "outputs": [],
   "source": []
  },
  {
   "cell_type": "code",
   "execution_count": null,
   "id": "69beec99-c9e9-4e9a-89bb-5f66329d0f6f",
   "metadata": {},
   "outputs": [],
   "source": []
  },
  {
   "cell_type": "code",
   "execution_count": null,
   "id": "0dbecbe6-a36b-4afd-8752-f9f7e32b80d3",
   "metadata": {},
   "outputs": [],
   "source": []
  },
  {
   "cell_type": "code",
   "execution_count": null,
   "id": "25ff0331-6611-4e15-9ee0-20b0e83d4451",
   "metadata": {},
   "outputs": [],
   "source": []
  },
  {
   "cell_type": "code",
   "execution_count": null,
   "id": "b8684bbe-f9ef-4752-a5d0-112226d3a8d7",
   "metadata": {},
   "outputs": [],
   "source": []
  },
  {
   "cell_type": "code",
   "execution_count": null,
   "id": "7da59fde-01b3-4810-9012-ee2d77da7d32",
   "metadata": {},
   "outputs": [],
   "source": []
  },
  {
   "cell_type": "code",
   "execution_count": null,
   "id": "72022073-2c43-402e-9f6f-69b658bce382",
   "metadata": {},
   "outputs": [],
   "source": []
  },
  {
   "cell_type": "code",
   "execution_count": null,
   "id": "7170b498-cb07-4695-afe0-ce54b9c6bff6",
   "metadata": {},
   "outputs": [],
   "source": []
  }
 ],
 "metadata": {
  "kernelspec": {
   "display_name": "Python 3 (ipykernel)",
   "language": "python",
   "name": "python3"
  },
  "language_info": {
   "codemirror_mode": {
    "name": "ipython",
    "version": 3
   },
   "file_extension": ".py",
   "mimetype": "text/x-python",
   "name": "python",
   "nbconvert_exporter": "python",
   "pygments_lexer": "ipython3",
   "version": "3.12.7"
  }
 },
 "nbformat": 4,
 "nbformat_minor": 5
}
