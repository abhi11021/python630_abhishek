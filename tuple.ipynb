{
 "cells": [
  {
   "cell_type": "code",
   "execution_count": 1,
   "id": "90199328-5ca4-4deb-9a02-39e5907416ff",
   "metadata": {},
   "outputs": [],
   "source": [
    "# tuple\n",
    "# Indexing\n",
    "# Ordered\n",
    "# Multiple and Duplicate data\n",
    "#Imputable\n"
   ]
  },
  {
   "cell_type": "code",
   "execution_count": 2,
   "id": "04e98e32-7613-4ec2-b530-d5735bca5933",
   "metadata": {},
   "outputs": [
    {
     "name": "stdout",
     "output_type": "stream",
     "text": [
      "<class 'tuple'>\n"
     ]
    }
   ],
   "source": [
    "a=tuple()\n",
    "print(type(a))"
   ]
  },
  {
   "cell_type": "code",
   "execution_count": 3,
   "id": "a2da7e83-7b66-43c7-b08c-f8b86b610a28",
   "metadata": {},
   "outputs": [
    {
     "name": "stdout",
     "output_type": "stream",
     "text": [
      "(1, 2, 3, 4, 5)\n",
      "<class 'tuple'>\n"
     ]
    }
   ],
   "source": [
    "a=(1,2,3,4,5)\n",
    "print(a)\n",
    "print(type(a))"
   ]
  },
  {
   "cell_type": "code",
   "execution_count": 4,
   "id": "ed008e20-6c09-4e3a-8ee6-6be9e8fc6332",
   "metadata": {},
   "outputs": [
    {
     "data": {
      "text/plain": [
       "tuple"
      ]
     },
     "execution_count": 4,
     "metadata": {},
     "output_type": "execute_result"
    }
   ],
   "source": [
    "a=(\"Apple\",\"Ball\")\n",
    "type(a)"
   ]
  },
  {
   "cell_type": "code",
   "execution_count": 5,
   "id": "3f54aa4c-c274-465c-855e-b760ed204597",
   "metadata": {},
   "outputs": [
    {
     "data": {
      "text/plain": [
       "str"
      ]
     },
     "execution_count": 5,
     "metadata": {},
     "output_type": "execute_result"
    }
   ],
   "source": [
    "a=(\"Apple\")\n",
    "type(a)"
   ]
  },
  {
   "cell_type": "code",
   "execution_count": 6,
   "id": "5edc5400-815f-4e27-9cf1-1bd1ca1db01a",
   "metadata": {},
   "outputs": [
    {
     "data": {
      "text/plain": [
       "tuple"
      ]
     },
     "execution_count": 6,
     "metadata": {},
     "output_type": "execute_result"
    }
   ],
   "source": [
    "a=(\"Apple\",)             # comma (,) is required to make tuple data type\n",
    "type(a)"
   ]
  },
  {
   "cell_type": "code",
   "execution_count": 12,
   "id": "27b53ebf-9c0c-4276-ab5e-264fa16cf00b",
   "metadata": {},
   "outputs": [
    {
     "name": "stdout",
     "output_type": "stream",
     "text": [
      "Apple\n",
      "('Apple', 'Ball', 'Cat', 'Dog', 'Apple')\n"
     ]
    }
   ],
   "source": [
    "a=(\"Apple\",\"Ball\",\"Cat\",\"Dog\",\"Apple\")\n",
    "print(a[0])\n",
    "print(a[0:5])"
   ]
  },
  {
   "cell_type": "code",
   "execution_count": null,
   "id": "a2757592-b9ba-4e8d-8513-184f1f37b8bb",
   "metadata": {},
   "outputs": [],
   "source": []
  },
  {
   "cell_type": "code",
   "execution_count": null,
   "id": "d1c839e7-ab73-4e2a-8d1f-491d447174ea",
   "metadata": {},
   "outputs": [],
   "source": [
    "# No append() \n",
    "# No Insert() \n",
    "# No xtend() \n",
    "# No update() \n",
    "# No delete()\n",
    "# But we can Read"
   ]
  },
  {
   "cell_type": "code",
   "execution_count": 14,
   "id": "4b1c1438-d859-479e-8e6b-c81a4a8eef6f",
   "metadata": {},
   "outputs": [
    {
     "name": "stdout",
     "output_type": "stream",
     "text": [
      "(1, 2, 3, 4, 5, 6)\n"
     ]
    }
   ],
   "source": [
    "a=(1,2,3)\n",
    "b=(4,5,6)\n",
    "c=a+b\n",
    "print(c)"
   ]
  },
  {
   "cell_type": "code",
   "execution_count": null,
   "id": "bb6160e8-f5df-4c54-b3aa-9d315b51a26c",
   "metadata": {},
   "outputs": [],
   "source": []
  },
  {
   "cell_type": "code",
   "execution_count": 15,
   "id": "f8498d65-4947-4dc9-98a0-47fedccae44a",
   "metadata": {},
   "outputs": [
    {
     "name": "stdin",
     "output_type": "stream",
     "text": [
      "Enter n= 10\n",
      "Enter x= 20\n",
      "Enter x= 30\n",
      "Enter x= 40\n",
      "Enter x= 50\n",
      "Enter x= 60\n",
      "Enter x= 70\n",
      "Enter x= 80\n",
      "Enter x= 90\n",
      "Enter x= 100\n",
      "Enter x= 110\n"
     ]
    },
    {
     "data": {
      "text/plain": [
       "(20, 30, 40, 50, 60, 70, 80, 90, 100, 110)"
      ]
     },
     "execution_count": 15,
     "metadata": {},
     "output_type": "execute_result"
    }
   ],
   "source": [
    "t=tuple()\n",
    "n=int(input(\"Enter n=\"))\n",
    "for i in range (n):\n",
    "    x=int(input(\"Enter x=\"))\n",
    "    t=t+(x,)\n",
    "t\n",
    "            "
   ]
  },
  {
   "cell_type": "code",
   "execution_count": 16,
   "id": "4566e739-cdf9-4d98-b652-c6e400e65b5c",
   "metadata": {},
   "outputs": [],
   "source": [
    "# in tuple we can\n",
    "# min() max() sum()\n"
   ]
  },
  {
   "cell_type": "code",
   "execution_count": 20,
   "id": "ca63257f-943b-447d-aafb-99cf40fbadf1",
   "metadata": {},
   "outputs": [
    {
     "name": "stdout",
     "output_type": "stream",
     "text": [
      "Min value= 20\n",
      "Max value= 110\n",
      "Sum value= 650\n"
     ]
    }
   ],
   "source": [
    "print(\"Min value=\",min(t))\n",
    "print(\"Max value=\",max(t))\n",
    "print(\"Sum value=\",sum(t))"
   ]
  },
  {
   "cell_type": "code",
   "execution_count": 21,
   "id": "d357036b-6e2b-47b2-b9d4-19cf5ab6f2f7",
   "metadata": {},
   "outputs": [
    {
     "name": "stdout",
     "output_type": "stream",
     "text": [
      "(10, 11, 12, 13, 14, 15)\n"
     ]
    }
   ],
   "source": [
    "x=10,11,12,13,14,15\n",
    "print(x)"
   ]
  },
  {
   "cell_type": "code",
   "execution_count": 22,
   "id": "35633aca-6e6a-46d7-8e16-d5d7073edfd2",
   "metadata": {},
   "outputs": [],
   "source": [
    "#tuple inside tuple"
   ]
  },
  {
   "cell_type": "code",
   "execution_count": 24,
   "id": "db46d42d-22b0-4f82-bc96-907ec3b67a4d",
   "metadata": {},
   "outputs": [
    {
     "data": {
      "text/plain": [
       "(('Ram', 9808778765), ('shyam', 9845334523))"
      ]
     },
     "execution_count": 24,
     "metadata": {},
     "output_type": "execute_result"
    }
   ],
   "source": [
    "info=(('Ram',9808778765),('shyam',9845334523))\n",
    "info"
   ]
  },
  {
   "cell_type": "code",
   "execution_count": null,
   "id": "31c6acb1-481c-48a7-b6b7-ca80028d54e0",
   "metadata": {},
   "outputs": [],
   "source": []
  },
  {
   "cell_type": "code",
   "execution_count": 25,
   "id": "5ceac691-bf46-4cb7-b17c-81656320bf99",
   "metadata": {},
   "outputs": [
    {
     "data": {
      "text/plain": [
       "{'Ram': 9808778765, 'shyam': 9845334523}"
      ]
     },
     "execution_count": 25,
     "metadata": {},
     "output_type": "execute_result"
    }
   ],
   "source": [
    "#tuple to dict \n",
    "dict(info)"
   ]
  },
  {
   "cell_type": "code",
   "execution_count": 30,
   "id": "3d505c45-29c5-4435-8789-4d5043b43ed8",
   "metadata": {},
   "outputs": [
    {
     "data": {
      "text/plain": [
       "{'Ram': 9808778765, 'shyam': 9845334523}"
      ]
     },
     "execution_count": 30,
     "metadata": {},
     "output_type": "execute_result"
    }
   ],
   "source": [
    "#List  to dict \n",
    "\n",
    "l=[['Ram', 9808778765], ['shyam', 9845334523]]\n",
    "dict(l)\n"
   ]
  },
  {
   "cell_type": "code",
   "execution_count": null,
   "id": "2e45daff-3886-4331-8fc0-f32564aacff3",
   "metadata": {},
   "outputs": [],
   "source": []
  },
  {
   "cell_type": "code",
   "execution_count": 31,
   "id": "664ef4fd-3c49-4714-808c-cc8bf3a6be62",
   "metadata": {},
   "outputs": [
    {
     "data": {
      "text/plain": [
       "('Ram', 'Shyam')"
      ]
     },
     "execution_count": 31,
     "metadata": {},
     "output_type": "execute_result"
    }
   ],
   "source": [
    "#Tuple to list coversion \n",
    "\n",
    "a=(\"Ram\",\"Shyam\",\"Hari\")\n",
    "b=list(a)\n",
    "del b[2]\n",
    "a=tuple(b)\n",
    "a"
   ]
  },
  {
   "cell_type": "code",
   "execution_count": null,
   "id": "6e687ab6-fb06-4cbb-840b-9d65f6e50156",
   "metadata": {},
   "outputs": [],
   "source": []
  },
  {
   "cell_type": "code",
   "execution_count": null,
   "id": "132ea6b7-6447-470d-8c83-fa9b0b654954",
   "metadata": {},
   "outputs": [],
   "source": []
  },
  {
   "cell_type": "code",
   "execution_count": null,
   "id": "f2659c35-4f5c-4322-be48-44d08419c9e4",
   "metadata": {},
   "outputs": [],
   "source": []
  },
  {
   "cell_type": "code",
   "execution_count": null,
   "id": "b26bdee3-6807-460e-ba99-173e5819c35d",
   "metadata": {},
   "outputs": [],
   "source": []
  },
  {
   "cell_type": "code",
   "execution_count": null,
   "id": "e3105768-9cd9-4aec-812c-91a43ca13323",
   "metadata": {},
   "outputs": [],
   "source": []
  },
  {
   "cell_type": "code",
   "execution_count": null,
   "id": "66436fcd-f8ed-4649-8a58-84f0fbf601ab",
   "metadata": {},
   "outputs": [],
   "source": []
  },
  {
   "cell_type": "code",
   "execution_count": null,
   "id": "8a86504d-516d-465c-a66b-4b03fd17ba53",
   "metadata": {},
   "outputs": [],
   "source": []
  }
 ],
 "metadata": {
  "kernelspec": {
   "display_name": "Python 3 (ipykernel)",
   "language": "python",
   "name": "python3"
  },
  "language_info": {
   "codemirror_mode": {
    "name": "ipython",
    "version": 3
   },
   "file_extension": ".py",
   "mimetype": "text/x-python",
   "name": "python",
   "nbconvert_exporter": "python",
   "pygments_lexer": "ipython3",
   "version": "3.12.7"
  }
 },
 "nbformat": 4,
 "nbformat_minor": 5
}
