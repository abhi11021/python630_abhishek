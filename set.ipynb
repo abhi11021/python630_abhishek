{
 "cells": [
  {
   "cell_type": "code",
   "execution_count": 1,
   "id": "ab8e185b-33d2-4b94-a961-9d6f254cab44",
   "metadata": {},
   "outputs": [],
   "source": [
    "# set\n",
    "# -No indexing\n",
    "# Unordered\n",
    "# No Duplicate but multipe data\n",
    "# Mutable\n"
   ]
  },
  {
   "cell_type": "code",
   "execution_count": 2,
   "id": "6f957669-05f7-4936-bf92-d09d89dc2b21",
   "metadata": {},
   "outputs": [
    {
     "name": "stdout",
     "output_type": "stream",
     "text": [
      "<class 'set'>\n"
     ]
    }
   ],
   "source": [
    "s={1,2,3,4}\n",
    "print(type(s))"
   ]
  },
  {
   "cell_type": "code",
   "execution_count": 3,
   "id": "4cccf70f-d128-4bec-b8bf-448466802391",
   "metadata": {},
   "outputs": [
    {
     "name": "stdout",
     "output_type": "stream",
     "text": [
      "{'Ball', 'Apple', 'Dog', 'Cat'}\n"
     ]
    }
   ],
   "source": [
    "s={\"Apple\",\"Ball\",\"Cat\",\"Dog\"}\n",
    "print(s)"
   ]
  },
  {
   "cell_type": "code",
   "execution_count": 5,
   "id": "1f5dbd4a-10d6-433d-b3c0-0dea4250ddeb",
   "metadata": {},
   "outputs": [
    {
     "name": "stdout",
     "output_type": "stream",
     "text": [
      "{'Ball', 'Apple', 'Dog', 'Cat'}\n"
     ]
    }
   ],
   "source": [
    "s={\"Apple\",\"Ball\",\"Cat\",\"Dog\",\"Apple\"}\n",
    "print(s)"
   ]
  },
  {
   "cell_type": "code",
   "execution_count": null,
   "id": "028b7764-e223-411e-8db2-ee2cae3ee45a",
   "metadata": {},
   "outputs": [],
   "source": [
    "# In set there in no + \""
   ]
  },
  {
   "cell_type": "code",
   "execution_count": 6,
   "id": "f2e578d5-e3b9-4c6c-8941-0905f8b4a378",
   "metadata": {},
   "outputs": [
    {
     "name": "stdout",
     "output_type": "stream",
     "text": [
      "set()\n"
     ]
    }
   ],
   "source": [
    "#empty Set\n",
    "s=set()\n",
    "print(s)"
   ]
  },
  {
   "cell_type": "code",
   "execution_count": 7,
   "id": "38b3df7d-eb5e-401f-8a89-3439f02d99c9",
   "metadata": {},
   "outputs": [],
   "source": [
    "#add() update()"
   ]
  },
  {
   "cell_type": "code",
   "execution_count": 8,
   "id": "a38903bb-7dd1-485b-9225-50a7aab366d9",
   "metadata": {},
   "outputs": [
    {
     "data": {
      "text/plain": [
       "{'Ball', 'apple'}"
      ]
     },
     "execution_count": 8,
     "metadata": {},
     "output_type": "execute_result"
    }
   ],
   "source": [
    "s=set()\n",
    "s.add(\"apple\")\n",
    "s.add(\"Ball\")\n",
    "s"
   ]
  },
  {
   "cell_type": "code",
   "execution_count": 9,
   "id": "e792c6b7-e82e-4373-ab8a-6b2498cb339d",
   "metadata": {},
   "outputs": [
    {
     "name": "stdout",
     "output_type": "stream",
     "text": [
      "{1, 2, 3, 4, 5, 6, 7, 8}\n"
     ]
    }
   ],
   "source": [
    "a={1,2,3,4}\n",
    "b={5,6,7,8}\n",
    "a.update(b)\n",
    "print(a)"
   ]
  },
  {
   "cell_type": "code",
   "execution_count": 10,
   "id": "05abbea3-5c16-4b86-8914-8816550a3ea0",
   "metadata": {},
   "outputs": [
    {
     "name": "stdout",
     "output_type": "stream",
     "text": [
      "{'Ball', 'Dog', 'Cat'}\n"
     ]
    }
   ],
   "source": [
    "#Remove\n",
    "s={\"Apple\",\"Ball\",\"Cat\",\"Dog\",\"Apple\"}\n",
    "s.remove(\"Apple\")\n",
    "print(s)"
   ]
  },
  {
   "cell_type": "code",
   "execution_count": 12,
   "id": "81e70b86-06c3-4b60-8f22-43588588a1e6",
   "metadata": {},
   "outputs": [],
   "source": [
    "#Replace is not posible\n",
    "# s={\"Apple\",\"Ball\",\"Cat\",\"Dog\",\"Apple\"}\n",
    "# s.replace(\"Apple\",\"apple\")\n",
    "\n"
   ]
  },
  {
   "cell_type": "code",
   "execution_count": 13,
   "id": "4007694c-1420-4fd2-aa2e-a82cd65aa4d0",
   "metadata": {},
   "outputs": [
    {
     "data": {
      "text/plain": [
       "{'Apple', 'Ball', 'Cat', 'Dog'}"
      ]
     },
     "execution_count": 13,
     "metadata": {},
     "output_type": "execute_result"
    }
   ],
   "source": [
    "l={\"Apple\",\"Ball\",\"Cat\",\"Dog\",\"Apple\"}\n",
    "s=set(l)\n",
    "s"
   ]
  },
  {
   "cell_type": "code",
   "execution_count": 14,
   "id": "a82285de-c7d5-406f-969a-da454e36e3dc",
   "metadata": {},
   "outputs": [
    {
     "data": {
      "text/plain": [
       "['Ball', 'Apple', 'Dog', 'Cat']"
      ]
     },
     "execution_count": 14,
     "metadata": {},
     "output_type": "execute_result"
    }
   ],
   "source": [
    "l={\"Apple\",\"Ball\",\"Cat\",\"Dog\",\"Apple\"}\n",
    "s=set(l)\n",
    "l=list(s)\n",
    "l"
   ]
  },
  {
   "cell_type": "code",
   "execution_count": 15,
   "id": "7614e849-99d8-4f1a-807a-38a05b2b8525",
   "metadata": {},
   "outputs": [],
   "source": [
    "# intersection() iunion() differece() isdisjoint() issubset() issuperset()"
   ]
  },
  {
   "cell_type": "code",
   "execution_count": 24,
   "id": "a3e10f06-d654-4412-abce-13b204757da0",
   "metadata": {},
   "outputs": [
    {
     "name": "stdout",
     "output_type": "stream",
     "text": [
      "{'Jack', 'Sam'}\n",
      "{'Bill', 'Sam', 'satya', 'Chang', 'Hari', 'Shyam', 'Jack', 'Steve', 'Nabin', 'Kate', 'Ram', 'Santosh'}\n",
      "{'Hari', 'Shyam', 'Steve', 'Kate', 'Ram'}\n",
      "{'Bill', 'satya', 'Chang', 'Nabin', 'Santosh'}\n"
     ]
    }
   ],
   "source": [
    "#intersection # Union # \n",
    "apple={\"Ram\",\"Shyam\",\"Steve\",\"Jack\",\"Kate\",\"Hari\",\"Sam\"}\n",
    "ms={\"satya\",\"Bill\",\"Sam\",\"Jack\",\"Chang\",\"Nabin\",\"Santosh\"}\n",
    "print(apple.intersection(ms))\n",
    "print(apple.union(ms))\n",
    "print(apple-ms)\n",
    "print(ms-apple)"
   ]
  },
  {
   "cell_type": "code",
   "execution_count": 29,
   "id": "4ec9dbd3-5381-4a8d-b26a-1071b280fdf4",
   "metadata": {},
   "outputs": [
    {
     "name": "stdout",
     "output_type": "stream",
     "text": [
      "{'Change', 'Satya'}\n"
     ]
    }
   ],
   "source": [
    "#Joint Set # Disjointset #Union #Subset #Superset \n",
    "U={\"Ram\",\"Shyam\",\"Steve\",\"Jack\",\"Kate\",\"Hari\",\"Sam\",\"Change\",\"Satya\",\"Bill\",\"Sam\",\"Jack\",\"Chang\",\"Nabin\",\"Santosh\"}\n",
    "print(U-apple.union(ms))"
   ]
  },
  {
   "cell_type": "code",
   "execution_count": 31,
   "id": "5d0f885c-623a-48b7-96d5-d4b6d0e920f1",
   "metadata": {},
   "outputs": [
    {
     "data": {
      "text/plain": [
       "True"
      ]
     },
     "execution_count": 31,
     "metadata": {},
     "output_type": "execute_result"
    }
   ],
   "source": [
    "#Subset \n",
    "\n",
    "a={1,2,3,4,5,6,7,8,9,10,0}\n",
    "b={1,2,3,4}\n",
    "b.issubset(a)\n"
   ]
  },
  {
   "cell_type": "code",
   "execution_count": 33,
   "id": "45281bcf-c396-4723-99d5-c6a04925f217",
   "metadata": {},
   "outputs": [],
   "source": [
    "# No set inside Set because there is no mutable data inside set"
   ]
  },
  {
   "cell_type": "code",
   "execution_count": null,
   "id": "6e865713-f0ba-4ea5-b4fc-26e61c736bd4",
   "metadata": {},
   "outputs": [],
   "source": []
  },
  {
   "cell_type": "code",
   "execution_count": null,
   "id": "0f38d537-bb93-4fdc-865e-940fa6fe7028",
   "metadata": {},
   "outputs": [],
   "source": []
  },
  {
   "cell_type": "code",
   "execution_count": null,
   "id": "3a9441f2-4e66-4bcf-aee1-38542090f10b",
   "metadata": {},
   "outputs": [],
   "source": []
  },
  {
   "cell_type": "code",
   "execution_count": null,
   "id": "ab4783c0-612d-4a89-9075-30bd60545b69",
   "metadata": {},
   "outputs": [],
   "source": []
  },
  {
   "cell_type": "code",
   "execution_count": null,
   "id": "f941037d-2610-4f71-8d7b-88e006529475",
   "metadata": {},
   "outputs": [],
   "source": []
  },
  {
   "cell_type": "code",
   "execution_count": null,
   "id": "95a96edc-5cdb-454b-8942-53e8f312cdbb",
   "metadata": {},
   "outputs": [],
   "source": []
  },
  {
   "cell_type": "code",
   "execution_count": null,
   "id": "b373881d-8792-4666-a447-8f0cef31bcab",
   "metadata": {},
   "outputs": [],
   "source": []
  },
  {
   "cell_type": "code",
   "execution_count": null,
   "id": "4c609e81-d649-4dff-8c86-8d5128550360",
   "metadata": {},
   "outputs": [],
   "source": []
  },
  {
   "cell_type": "code",
   "execution_count": null,
   "id": "2d0bf3a3-0aac-4097-94eb-9e998c074274",
   "metadata": {},
   "outputs": [],
   "source": []
  },
  {
   "cell_type": "code",
   "execution_count": null,
   "id": "bd636c45-abbf-4dde-a793-b38b7b6072ce",
   "metadata": {},
   "outputs": [],
   "source": []
  },
  {
   "cell_type": "code",
   "execution_count": null,
   "id": "cd6cf426-f898-4ee4-b08d-455874d8a022",
   "metadata": {},
   "outputs": [],
   "source": []
  },
  {
   "cell_type": "code",
   "execution_count": null,
   "id": "a461c8b3-ef78-4c40-ae6d-36e43e1bc973",
   "metadata": {},
   "outputs": [],
   "source": []
  },
  {
   "cell_type": "code",
   "execution_count": null,
   "id": "ba45b344-1fee-4e90-b84b-9cbcb21c0f2c",
   "metadata": {},
   "outputs": [],
   "source": []
  },
  {
   "cell_type": "code",
   "execution_count": null,
   "id": "c9b1a784-748c-4068-8102-a540b792d27e",
   "metadata": {},
   "outputs": [],
   "source": []
  },
  {
   "cell_type": "code",
   "execution_count": null,
   "id": "78a94002-e2b4-46cf-96a7-37f2e8b23a44",
   "metadata": {},
   "outputs": [],
   "source": []
  },
  {
   "cell_type": "code",
   "execution_count": null,
   "id": "beb765b5-730a-4d62-bf28-b0ecb62d27c4",
   "metadata": {},
   "outputs": [],
   "source": []
  }
 ],
 "metadata": {
  "kernelspec": {
   "display_name": "Python 3 (ipykernel)",
   "language": "python",
   "name": "python3"
  },
  "language_info": {
   "codemirror_mode": {
    "name": "ipython",
    "version": 3
   },
   "file_extension": ".py",
   "mimetype": "text/x-python",
   "name": "python",
   "nbconvert_exporter": "python",
   "pygments_lexer": "ipython3",
   "version": "3.12.7"
  }
 },
 "nbformat": 4,
 "nbformat_minor": 5
}
