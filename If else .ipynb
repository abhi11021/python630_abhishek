{
 "cells": [
  {
   "cell_type": "code",
   "execution_count": 1,
   "id": "04b450ae-ce1c-46c0-8fab-3cd7dbba22b1",
   "metadata": {},
   "outputs": [],
   "source": [
    "# > < > >= <= == != these are comparative operatrs"
   ]
  },
  {
   "cell_type": "code",
   "execution_count": 2,
   "id": "564f701d-4fb4-4cc8-8d26-c67680144f8e",
   "metadata": {},
   "outputs": [
    {
     "name": "stdout",
     "output_type": "stream",
     "text": [
      "True\n",
      "False\n",
      "False\n",
      "True\n",
      "False\n",
      "True\n"
     ]
    }
   ],
   "source": [
    "a=10\n",
    "print (5<a)\n",
    "print (a<5)\n",
    "print (a <= 5)\n",
    "print (a>=5)\n",
    "print (a==5)\n",
    "print ( a != 5)"
   ]
  },
  {
   "cell_type": "code",
   "execution_count": 3,
   "id": "53875bab-c839-4ccf-a0b7-2d2c7d3b7c99",
   "metadata": {},
   "outputs": [
    {
     "data": {
      "text/plain": [
       "'C:\\\\Users\\\\Administrator\\\\Python_6_30'"
      ]
     },
     "execution_count": 3,
     "metadata": {},
     "output_type": "execute_result"
    }
   ],
   "source": [
    "pwd"
   ]
  },
  {
   "cell_type": "code",
   "execution_count": 4,
   "id": "3ffc5fab-350f-4e6d-bf5e-a67a24f97065",
   "metadata": {},
   "outputs": [],
   "source": [
    "# if  <condition > : \n",
    "#     <operation>\n",
    "# elif <condiiton>:\n",
    "#      <operaiton>\n",
    "# ...\n",
    "# ..\n",
    "# .\n",
    "# else:\n",
    "#     <operation>"
   ]
  },
  {
   "cell_type": "code",
   "execution_count": 7,
   "id": "0835756c-663b-412f-961c-0da055a2e0df",
   "metadata": {},
   "outputs": [
    {
     "name": "stdout",
     "output_type": "stream",
     "text": [
      "a is greater than 5\n"
     ]
    }
   ],
   "source": [
    "a =10\n",
    "if a>5:\n",
    "    print (\"a is greater than 5\")\n",
    "else:\n",
    "    print (\"a is smaller than 5\")"
   ]
  },
  {
   "cell_type": "code",
   "execution_count": 10,
   "id": "26dad424-de53-4ae8-8e12-877692a6742e",
   "metadata": {},
   "outputs": [
    {
     "name": "stdin",
     "output_type": "stream",
     "text": [
      "enter value of a  0\n"
     ]
    },
    {
     "name": "stdout",
     "output_type": "stream",
     "text": [
      "0  is even number\n"
     ]
    }
   ],
   "source": [
    "# 10%2=-0\n",
    "a=int (input(\"enter value of a \"))\n",
    "if a%2==0:\n",
    "    print (a , \" is even number\")\n",
    "else:\n",
    "    print(a,\"is odd number\")"
   ]
  },
  {
   "cell_type": "code",
   "execution_count": 14,
   "id": "cc53cb4f-8b62-48fb-b325-283b87b389fe",
   "metadata": {},
   "outputs": [
    {
     "name": "stdin",
     "output_type": "stream",
     "text": [
      "enter value of a 9\n",
      "enter value of b 9\n"
     ]
    },
    {
     "name": "stdout",
     "output_type": "stream",
     "text": [
      " a and b are equal\n"
     ]
    }
   ],
   "source": [
    "a= int (input(\"enter value of a\"))\n",
    "b=int ( input (\"enter value of b\"))\n",
    "if a> b:\n",
    "    print (\"a is greater than b\")\n",
    "elif b > a : \n",
    "    print (\"b is greater than a\")\n",
    "else:\n",
    "    print(\" a and b are equal\")\n",
    "          "
   ]
  },
  {
   "cell_type": "code",
   "execution_count": 18,
   "id": "540500d6-d519-4664-b1e0-80b5cd26ae43",
   "metadata": {},
   "outputs": [
    {
     "name": "stdin",
     "output_type": "stream",
     "text": [
      "enter physic marks =  70\n",
      "enter Chemistry marks =  72\n",
      "enter Biology marks =  75\n",
      "enter Math marks =  74\n",
      "enter english mark =  0\n"
     ]
    },
    {
     "name": "stdout",
     "output_type": "stream",
     "text": [
      "Your total marks =  291\n",
      "Your percentage is=  58.199999999999996 %\n",
      "you have achived third division\n"
     ]
    }
   ],
   "source": [
    "## write a program to calculate total percentage of +2 science  student \n",
    "\n",
    "P= int (input (\"enter physic marks = \"))\n",
    "C= int (input (\"enter Chemistry marks = \"))\n",
    "B= int (input (\"enter Biology marks = \"))\n",
    "M= int (input (\"enter Math marks = \"))\n",
    "E= int (input (\"enter english mark = \"))\n",
    "Total= P+C+B+M+E\n",
    "R= Total / 500 *100\n",
    "print (\"Your total marks = \" , Total)\n",
    "print ( \"Your percentage is= \" , R ,\"%\")\n",
    "if R>80:\n",
    "    print (\"You have achieved distinction\")\n",
    "elif (R<=80 and R>70):\n",
    "    print (\"you have achieved first division\")\n",
    "elif (R <= 70 and R > 60):\n",
    "    print (\"you have achieved second division\")\n",
    "elif (R <=60 and R>50):\n",
    "    print (\"you have achived third division\")\n",
    "else:\n",
    "    print (\" you have failed\")\n"
   ]
  },
  {
   "cell_type": "code",
   "execution_count": null,
   "id": "ef28e11b-9e1a-4d56-b403-ad008bca38b7",
   "metadata": {},
   "outputs": [],
   "source": [
    "# logical Operators\n",
    "# and & \n",
    "# or |\n",
    "# not ^"
   ]
  },
  {
   "cell_type": "code",
   "execution_count": 22,
   "id": "7a90343d-5bc8-4ec0-87e9-8074a8228655",
   "metadata": {},
   "outputs": [
    {
     "name": "stdout",
     "output_type": "stream",
     "text": [
      "True\n",
      "False\n",
      "False\n",
      "False\n"
     ]
    }
   ],
   "source": [
    "#and \n",
    "print (True and True)\n",
    "print (True and False)\n",
    "print (False and True)\n",
    "print (False and False)\n"
   ]
  },
  {
   "cell_type": "code",
   "execution_count": 24,
   "id": "6c58e845-3b8f-4c11-8ec2-04e914a3a4a6",
   "metadata": {},
   "outputs": [
    {
     "name": "stdout",
     "output_type": "stream",
     "text": [
      "True\n",
      "True\n",
      "True\n",
      "False\n"
     ]
    }
   ],
   "source": [
    "#or\n",
    "print (True or True)\n",
    "print (True or False)\n",
    "print (False or True)\n",
    "print (False or False)"
   ]
  },
  {
   "cell_type": "markdown",
   "id": "d2b96b9a-c04e-4ca8-8298-52217b17bf54",
   "metadata": {},
   "source": [
    "### Write a program to create a basic calculator \n",
    "#a=?\n",
    "#b=?\n",
    "#o= ?\n",
    "\n",
    "a=int (input(\"enter value of a\"))\n",
    "b= int( input (\"enter value of b\"))\n",
    "o=str ( input (\"enter value of o\"))\n",
    "if o ==\"+\":\n",
    "    print(a+b)\n",
    "elif o == \"-\":\n",
    "    print(a-b)\n",
    "elif o==\"*\":\n",
    "    print(a*b)\n",
    "elif o ==\"/\":\n",
    "    print(a/b)\n",
    "else:\n",
    "    print(\"Invalid Operator\")\n",
    "\n",
    "\n",
    "\n",
    "    "
   ]
  },
  {
   "cell_type": "code",
   "execution_count": null,
   "id": "68ba0e1c-e292-4f68-bf00-5f4a39c25015",
   "metadata": {},
   "outputs": [],
   "source": []
  },
  {
   "cell_type": "code",
   "execution_count": null,
   "id": "45a18f1c-776a-4996-a21b-65019ce92e9b",
   "metadata": {},
   "outputs": [],
   "source": []
  },
  {
   "cell_type": "code",
   "execution_count": null,
   "id": "1d6b32ac-ef19-4d7e-b304-9b2827f5b6cf",
   "metadata": {},
   "outputs": [],
   "source": []
  },
  {
   "cell_type": "code",
   "execution_count": null,
   "id": "ee3009f4-0c7f-4c52-8734-2a79801780c8",
   "metadata": {},
   "outputs": [],
   "source": []
  },
  {
   "cell_type": "code",
   "execution_count": null,
   "id": "229fa693-3442-4c82-b504-f8034956647e",
   "metadata": {},
   "outputs": [],
   "source": []
  },
  {
   "cell_type": "code",
   "execution_count": null,
   "id": "740fb39a-76d9-4080-89b1-4c2b632f3cb1",
   "metadata": {},
   "outputs": [],
   "source": []
  },
  {
   "cell_type": "code",
   "execution_count": null,
   "id": "3cc84c9b-ea32-4cfe-aa23-746227098bdf",
   "metadata": {},
   "outputs": [],
   "source": []
  },
  {
   "cell_type": "code",
   "execution_count": 7,
   "id": "342cb5aa-4a9e-4707-99e7-fbd3aa8f35ec",
   "metadata": {},
   "outputs": [
    {
     "name": "stdin",
     "output_type": "stream",
     "text": [
      "enter value of a 3\n",
      "enter value of b 2\n",
      "enter value of o /\n"
     ]
    },
    {
     "name": "stdout",
     "output_type": "stream",
     "text": [
      "1.5\n"
     ]
    }
   ],
   "source": [
    "#Write a program to create a basic calculator \n",
    "#a=?\n",
    "#b=?\n",
    "#o= ?\n",
    "\n",
    "a=int (input(\"enter value of a\"))\n",
    "b= int( input (\"enter value of b\"))\n",
    "o=str ( input (\"enter value of o\"))\n",
    "if o ==\"+\":\n",
    "    print(a+b)\n",
    "elif o == \"-\":\n",
    "    print(a-b)\n",
    "elif o==\"*\":\n",
    "    print(a*b)\n",
    "elif o == \"/\" and b!=0:\n",
    "    print (a/b)\n",
    "elif o ==\"/\" and b==0:\n",
    "    print (\"The value of b cannot be zero\")\n",
    "else:\n",
    "    print(\"Invalid Operator\")"
   ]
  },
  {
   "cell_type": "code",
   "execution_count": null,
   "id": "efe78042-6501-4bec-b73f-57c39d900cb8",
   "metadata": {},
   "outputs": [],
   "source": []
  },
  {
   "cell_type": "code",
   "execution_count": null,
   "id": "68235159-9fdd-4cbe-8a1f-820033167b79",
   "metadata": {},
   "outputs": [],
   "source": [
    "# nested if else \n"
   ]
  },
  {
   "cell_type": "code",
   "execution_count": null,
   "id": "e85dfcaf-4115-47fa-8004-46cf93fa7627",
   "metadata": {},
   "outputs": [],
   "source": [
    "# if < condition>:\n",
    "#     if <condition>:\n",
    "#         <operation>\n",
    "#     else:\n",
    "#         <operaiton>"
   ]
  },
  {
   "cell_type": "code",
   "execution_count": 8,
   "id": "dae01755-1b87-4e57-8891-afe67074e422",
   "metadata": {},
   "outputs": [],
   "source": [
    "# a + or - even or odd\n"
   ]
  },
  {
   "cell_type": "code",
   "execution_count": 17,
   "id": "97a9c294-c2cb-47bc-8b57-9625efa6a5b3",
   "metadata": {},
   "outputs": [
    {
     "name": "stdin",
     "output_type": "stream",
     "text": [
      "enter a=  10\n"
     ]
    },
    {
     "name": "stdout",
     "output_type": "stream",
     "text": [
      "a is a postitive and even number\n"
     ]
    }
   ],
   "source": [
    "a=int(input(\"enter a= \"))\n",
    "if a>=0:\n",
    "    if a%2==0:\n",
    "        print (\"a is a postitive and even number\")\n",
    "    else:\n",
    "        print (\"a is positivr and odd number\")\n",
    "else:\n",
    "    if a%2==0:\n",
    "        print (\"a is negative and even number\")\n",
    "    else:\n",
    "        print (\"a is negatve and odd number\")\n",
    "      "
   ]
  },
  {
   "cell_type": "code",
   "execution_count": null,
   "id": "9e3337ea-efc1-4955-af33-5517ab536f52",
   "metadata": {},
   "outputs": [],
   "source": []
  },
  {
   "cell_type": "code",
   "execution_count": null,
   "id": "e0b056aa-084b-4039-919e-f9556b25e012",
   "metadata": {},
   "outputs": [],
   "source": []
  },
  {
   "cell_type": "code",
   "execution_count": null,
   "id": "ebfa285f-d6bd-4c0b-a48c-fffb3e542e5b",
   "metadata": {},
   "outputs": [],
   "source": []
  },
  {
   "cell_type": "code",
   "execution_count": null,
   "id": "f826a427-83c0-4511-a11e-0039f0cb19d3",
   "metadata": {},
   "outputs": [],
   "source": []
  },
  {
   "cell_type": "code",
   "execution_count": null,
   "id": "5a3e7c6f-0bc3-4c95-b598-7daa31b630a1",
   "metadata": {},
   "outputs": [],
   "source": []
  },
  {
   "cell_type": "code",
   "execution_count": null,
   "id": "97aafb24-26f8-4718-bd19-f110a2eab259",
   "metadata": {},
   "outputs": [],
   "source": []
  },
  {
   "cell_type": "code",
   "execution_count": null,
   "id": "0b21d6ae-025d-4afb-96d6-6f55323f4852",
   "metadata": {},
   "outputs": [],
   "source": []
  },
  {
   "cell_type": "code",
   "execution_count": null,
   "id": "260fa983-b663-4889-b745-369fca618c09",
   "metadata": {},
   "outputs": [],
   "source": []
  },
  {
   "cell_type": "code",
   "execution_count": null,
   "id": "369ec940-8ea8-4557-b80b-65e6c4ffdefb",
   "metadata": {},
   "outputs": [],
   "source": []
  },
  {
   "cell_type": "code",
   "execution_count": null,
   "id": "9b45a99d-ce85-4e2d-acc3-a4a335589879",
   "metadata": {},
   "outputs": [],
   "source": []
  },
  {
   "cell_type": "code",
   "execution_count": null,
   "id": "2711d8e2-fd7d-49fc-a9f3-c6fb438557c6",
   "metadata": {},
   "outputs": [],
   "source": []
  },
  {
   "cell_type": "code",
   "execution_count": null,
   "id": "6262729e-b166-4ba8-a7ca-86df5c4b8e7b",
   "metadata": {},
   "outputs": [],
   "source": []
  },
  {
   "cell_type": "code",
   "execution_count": null,
   "id": "c30d27ff-2f67-41d7-9e94-eb102aebfe02",
   "metadata": {},
   "outputs": [],
   "source": []
  },
  {
   "cell_type": "code",
   "execution_count": null,
   "id": "b38a2054-af55-45d0-9267-3ddf23827db2",
   "metadata": {},
   "outputs": [],
   "source": []
  },
  {
   "cell_type": "code",
   "execution_count": null,
   "id": "5b488d2d-aee2-4b4c-97f2-c91f7a18984d",
   "metadata": {},
   "outputs": [],
   "source": []
  },
  {
   "cell_type": "code",
   "execution_count": null,
   "id": "40289d83-baa1-48c5-8926-61f0db1c0e5b",
   "metadata": {},
   "outputs": [],
   "source": []
  },
  {
   "cell_type": "code",
   "execution_count": null,
   "id": "65753608-85e9-48b9-978d-d54fc89cf45f",
   "metadata": {},
   "outputs": [],
   "source": []
  },
  {
   "cell_type": "code",
   "execution_count": null,
   "id": "d0ae6b80-7c82-4036-b6c0-9c590d71ff62",
   "metadata": {},
   "outputs": [],
   "source": []
  },
  {
   "cell_type": "code",
   "execution_count": null,
   "id": "76c26e5d-b33d-46f4-a156-81c3affc4e32",
   "metadata": {},
   "outputs": [],
   "source": []
  },
  {
   "cell_type": "code",
   "execution_count": null,
   "id": "da2cb185-feb5-47ec-b720-c3fff93a98c7",
   "metadata": {},
   "outputs": [],
   "source": []
  },
  {
   "cell_type": "code",
   "execution_count": null,
   "id": "cdad0cd4-f418-4f85-ae55-07941fe05fdd",
   "metadata": {},
   "outputs": [],
   "source": []
  },
  {
   "cell_type": "code",
   "execution_count": null,
   "id": "18645396-bf1f-4e07-a106-b188c22619db",
   "metadata": {},
   "outputs": [],
   "source": []
  },
  {
   "cell_type": "code",
   "execution_count": null,
   "id": "65515a09-c80c-42fb-9711-bb3e40c8379f",
   "metadata": {},
   "outputs": [],
   "source": []
  },
  {
   "cell_type": "code",
   "execution_count": null,
   "id": "3c70fb8d-91bc-4822-9791-c1a9f1fd3f47",
   "metadata": {},
   "outputs": [],
   "source": []
  },
  {
   "cell_type": "code",
   "execution_count": null,
   "id": "69cb83cd-c244-4683-bfc8-279132c838c8",
   "metadata": {},
   "outputs": [],
   "source": []
  }
 ],
 "metadata": {
  "kernelspec": {
   "display_name": "Python 3 (ipykernel)",
   "language": "python",
   "name": "python3"
  },
  "language_info": {
   "codemirror_mode": {
    "name": "ipython",
    "version": 3
   },
   "file_extension": ".py",
   "mimetype": "text/x-python",
   "name": "python",
   "nbconvert_exporter": "python",
   "pygments_lexer": "ipython3",
   "version": "3.12.7"
  }
 },
 "nbformat": 4,
 "nbformat_minor": 5
}
