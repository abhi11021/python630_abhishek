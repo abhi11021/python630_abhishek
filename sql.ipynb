{
 "cells": [
  {
   "cell_type": "code",
   "execution_count": 1,
   "id": "78e3255e-19b5-4c2c-9314-6b20ab9277c4",
   "metadata": {},
   "outputs": [
    {
     "name": "stdout",
     "output_type": "stream",
     "text": [
      "Requirement already satisfied: mysql-connector-python in c:\\users\\administrator\\anaconda3\\lib\\site-packages (9.2.0)\n"
     ]
    }
   ],
   "source": [
    "!pip install mysql-connector-python"
   ]
  },
  {
   "cell_type": "code",
   "execution_count": 1,
   "id": "2a81e59c-a563-4855-a628-018f04d1c04f",
   "metadata": {},
   "outputs": [],
   "source": [
    "import mysql.connector  \t\t#importing database\n",
    "database = mysql.connector.connect(\n",
    "    host=\"localhost\",\n",
    "    user=\"root\",\n",
    "    password=\"\",\n",
    "    database = \"python_630am\"\n",
    ")\n",
    "db = database.cursor()\n"
   ]
  },
  {
   "cell_type": "code",
   "execution_count": null,
   "id": "4f2b9501-8727-4552-a395-05e5e977618d",
   "metadata": {},
   "outputs": [],
   "source": []
  },
  {
   "cell_type": "code",
   "execution_count": null,
   "id": "43149779-6321-42cb-ac8a-4b1ef7910197",
   "metadata": {},
   "outputs": [],
   "source": []
  },
  {
   "cell_type": "code",
   "execution_count": 4,
   "id": "ecdce268-3a4d-49cf-bc92-fd3291ac62ee",
   "metadata": {},
   "outputs": [
    {
     "name": "stdout",
     "output_type": "stream",
     "text": [
      "(1, 'Ram', 79, 80, 90, 78, 77, 404, 80.8, 'A')\n",
      "(2, 'Shyam', 79, 80, 90, 78, 77, 404, 80.8, 'A')\n",
      "(3, 'Shyama', 90, 90, 89, 88, 88, 459, 89.0, 'A')\n",
      "(4, 'Hari', 69, 79, 89, 77, 67, 400, 77.0, 'B')\n",
      "(5, 'Ramay', 69, 79, 89, 77, 67, 400, 77.0, 'B')\n",
      "(6, 'Sita', 68, 78, 88, 67, 66, 400, 77.0, 'B')\n"
     ]
    }
   ],
   "source": [
    "db.execute(\"SELECT * FROM student\")\n",
    "result = db.fetchall()\n",
    "for x in result:\n",
    "    print(x)"
   ]
  },
  {
   "cell_type": "code",
   "execution_count": 5,
   "id": "fbf106bd-c9d4-409d-b1bd-8a98d28a8656",
   "metadata": {},
   "outputs": [
    {
     "name": "stdout",
     "output_type": "stream",
     "text": [
      "1 record inserted.\n"
     ]
    }
   ],
   "source": [
    "#insert data into table\n",
    "sql = ''' INSERT INTO student (sn, name, physics, chemistry, math, english, nepali, total, per, grade)\n",
    "VALUES (24, 'Ram', 78, 77, 99, 88, 87, 400, 78, 'B');'''\n",
    "db.execute(sql)\n",
    "database.commit()\n",
    "print(db.rowcount, \"record inserted.\")"
   ]
  },
  {
   "cell_type": "code",
   "execution_count": 9,
   "id": "21b1c9ca-e8c7-493d-b7f4-b5166224be68",
   "metadata": {},
   "outputs": [
    {
     "name": "stdout",
     "output_type": "stream",
     "text": [
      "0 record(s) affected\n"
     ]
    }
   ],
   "source": [
    "#update in sql\n",
    "sql=\"UPDATE student SET name='Rama' WHERE sn=2\"\n",
    "db.execute(sql)\n",
    "database.commit()\n",
    "print(db.rowcount,\"record(s) affected\")"
   ]
  },
  {
   "cell_type": "code",
   "execution_count": 10,
   "id": "5238a96c-6914-45f6-a288-742d1da91948",
   "metadata": {},
   "outputs": [
    {
     "name": "stdout",
     "output_type": "stream",
     "text": [
      "1 record(s) affected\n"
     ]
    }
   ],
   "source": [
    "#update in sql\n",
    "sql=\"UPDATE student SET name='Rama' ,grade='B' WHERE sn=2\"\n",
    "db.execute(sql)\n",
    "database.commit()\n",
    "print(db.rowcount,\"record(s) affected\")"
   ]
  },
  {
   "cell_type": "code",
   "execution_count": 19,
   "id": "b1aaa98d-25d6-491f-a085-b674b74c66b9",
   "metadata": {},
   "outputs": [
    {
     "name": "stdin",
     "output_type": "stream",
     "text": [
      "Enter name= Ram\n",
      "enter sn= 2\n"
     ]
    },
    {
     "name": "stdout",
     "output_type": "stream",
     "text": [
      "1 record(s) affected\n"
     ]
    }
   ],
   "source": [
    "#update in sql\n",
    "name=input(\"Enter name=\")\n",
    "sn=int(input(\"enter sn=\"))\n",
    "sql=f\"UPDATE student SET name='{name}' WHERE sn={sn}\"\n",
    "db.execute(sql)\n",
    "database.commit()\n",
    "print(db.rowcount,\"record(s) affected\")\n"
   ]
  },
  {
   "cell_type": "code",
   "execution_count": null,
   "id": "181abf14-03e6-42d1-809a-484cfba92a50",
   "metadata": {},
   "outputs": [],
   "source": []
  },
  {
   "cell_type": "code",
   "execution_count": null,
   "id": "c5a5c87a-bdeb-46db-880b-41c6d794bd4c",
   "metadata": {},
   "outputs": [],
   "source": []
  },
  {
   "cell_type": "code",
   "execution_count": null,
   "id": "13ad3f5d-7b1e-42e6-8734-85c0f23e460d",
   "metadata": {},
   "outputs": [],
   "source": []
  },
  {
   "cell_type": "code",
   "execution_count": null,
   "id": "c558473b-6c30-4023-ad47-ee6d8241f96f",
   "metadata": {},
   "outputs": [],
   "source": []
  },
  {
   "cell_type": "code",
   "execution_count": null,
   "id": "880c8508-0662-4bbc-b76b-15beffeb5a06",
   "metadata": {},
   "outputs": [],
   "source": []
  },
  {
   "cell_type": "code",
   "execution_count": null,
   "id": "0c0364e1-1a3e-4902-9e2c-ce626128cba1",
   "metadata": {},
   "outputs": [],
   "source": []
  },
  {
   "cell_type": "code",
   "execution_count": null,
   "id": "a42523fc-1f87-45fb-88bd-e4bb35658b98",
   "metadata": {},
   "outputs": [],
   "source": []
  },
  {
   "cell_type": "code",
   "execution_count": null,
   "id": "0ae00b6b-9ef0-4a64-9e69-9fb0a90a3167",
   "metadata": {},
   "outputs": [],
   "source": []
  },
  {
   "cell_type": "code",
   "execution_count": 2,
   "id": "94b669ed-581f-4259-82d0-573c5eb30b40",
   "metadata": {},
   "outputs": [
    {
     "name": "stdout",
     "output_type": "stream",
     "text": [
      "('Ram', 404, 'A')\n",
      "('Shyama', 459, 'A')\n"
     ]
    }
   ],
   "source": [
    "# Select\n",
    "db.execute(\"SELECT name,total,grade FROM student WHERE grade = 'A'\")\n",
    "result =db.fetchall()\n",
    "for x in result:\n",
    "    print(x)\n"
   ]
  },
  {
   "cell_type": "code",
   "execution_count": 2,
   "id": "60f4e053-5401-4717-9169-da0f44a837c8",
   "metadata": {},
   "outputs": [
    {
     "name": "stdout",
     "output_type": "stream",
     "text": [
      "(1, 'Ram', 79, 80, 90, 78, 77, 404, 80.8, 'A')\n",
      "(2, 'Rama', 79, 80, 90, 78, 77, 404, 80.8, 'B')\n",
      "(3, 'Shyama', 90, 90, 89, 88, 88, 459, 89.0, 'A')\n",
      "(4, 'Hari', 69, 79, 89, 77, 67, 400, 77.0, 'B')\n",
      "(5, 'Ramay', 69, 79, 89, 77, 67, 400, 77.0, 'B')\n",
      "(6, 'Sita', 68, 78, 88, 67, 66, 400, 77.0, 'B')\n",
      "(24, 'Ram', 78, 77, 99, 88, 87, 400, 78.0, 'B')\n"
     ]
    }
   ],
   "source": [
    "# Select\n",
    "db.execute(\"SELECT * FROM student WHERE physics > 60\")\n",
    "result =db.fetchall()\n",
    "for x in result:\n",
    "    print(x)\n"
   ]
  },
  {
   "cell_type": "code",
   "execution_count": null,
   "id": "23a49b3d-922a-4524-8c3c-db3c0e0948f0",
   "metadata": {},
   "outputs": [],
   "source": []
  },
  {
   "cell_type": "code",
   "execution_count": null,
   "id": "ed2a6210-d6e7-406a-95e6-44ed2a25fc32",
   "metadata": {},
   "outputs": [],
   "source": []
  },
  {
   "cell_type": "code",
   "execution_count": 3,
   "id": "fde98cd0-5e70-448c-93ea-6032607711a6",
   "metadata": {},
   "outputs": [],
   "source": [
    "database.commit()"
   ]
  },
  {
   "cell_type": "code",
   "execution_count": null,
   "id": "695a268e-cb7e-409e-9ca3-444f64795a02",
   "metadata": {},
   "outputs": [],
   "source": []
  },
  {
   "cell_type": "code",
   "execution_count": null,
   "id": "e96410ab-4a52-431e-a433-600484ba54f8",
   "metadata": {},
   "outputs": [],
   "source": []
  },
  {
   "cell_type": "code",
   "execution_count": 4,
   "id": "b097e873-d9da-4ca8-93e7-5987fc043a77",
   "metadata": {},
   "outputs": [
    {
     "name": "stdout",
     "output_type": "stream",
     "text": [
      "(1, 'Ram', 79, 80, 90, 78, 77, 404, 80.8, 'A')\n",
      "(2, 'Rama', 79, 80, 90, 78, 77, 404, 80.8, 'B')\n",
      "(5, 'Ramay', 69, 79, 89, 77, 67, 400, 77.0, 'B')\n",
      "(24, 'Ram', 78, 77, 99, 88, 87, 400, 78.0, 'B')\n"
     ]
    }
   ],
   "source": [
    "# search\n",
    "db.execute(\"SELECT * FROM student WHERE name LIKE '%ram%'\") #selects name similar to ram\n",
    "result =db.fetchall()\n",
    "for x in result:\n",
    "    print(x)"
   ]
  },
  {
   "cell_type": "code",
   "execution_count": 8,
   "id": "43379a1d-91de-4c4a-9e5b-da7f493ae0df",
   "metadata": {},
   "outputs": [
    {
     "name": "stdout",
     "output_type": "stream",
     "text": [
      "(1, 'Ram', 79, 80, 90, 78, 77, 404, 80.8, 'A')\n",
      "(2, 'Rama', 79, 80, 90, 78, 77, 404, 80.8, 'B')\n"
     ]
    }
   ],
   "source": [
    "#select\n",
    "db.execute(\"SELECT *FROM student WHERE physics>70 and chemistry=80\")\n",
    "result=db.fetchall()\n",
    "for x in result:\n",
    "    print(x)"
   ]
  },
  {
   "cell_type": "code",
   "execution_count": 9,
   "id": "f4924ba3-403f-4d60-bd1d-c1992ae8700c",
   "metadata": {},
   "outputs": [
    {
     "name": "stdout",
     "output_type": "stream",
     "text": [
      "(3, 'Shyama', 90, 90, 89, 88, 88, 459, 89.0, 'A')\n",
      "(1, 'Ram', 79, 80, 90, 78, 77, 404, 80.8, 'A')\n",
      "(2, 'Rama', 79, 80, 90, 78, 77, 404, 80.8, 'B')\n",
      "(4, 'Hari', 69, 79, 89, 77, 67, 400, 77.0, 'B')\n",
      "(5, 'Ramay', 69, 79, 89, 77, 67, 400, 77.0, 'B')\n",
      "(6, 'Sita', 68, 78, 88, 67, 66, 400, 77.0, 'B')\n",
      "(24, 'Ram', 78, 77, 99, 88, 87, 400, 78.0, 'B')\n"
     ]
    }
   ],
   "source": [
    "#select\n",
    "db.execute(\"SELECT *FROM student ORDER BY total DESC\")\n",
    "result=db.fetchall()\n",
    "for x in result:\n",
    "    print(x)\n",
    "\n"
   ]
  },
  {
   "cell_type": "code",
   "execution_count": 11,
   "id": "53442045-e6eb-4b53-9471-398a02f30fa3",
   "metadata": {},
   "outputs": [
    {
     "name": "stdout",
     "output_type": "stream",
     "text": [
      "(3, 'Shyama', 90, 90, 89, 88, 88, 459, 89.0, 'A')\n",
      "(2, 'Rama', 79, 80, 90, 78, 77, 404, 80.8, 'B')\n"
     ]
    }
   ],
   "source": [
    "#select\n",
    "db.execute(\"SELECT *FROM student ORDER BY total DESC LIMIT 2\")\n",
    "result=db.fetchall()\n",
    "for x in result:\n",
    "    print(x)"
   ]
  },
  {
   "cell_type": "code",
   "execution_count": null,
   "id": "8ba2b663-f140-4ef2-bb9a-834fb99f3345",
   "metadata": {},
   "outputs": [],
   "source": []
  },
  {
   "cell_type": "code",
   "execution_count": null,
   "id": "ac0ed009-b636-4f96-b790-19445e7393a5",
   "metadata": {},
   "outputs": [],
   "source": []
  },
  {
   "cell_type": "code",
   "execution_count": null,
   "id": "7abc7fff-3b30-4033-993c-53bbedbaa904",
   "metadata": {},
   "outputs": [],
   "source": []
  },
  {
   "cell_type": "code",
   "execution_count": null,
   "id": "f680f8ae-1cfc-4787-99ce-1947064b3d57",
   "metadata": {},
   "outputs": [],
   "source": []
  },
  {
   "cell_type": "code",
   "execution_count": null,
   "id": "f526f145-dcf8-4e0f-afb7-feef17dd8cb9",
   "metadata": {},
   "outputs": [],
   "source": []
  },
  {
   "cell_type": "code",
   "execution_count": null,
   "id": "b29af32d-5ecf-4165-8458-67a6277c49b4",
   "metadata": {},
   "outputs": [],
   "source": []
  },
  {
   "cell_type": "code",
   "execution_count": null,
   "id": "57d76387-ae08-42ec-98eb-b548cc983f75",
   "metadata": {},
   "outputs": [],
   "source": []
  },
  {
   "cell_type": "code",
   "execution_count": null,
   "id": "8fc6aeab-8486-4722-98d6-2d17cb206a75",
   "metadata": {},
   "outputs": [],
   "source": []
  },
  {
   "cell_type": "code",
   "execution_count": null,
   "id": "85a638fc-4f5a-4487-83af-230809e5a1d2",
   "metadata": {},
   "outputs": [],
   "source": []
  },
  {
   "cell_type": "code",
   "execution_count": null,
   "id": "53883803-ed88-42c7-b806-109dc22e2496",
   "metadata": {},
   "outputs": [],
   "source": []
  },
  {
   "cell_type": "code",
   "execution_count": null,
   "id": "1f9fe5b4-eb86-45f7-a20b-e9c619913ed1",
   "metadata": {},
   "outputs": [],
   "source": []
  },
  {
   "cell_type": "code",
   "execution_count": null,
   "id": "64d0c5c1-357e-419c-8ee4-3cb5d7ac8cbf",
   "metadata": {},
   "outputs": [],
   "source": []
  },
  {
   "cell_type": "code",
   "execution_count": null,
   "id": "22f63dbc-6849-47f0-b665-de753749a7fc",
   "metadata": {},
   "outputs": [],
   "source": []
  },
  {
   "cell_type": "code",
   "execution_count": null,
   "id": "0a614831-8b8c-4234-9728-957063fe3943",
   "metadata": {},
   "outputs": [],
   "source": []
  },
  {
   "cell_type": "code",
   "execution_count": null,
   "id": "b4360ba4-44b7-423d-b34d-22c8f8addc1c",
   "metadata": {},
   "outputs": [],
   "source": []
  },
  {
   "cell_type": "code",
   "execution_count": null,
   "id": "3703a1f8-64a7-4557-9561-33b663505726",
   "metadata": {},
   "outputs": [],
   "source": []
  },
  {
   "cell_type": "code",
   "execution_count": null,
   "id": "15ebad4d-4846-48df-9d64-5405a03df08c",
   "metadata": {},
   "outputs": [],
   "source": []
  },
  {
   "cell_type": "code",
   "execution_count": null,
   "id": "3579a01d-5826-4472-8fe0-8ebc728952bd",
   "metadata": {},
   "outputs": [],
   "source": []
  },
  {
   "cell_type": "code",
   "execution_count": null,
   "id": "55a93d02-0186-49d8-a7f2-24192ed258c1",
   "metadata": {},
   "outputs": [],
   "source": []
  },
  {
   "cell_type": "code",
   "execution_count": null,
   "id": "d7c13af8-72c9-447e-a73b-0de91c838f87",
   "metadata": {},
   "outputs": [],
   "source": []
  },
  {
   "cell_type": "code",
   "execution_count": null,
   "id": "2beafd81-3503-4451-9f02-f52249b1a181",
   "metadata": {},
   "outputs": [],
   "source": []
  },
  {
   "cell_type": "code",
   "execution_count": null,
   "id": "c31ae924-12c0-4c25-9361-92b30384d9e7",
   "metadata": {},
   "outputs": [],
   "source": []
  },
  {
   "cell_type": "code",
   "execution_count": null,
   "id": "c5cdde3a-3c18-4bd0-ae37-d046bfd7f680",
   "metadata": {},
   "outputs": [],
   "source": []
  }
 ],
 "metadata": {
  "kernelspec": {
   "display_name": "Python 3 (ipykernel)",
   "language": "python",
   "name": "python3"
  },
  "language_info": {
   "codemirror_mode": {
    "name": "ipython",
    "version": 3
   },
   "file_extension": ".py",
   "mimetype": "text/x-python",
   "name": "python",
   "nbconvert_exporter": "python",
   "pygments_lexer": "ipython3",
   "version": "3.12.7"
  }
 },
 "nbformat": 4,
 "nbformat_minor": 5
}
